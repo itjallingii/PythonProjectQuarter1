{
 "cells": [
  {
   "cell_type": "code",
   "execution_count": 4,
   "metadata": {},
   "outputs": [],
   "source": [
    "import pandas as pd\n",
    "import numpy as np\n",
    "import matplotlib.pyplot as plt\n",
    "from pathlib import Path\n",
    "import os\n",
    "plt.style.use('ggplot')"
   ]
  },
  {
   "cell_type": "code",
   "execution_count": 5,
   "metadata": {},
   "outputs": [],
   "source": [
    "os.chdir(\"C://Users//ivarnieuwepc//Documents//GitHub//Data\")"
   ]
  },
  {
   "cell_type": "code",
   "execution_count": 8,
   "metadata": {},
   "outputs": [],
   "source": [
    "#read all tables\n",
    "df_emd_world = pd.read_csv(\"Disaster Data whole world 1960 - 2018.csv\", sep = ';',encoding = 'latin-1')\n",
    "#names\n",
    "#population\n",
    "#undernourishment"
   ]
  },
  {
   "cell_type": "markdown",
   "metadata": {},
   "source": [
    "### INFO FAO OVER LOW & MIDDLE INCOME COUNTRIES (nog omschrijven naar eigen verhaal)\n",
    "NOTES: Low- and middle-income countries with high exposure are defined as exposed to climate extremes (heat, drought, floods and storms) for more than 66 percent of the time, i.e. more than three years in the period 2011–2016. The estimates in the figure refer to unweighted population average of the prevalence of undernourishment in a sample of 51 low- and middle-income countries with high exposure to climate extremes in 2011–2016, for countries showing different combinations of vulnerabilities identified in Box 9 and for 77 low- and middle-income countries with low exposure to climate extremes. See Annex 2 for more detailed definitions and methodology of the different types of vulnerability to climate variability and extremes.\n",
    "\n",
    "Stappenplan indelen landen in wereld in dummy cattegorie:\n",
    "\n",
    "Countries with high exposure to climate extremes\n",
    "\n",
    "Defined as low- and middle-income countries and territories exposed to climate extremes for at least 66 percent of the time, or more than three out of six years during the most recent subperiod of six consecutive years (2011–2016). There are 51 low- and middle-income countries that meet these criteria.\n",
    "\n",
    "Countries with low exposure to climate extremes\n",
    "\n",
    "Defined as low- and middle-income countries and territories exposed to climate extremes for up to 50 percent of the time, or less than four out of six years during the most recent subperiod of six consecutive years (2011–2016). There are 78 low- and middle-income countries that meet these criteria.\n",
    "\n",
    "Deze variabele aanmaken op basis van EMD Data data. Daarna een regressie analyse doen op basis van gemiddelde undernourishment bij Low exposure en high exposure --> checken of verschil significant is. Dus of climate extremes significant bijdragen aan undernourisment"
   ]
  },
  {
   "cell_type": "code",
   "execution_count": 9,
   "metadata": {},
   "outputs": [],
   "source": [
    "#renaming environmental hazards dataframe to make it linkable with country information (see below)\n",
    "df_emd_world = df_emd_world.rename({'Country Code': 'iso','disaster type':'type'}, axis = 1)\n",
    "\n",
    "\n",
    "#only selecting the four hazards that influence agriculture (as definend by FAO 2017)\n",
    "types = [\"drought\",\"Flood\",\"Extreme temperature\", \"Storm\"]\n",
    "df_emd_all = df_emd_world[df_emd_world[\"type\"].isin(types)]\n",
    "\n",
    "#selecting right variables, period 2011 - 2016 and summate some variables per year and country (via iso)\n",
    "df_emd_all = df_emd_all.groupby([\"year\", \"iso\"])[['occurrence','Total deaths','Total affected','Total damage']].sum().reset_index()\n",
    "df_emd_all = df_emd_all[df_emd_all[\"year\"]<2017]\n",
    "df_2011_2016 = df_emd_all[df_emd_all[\"year\"]>2010]\n",
    "df_emd_done = df_2011_2016[[\"iso\",\"occurrence\"]]"
   ]
  },
  {
   "cell_type": "code",
   "execution_count": 12,
   "metadata": {
    "scrolled": true
   },
   "outputs": [],
   "source": [
    "#adding additional country information (about low & middle income groups)\n",
    "country_names = pd.read_csv(\"country_names.csv\", sep = ',')\n",
    "#dropping high income countries and countries without information about income group\n",
    "country_names = country_names[country_names[\"IncomeGroup\"]!='High income']\n",
    "country_names = country_names.dropna(axis=0, subset=['IncomeGroup']) \n",
    "#only keeping the columns with the right information\n",
    "country_names = country_names[[\"Country Code\",\"Region\",\"IncomeGroup\",\"TableName\"]]\n",
    "country_names = country_names.rename({'Country Code':'iso'}, axis=1)\n",
    "#merge dataframe about worldwide hazards only keeping low & middle income countries\n",
    "df_dummy = pd.merge(country_names,df_emd_done, right_on = 'iso',left_on = 'iso', how = 'inner')\n",
    "\n",
    "#calculating occurrence within period 2011-2016 and adding dummy variable for high exposure ([dummy]=1) and low exposure ([dummy]=0)\n",
    "df_dummy = df_2011_2016.groupby(['iso'])[[\"year\"]].count().reset_index()\n",
    "df_dummy['dummy'] = np.where(df_dummy['year']>4, 1, 0)\n",
    "df_dummy = df_dummy.rename({'year':'occurence'}, axis=1)\n",
    "#add country info back in \n",
    "df_dummy = pd.merge(df_dummy,country_names, left_on = 'iso', right_on = 'iso')"
   ]
  },
  {
   "cell_type": "code",
   "execution_count": 118,
   "metadata": {},
   "outputs": [
    {
     "name": "stderr",
     "output_type": "stream",
     "text": [
      "C:\\ProgramData\\Anaconda3\\lib\\site-packages\\ipykernel_launcher.py:11: FutureWarning: Method .as_matrix will be removed in a future version. Use .values instead.\n",
      "  # This is added back by InteractiveShellApp.init_path()\n",
      "C:\\ProgramData\\Anaconda3\\lib\\site-packages\\ipykernel_launcher.py:12: FutureWarning: Method .as_matrix will be removed in a future version. Use .values instead.\n",
      "  if sys.path[0] == '':\n"
     ]
    },
    {
     "data": {
      "text/plain": [
       "dummy\n",
       "0    10.802381\n",
       "1    14.083673\n",
       "Name: value, dtype: float64"
      ]
     },
     "execution_count": 118,
     "metadata": {},
     "output_type": "execute_result"
    }
   ],
   "source": [
    "#add undernourishment information (could also be done with whole WDI table)\n",
    "dfu = pd.read_csv(\"undernourisment_world.csv\", sep = ',')\n",
    "dfu = pd.melt(dfu, id_vars=['Country Name','Country Code','Indicator Name','Indicator Code'], var_name='Years')\n",
    "dfu = dfu.rename({'Country Code': 'iso'}, axis = 1)\n",
    "#put it into the dummy dataframe\n",
    "dfu = pd.merge(df_dummy,dfu,left_on = 'iso', right_on = 'iso')\n",
    "#only keeping year 2015 for the analysis\n",
    "dfu2015 = dfu[dfu['Years']=='2015']\n",
    "\n",
    "#extracting arrays for the independent T-Test Function\n",
    "low_hazard = dfu2015[dfu2015[\"dummy\"]==0][\"value\"].as_matrix()\n",
    "high_hazard = dfu2015[dfu2015[\"dummy\"]==1][\"value\"].as_matrix()\n",
    "\n",
    "#performing t-test\n",
    "t_test = stats.ttest_ind(low_hazardar, high_hazardar, nan_policy = 'omit')\n",
    "\n",
    "dfpop1 = pd.read_csv(\"population_conv.csv\",sep = ',')\n",
    "dfpop = pd.melt(dfpop1, id_vars=['Country Name','Country Code','Indicator Name','Indicator Code'], var_name='Years')"
   ]
  },
  {
   "cell_type": "code",
   "execution_count": 3,
   "metadata": {},
   "outputs": [
    {
     "ename": "FileNotFoundError",
     "evalue": "File b'population_conv.csv' does not exist",
     "output_type": "error",
     "traceback": [
      "\u001b[1;31m---------------------------------------------------------------------------\u001b[0m",
      "\u001b[1;31mFileNotFoundError\u001b[0m                         Traceback (most recent call last)",
      "\u001b[1;32m<ipython-input-3-d133be1840bc>\u001b[0m in \u001b[0;36m<module>\u001b[1;34m()\u001b[0m\n\u001b[0;32m      1\u001b[0m \u001b[1;31m#add population info to calculate total undernourished population\u001b[0m\u001b[1;33m\u001b[0m\u001b[1;33m\u001b[0m\u001b[0m\n\u001b[1;32m----> 2\u001b[1;33m \u001b[0mdfpop\u001b[0m \u001b[1;33m=\u001b[0m \u001b[0mpd\u001b[0m\u001b[1;33m.\u001b[0m\u001b[0mread_csv\u001b[0m\u001b[1;33m(\u001b[0m\u001b[1;34m\"population_conv.csv\"\u001b[0m\u001b[1;33m,\u001b[0m\u001b[0msep\u001b[0m \u001b[1;33m=\u001b[0m \u001b[1;34m','\u001b[0m\u001b[1;33m)\u001b[0m\u001b[1;33m\u001b[0m\u001b[0m\n\u001b[0m\u001b[0;32m      3\u001b[0m \u001b[0mdfpop\u001b[0m \u001b[1;33m=\u001b[0m \u001b[0mpd\u001b[0m\u001b[1;33m.\u001b[0m\u001b[0mmelt\u001b[0m\u001b[1;33m(\u001b[0m\u001b[0mdfpop1\u001b[0m\u001b[1;33m,\u001b[0m \u001b[0mid_vars\u001b[0m\u001b[1;33m=\u001b[0m\u001b[1;33m[\u001b[0m\u001b[1;34m'Country Name'\u001b[0m\u001b[1;33m,\u001b[0m\u001b[1;34m'Country Code'\u001b[0m\u001b[1;33m,\u001b[0m\u001b[1;34m'Indicator Name'\u001b[0m\u001b[1;33m,\u001b[0m\u001b[1;34m'Indicator Code'\u001b[0m\u001b[1;33m]\u001b[0m\u001b[1;33m,\u001b[0m \u001b[0mvar_name\u001b[0m\u001b[1;33m=\u001b[0m\u001b[1;34m'Years'\u001b[0m\u001b[1;33m)\u001b[0m\u001b[1;33m\u001b[0m\u001b[0m\n\u001b[0;32m      4\u001b[0m \u001b[0mdfpop\u001b[0m \u001b[1;33m=\u001b[0m \u001b[0mdfpop\u001b[0m\u001b[1;33m.\u001b[0m\u001b[0mrename\u001b[0m\u001b[1;33m(\u001b[0m\u001b[1;33m{\u001b[0m\u001b[1;34m'Country Code'\u001b[0m\u001b[1;33m:\u001b[0m \u001b[1;34m'iso'\u001b[0m\u001b[1;33m}\u001b[0m\u001b[1;33m,\u001b[0m \u001b[0maxis\u001b[0m \u001b[1;33m=\u001b[0m \u001b[1;36m1\u001b[0m\u001b[1;33m)\u001b[0m\u001b[1;33m\u001b[0m\u001b[0m\n\u001b[0;32m      5\u001b[0m \u001b[0mdfpop\u001b[0m \u001b[1;33m=\u001b[0m \u001b[0mdfpop\u001b[0m\u001b[1;33m[\u001b[0m\u001b[0mdfpop\u001b[0m\u001b[1;33m[\u001b[0m\u001b[1;34m\"Years\"\u001b[0m\u001b[1;33m]\u001b[0m\u001b[1;33m==\u001b[0m\u001b[1;34m'2015'\u001b[0m\u001b[1;33m]\u001b[0m\u001b[1;33m\u001b[0m\u001b[0m\n",
      "\u001b[1;32mC:\\ProgramData\\Anaconda3\\lib\\site-packages\\pandas\\io\\parsers.py\u001b[0m in \u001b[0;36mparser_f\u001b[1;34m(filepath_or_buffer, sep, delimiter, header, names, index_col, usecols, squeeze, prefix, mangle_dupe_cols, dtype, engine, converters, true_values, false_values, skipinitialspace, skiprows, nrows, na_values, keep_default_na, na_filter, verbose, skip_blank_lines, parse_dates, infer_datetime_format, keep_date_col, date_parser, dayfirst, iterator, chunksize, compression, thousands, decimal, lineterminator, quotechar, quoting, escapechar, comment, encoding, dialect, tupleize_cols, error_bad_lines, warn_bad_lines, skipfooter, doublequote, delim_whitespace, low_memory, memory_map, float_precision)\u001b[0m\n\u001b[0;32m    676\u001b[0m                     skip_blank_lines=skip_blank_lines)\n\u001b[0;32m    677\u001b[0m \u001b[1;33m\u001b[0m\u001b[0m\n\u001b[1;32m--> 678\u001b[1;33m         \u001b[1;32mreturn\u001b[0m \u001b[0m_read\u001b[0m\u001b[1;33m(\u001b[0m\u001b[0mfilepath_or_buffer\u001b[0m\u001b[1;33m,\u001b[0m \u001b[0mkwds\u001b[0m\u001b[1;33m)\u001b[0m\u001b[1;33m\u001b[0m\u001b[0m\n\u001b[0m\u001b[0;32m    679\u001b[0m \u001b[1;33m\u001b[0m\u001b[0m\n\u001b[0;32m    680\u001b[0m     \u001b[0mparser_f\u001b[0m\u001b[1;33m.\u001b[0m\u001b[0m__name__\u001b[0m \u001b[1;33m=\u001b[0m \u001b[0mname\u001b[0m\u001b[1;33m\u001b[0m\u001b[0m\n",
      "\u001b[1;32mC:\\ProgramData\\Anaconda3\\lib\\site-packages\\pandas\\io\\parsers.py\u001b[0m in \u001b[0;36m_read\u001b[1;34m(filepath_or_buffer, kwds)\u001b[0m\n\u001b[0;32m    438\u001b[0m \u001b[1;33m\u001b[0m\u001b[0m\n\u001b[0;32m    439\u001b[0m     \u001b[1;31m# Create the parser.\u001b[0m\u001b[1;33m\u001b[0m\u001b[1;33m\u001b[0m\u001b[0m\n\u001b[1;32m--> 440\u001b[1;33m     \u001b[0mparser\u001b[0m \u001b[1;33m=\u001b[0m \u001b[0mTextFileReader\u001b[0m\u001b[1;33m(\u001b[0m\u001b[0mfilepath_or_buffer\u001b[0m\u001b[1;33m,\u001b[0m \u001b[1;33m**\u001b[0m\u001b[0mkwds\u001b[0m\u001b[1;33m)\u001b[0m\u001b[1;33m\u001b[0m\u001b[0m\n\u001b[0m\u001b[0;32m    441\u001b[0m \u001b[1;33m\u001b[0m\u001b[0m\n\u001b[0;32m    442\u001b[0m     \u001b[1;32mif\u001b[0m \u001b[0mchunksize\u001b[0m \u001b[1;32mor\u001b[0m \u001b[0miterator\u001b[0m\u001b[1;33m:\u001b[0m\u001b[1;33m\u001b[0m\u001b[0m\n",
      "\u001b[1;32mC:\\ProgramData\\Anaconda3\\lib\\site-packages\\pandas\\io\\parsers.py\u001b[0m in \u001b[0;36m__init__\u001b[1;34m(self, f, engine, **kwds)\u001b[0m\n\u001b[0;32m    785\u001b[0m             \u001b[0mself\u001b[0m\u001b[1;33m.\u001b[0m\u001b[0moptions\u001b[0m\u001b[1;33m[\u001b[0m\u001b[1;34m'has_index_names'\u001b[0m\u001b[1;33m]\u001b[0m \u001b[1;33m=\u001b[0m \u001b[0mkwds\u001b[0m\u001b[1;33m[\u001b[0m\u001b[1;34m'has_index_names'\u001b[0m\u001b[1;33m]\u001b[0m\u001b[1;33m\u001b[0m\u001b[0m\n\u001b[0;32m    786\u001b[0m \u001b[1;33m\u001b[0m\u001b[0m\n\u001b[1;32m--> 787\u001b[1;33m         \u001b[0mself\u001b[0m\u001b[1;33m.\u001b[0m\u001b[0m_make_engine\u001b[0m\u001b[1;33m(\u001b[0m\u001b[0mself\u001b[0m\u001b[1;33m.\u001b[0m\u001b[0mengine\u001b[0m\u001b[1;33m)\u001b[0m\u001b[1;33m\u001b[0m\u001b[0m\n\u001b[0m\u001b[0;32m    788\u001b[0m \u001b[1;33m\u001b[0m\u001b[0m\n\u001b[0;32m    789\u001b[0m     \u001b[1;32mdef\u001b[0m \u001b[0mclose\u001b[0m\u001b[1;33m(\u001b[0m\u001b[0mself\u001b[0m\u001b[1;33m)\u001b[0m\u001b[1;33m:\u001b[0m\u001b[1;33m\u001b[0m\u001b[0m\n",
      "\u001b[1;32mC:\\ProgramData\\Anaconda3\\lib\\site-packages\\pandas\\io\\parsers.py\u001b[0m in \u001b[0;36m_make_engine\u001b[1;34m(self, engine)\u001b[0m\n\u001b[0;32m   1012\u001b[0m     \u001b[1;32mdef\u001b[0m \u001b[0m_make_engine\u001b[0m\u001b[1;33m(\u001b[0m\u001b[0mself\u001b[0m\u001b[1;33m,\u001b[0m \u001b[0mengine\u001b[0m\u001b[1;33m=\u001b[0m\u001b[1;34m'c'\u001b[0m\u001b[1;33m)\u001b[0m\u001b[1;33m:\u001b[0m\u001b[1;33m\u001b[0m\u001b[0m\n\u001b[0;32m   1013\u001b[0m         \u001b[1;32mif\u001b[0m \u001b[0mengine\u001b[0m \u001b[1;33m==\u001b[0m \u001b[1;34m'c'\u001b[0m\u001b[1;33m:\u001b[0m\u001b[1;33m\u001b[0m\u001b[0m\n\u001b[1;32m-> 1014\u001b[1;33m             \u001b[0mself\u001b[0m\u001b[1;33m.\u001b[0m\u001b[0m_engine\u001b[0m \u001b[1;33m=\u001b[0m \u001b[0mCParserWrapper\u001b[0m\u001b[1;33m(\u001b[0m\u001b[0mself\u001b[0m\u001b[1;33m.\u001b[0m\u001b[0mf\u001b[0m\u001b[1;33m,\u001b[0m \u001b[1;33m**\u001b[0m\u001b[0mself\u001b[0m\u001b[1;33m.\u001b[0m\u001b[0moptions\u001b[0m\u001b[1;33m)\u001b[0m\u001b[1;33m\u001b[0m\u001b[0m\n\u001b[0m\u001b[0;32m   1015\u001b[0m         \u001b[1;32melse\u001b[0m\u001b[1;33m:\u001b[0m\u001b[1;33m\u001b[0m\u001b[0m\n\u001b[0;32m   1016\u001b[0m             \u001b[1;32mif\u001b[0m \u001b[0mengine\u001b[0m \u001b[1;33m==\u001b[0m \u001b[1;34m'python'\u001b[0m\u001b[1;33m:\u001b[0m\u001b[1;33m\u001b[0m\u001b[0m\n",
      "\u001b[1;32mC:\\ProgramData\\Anaconda3\\lib\\site-packages\\pandas\\io\\parsers.py\u001b[0m in \u001b[0;36m__init__\u001b[1;34m(self, src, **kwds)\u001b[0m\n\u001b[0;32m   1706\u001b[0m         \u001b[0mkwds\u001b[0m\u001b[1;33m[\u001b[0m\u001b[1;34m'usecols'\u001b[0m\u001b[1;33m]\u001b[0m \u001b[1;33m=\u001b[0m \u001b[0mself\u001b[0m\u001b[1;33m.\u001b[0m\u001b[0musecols\u001b[0m\u001b[1;33m\u001b[0m\u001b[0m\n\u001b[0;32m   1707\u001b[0m \u001b[1;33m\u001b[0m\u001b[0m\n\u001b[1;32m-> 1708\u001b[1;33m         \u001b[0mself\u001b[0m\u001b[1;33m.\u001b[0m\u001b[0m_reader\u001b[0m \u001b[1;33m=\u001b[0m \u001b[0mparsers\u001b[0m\u001b[1;33m.\u001b[0m\u001b[0mTextReader\u001b[0m\u001b[1;33m(\u001b[0m\u001b[0msrc\u001b[0m\u001b[1;33m,\u001b[0m \u001b[1;33m**\u001b[0m\u001b[0mkwds\u001b[0m\u001b[1;33m)\u001b[0m\u001b[1;33m\u001b[0m\u001b[0m\n\u001b[0m\u001b[0;32m   1709\u001b[0m \u001b[1;33m\u001b[0m\u001b[0m\n\u001b[0;32m   1710\u001b[0m         \u001b[0mpassed_names\u001b[0m \u001b[1;33m=\u001b[0m \u001b[0mself\u001b[0m\u001b[1;33m.\u001b[0m\u001b[0mnames\u001b[0m \u001b[1;32mis\u001b[0m \u001b[1;32mNone\u001b[0m\u001b[1;33m\u001b[0m\u001b[0m\n",
      "\u001b[1;32mpandas\\_libs\\parsers.pyx\u001b[0m in \u001b[0;36mpandas._libs.parsers.TextReader.__cinit__\u001b[1;34m()\u001b[0m\n",
      "\u001b[1;32mpandas\\_libs\\parsers.pyx\u001b[0m in \u001b[0;36mpandas._libs.parsers.TextReader._setup_parser_source\u001b[1;34m()\u001b[0m\n",
      "\u001b[1;31mFileNotFoundError\u001b[0m: File b'population_conv.csv' does not exist"
     ]
    }
   ],
   "source": [
    "#add population info to calculate total undernourished population \n",
    "dfpop = pd.read_csv(\"population_conv.csv\",sep = ',')\n",
    "dfpop = pd.melt(dfpop1, id_vars=['Country Name','Country Code','Indicator Name','Indicator Code'], var_name='Years')\n",
    "dfpop = dfpop.rename({'Country Code': 'iso'}, axis = 1)\n",
    "dfpop = dfpop[dfpop[\"Years\"]=='2015']\n",
    "dfpop = dfpop[[\"iso\",\"value\"]]\n",
    "dfpop = dfpop.rename({'value':'population'}, axis=1)\n",
    "\n",
    "#combine dataframes\n",
    "df_total_2015 = pd.merge(dfpop,dfu2015,right_on = 'iso', left_on = 'iso')\n",
    "df_total_2015 = df_total_2015[[\"iso\",\"population\",\"dummy\",\"Country Name\",\"value\"]]\n",
    "df_total_2015 = df_total_2015.rename({'value':'PoU'}, axis=1)"
   ]
  },
  {
   "cell_type": "code",
   "execution_count": 130,
   "metadata": {},
   "outputs": [],
   "source": [
    "#combine undernourishment & population dataframe for low & middle income countries\n",
    "dfpopfu2015 = pd.merge(dfpop,dfu2015,right_on = 'iso', left_on = 'iso')\n",
    "dfpopfu2015 = dfpopfu2015[[\"iso\",\"population\",\"dummy\",\"Country Name\",\"value\"]]\n",
    "dfpopfu2015 = dfpopfu2015.rename({'value':'PoU'}, axis=1)\n",
    "#calculate new column for total undernurist population \n",
    "dfpopfu2015[\"abs population undernourist\"] = dfpopfu2015.population * (dfpopfu2015.PoU/100)\n",
    "\n",
    "#calculate barchart values for total absolute population and PoU for countries with high & low exposure to climate extremes\n",
    "df_total_2015[\"abs population undernourist\"] = df_total_2015.population * (df_total_2015.PoU/100)\n",
    "absolute_undernourishment = df_total_2015.groupby(\"dummy\")[\"abs population undernourist\"].sum()\n",
    "average_undernourishment =  (dfu2015.groupby([\"dummy\"])[\"value\"].sum())/ (dfu2015.groupby([\"dummy\"])[\"value\"].count())\n",
    "\n",
    "#PLOT BARCHART HERE"
   ]
  },
  {
   "cell_type": "code",
   "execution_count": null,
   "metadata": {},
   "outputs": [],
   "source": []
  }
 ],
 "metadata": {
  "kernelspec": {
   "display_name": "Python 3",
   "language": "python",
   "name": "python3"
  },
  "language_info": {
   "codemirror_mode": {
    "name": "ipython",
    "version": 3
   },
   "file_extension": ".py",
   "mimetype": "text/x-python",
   "name": "python",
   "nbconvert_exporter": "python",
   "pygments_lexer": "ipython3",
   "version": "3.7.0"
  }
 },
 "nbformat": 4,
 "nbformat_minor": 2
}
