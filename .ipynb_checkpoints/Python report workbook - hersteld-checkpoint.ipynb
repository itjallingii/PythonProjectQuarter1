{
 "cells": [
  {
   "cell_type": "markdown",
   "metadata": {},
   "source": [
    "## Research questions\n",
    "### Hoofdvraag\n",
    "To what extent is hunger in sub-Saharan Africa related to environmental hazards and how will this trend develop until 2030 under the effects of climate change?\n",
    "#### subquestions\n",
    "How did the indicators regarding zero hunger developed in the last decades (for sub-Saharan Africa)?\n",
    "\n",
    " *Use WDI data set, for indicators of zero hunger see http://datatopics.worldbank.org/sdgs/ *\n",
    " \n",
    " *Output graphs: some general graphs that descrice the state of hunger in sub saharan africa like nicely done here: * http://www.fao.org/state-of-food-security-nutrition/en/\\n\",\n",
    " \n",
    "- What has been the historic trend of environmental hazards in sub-Saharan Africa and what was the impact on the food systems?\n",
    "\n",
    "*Use data of EM-DAT Environmental data base and OECD Agriculture statistics, maybe focus on sub regions in Africa Output graphs could be like*\n",
    "\n",
    "http://www.fao.org/3/i8656en/I8656EN.pdf\n",
    "\n",
    "- How will the trend of environmental hazards look like in the future? What will be the occurences until 2030?\n",
    "\n",
    "*Use data of EM-DAT and extrapolate for the various hazards for example Storms, Floods, Drought, Tsunamis*\n",
    "\n",
    "- How will the change in environmental hazards affect the food production output? (make some kind of and regresion model)\n",
    "\n",
    "*Use data of OECD Food production*\n",
    "\n",
    "- Which policies could counteract these negative effects on food production?\n",
    "\n",
    "find some policies in papers, estimate those effects and put into a graph\n",
    "\n",
    "## INFORMATIE BRONNEN\n",
    "\n",
    "- statistiek over voedsel output http://www.fao.org/state-of-food-security-nutrition/en/\\n\",\n",
    "- Report over voedsel en impact van weergerelateerde rampen http://www.fao.org/documents/card/en/c/I8656EN/\\n\",\n",
    "- http://www.fao.org/state-of-food-security-nutrition/en/\\n\",\n",
    "- FAO - Climate change predictions in sub-Saharan Africa: impacts and adaptations http://www.fao.org/3/a-i7040e.pdf\\n\",\n",
    "- Database rampen: https://www.cred.be/projects/EM-DAT\\n\",\n",
    " \n",
    "## Opbouw report\n",
    "#### Hoofdstuk 1: introductie en eerste graphs\n",
    "- Inleiding no hunger goal 2030 van UN\n",
    "        - Introductie onderzoeksvragen\n",
    "          - uitleggen methodologie\n",
    "- Hoofdstuk 2: Data preperation\n",
    "        - Wat voor data is gebruikt?\n",
    "        - Hoe is die gecleaned/bewerkt om te gebruiken\n",
    "- Hoofdstuk 3: uitwerken onderzoeksvragen\n",
    "        - Uitwerken onderzoeksvraag aan de hand van analyseren data & graphs\n",
    "        - Schatten van toekomst met regressie analyse / trend analyses. \n",
    "        - Aan de hand van deze gegevens een schatting maken voor al deze veriabelen, maar vooral het effect op de ondervoeding/voedseltekort \n",
    "        - Policy aanbeveling doen\n",
    "- Hoofdstuk 4: aanbevelingen/conclusie\\n\",\n",
    "\n",
    "### PythonProjectQuarter1 - opdracht vak\n",
    "Assignment Create a Jupyter Notebook that contains your explanations and analyses. Start the notebook with a clear description of your research question and the type of analysis you are going to perform. The conceptual contents of the Notebook should be roughly similar to a normal written report of 10-20 pages. Make your Notebook self-explanatory. So, it should contain text (with references) as well as your actual analysis code and results. If you want to use other libraries for your analyses or visualizations, feel free to do so. However, only use free available and well-known libraries. The ones that come standard with Anaconda are fine. If you want to use something else, that you first need to install, check with us first. Create a zip archive and upload it on Brightspace. Some (minimum) properties of the Notebook and your analyses on which we will grade\n",
    "\n",
    "Demonstrate your skills in Python by using typical Python constructs and using the appropriate data structures (lists, \n",
    "dictionaries, tuples, arrays, dataframes, series, recursion, etc.\n",
    "\n",
    "Try to think of reusability of your code. How easy would it be to use your same code if we want to try to do a small variations of your analysis? Can we easily adapt/play around with your code?\n",
    "How difficult were your analyses?\n",
    "\n",
    "## Indicators\n",
    "- Prevalence of undernourishment (% of population) SN.ITK.DEFC.ZS\n",
    "- Prevalence of stunting, height for age (% of children under 5) - SH.STA.STNT.ZS\n",
    "- Prevalence of stunting, height for age, female (% of children under 5) - SH.STA.STNT.FE.ZS\n",
    "- Prevalence of stunting, height for age, male (% of children under 5) - SH.STA.STNT.MA.ZS\n",
    "- AG.YLD.CREL.KG  Cereal yield (kg per hectare\n",
    "- SH.SVR.WAST.ZS  prevalence of severy wasting % of children\n",
    "- SH.SVR.WAST.FE.ZS prevalence of severy wasting % of female\n",
    "- SH.SVR.WAST.MA.ZS prevalence of severy wasting % of man\n",
    "- SH.STA.WAST.ZS prevalence of wasting % of children\n",
    "- SH.STA.WAST.FE.ZS prevalence of wasting % of female\n",
    "- SH.STA.WAST.MA.ZS prevalence of wasting % of man\n",
    "- Exclusive breastfeeding (% of children under 6 months) SH.STA.BFED.ZS\n",
    "- Prevalence of anemia among children (% of children under 5) SH.ANM.CHLD.ZS \n",
    "- Prevalence of anemia among non-pregnant women (% of women ages 15-49) SH.ANM.NPRG.ZS\n",
    "- Prevalence of anemia among pregnant women (%) SH.PRG.ANEM\n",
    "- Prevalence of anemia among women of reproductive age (% of women ages 15-49) SH.ANM.ALLW.ZS\n",
    "- Prevalence of overweight, weight for height (% of children under 5) SH.STA.OWGH.ZS\n",
    "- Prevalence of overweight, weight for height, female (% of children under 5) SH.STA.OWGH.FE.ZS\n",
    "- Prevalence of overweight, weight for height, male (% of children under 5) SH.STA.OWGH.MA.ZS\"\n"
   ]
  },
  {
   "cell_type": "code",
   "execution_count": 21,
   "metadata": {},
   "outputs": [
    {
     "ename": "SyntaxError",
     "evalue": "unexpected character after line continuation character (<ipython-input-21-d70b955d1676>, line 9)",
     "output_type": "error",
     "traceback": [
      "\u001b[1;36m  File \u001b[1;32m\"<ipython-input-21-d70b955d1676>\"\u001b[1;36m, line \u001b[1;32m9\u001b[0m\n\u001b[1;33m    C:\\full\\path\\to\\right\\python.exe m pip install plotly\u001b[0m\n\u001b[1;37m                                                         ^\u001b[0m\n\u001b[1;31mSyntaxError\u001b[0m\u001b[1;31m:\u001b[0m unexpected character after line continuation character\n"
     ]
    }
   ],
   "source": [
    "import pandas as pd\n",
    "import numpy as np\n",
    "import matplotlib.pyplot as plt\n",
    "from pathlib import Path\n",
    "import os\n",
    "plt.style.use('ggplot')\n",
    "import plotly.plotly as py\n",
    "\n",
    "C:\\full\\path\\to\\right\\python.exe m pip install plotly"
   ]
  },
  {
   "cell_type": "code",
   "execution_count": 1,
   "metadata": {},
   "outputs": [
    {
     "ename": "NameError",
     "evalue": "name 'pd' is not defined",
     "output_type": "error",
     "traceback": [
      "\u001b[1;31m---------------------------------------------------------------------------\u001b[0m",
      "\u001b[1;31mNameError\u001b[0m                                 Traceback (most recent call last)",
      "\u001b[1;32m<ipython-input-1-e6227e8e2ea2>\u001b[0m in \u001b[0;36m<module>\u001b[1;34m()\u001b[0m\n\u001b[0;32m      1\u001b[0m \u001b[1;31m#downlaod dfc from: https://raw.githubusercontent.com/lukes/ISO-3166-Countries-with-Regional-Codes/master/all/all.csv\\n\",\u001b[0m\u001b[1;33m\u001b[0m\u001b[1;33m\u001b[0m\u001b[0m\n\u001b[1;32m----> 2\u001b[1;33m \u001b[0mdfc\u001b[0m \u001b[1;33m=\u001b[0m \u001b[0mpd\u001b[0m\u001b[1;33m.\u001b[0m\u001b[0mread_csv\u001b[0m\u001b[1;33m(\u001b[0m\u001b[1;34m\"Other/countriescodes.txt\"\u001b[0m\u001b[1;33m,\u001b[0m \u001b[0msep\u001b[0m \u001b[1;33m=\u001b[0m \u001b[1;34m\",\"\u001b[0m\u001b[1;33m,\u001b[0m \u001b[0mencoding\u001b[0m \u001b[1;33m=\u001b[0m \u001b[1;34m'latin-1'\u001b[0m\u001b[1;33m)\u001b[0m\u001b[1;33m\u001b[0m\u001b[0m\n\u001b[0m\u001b[0;32m      3\u001b[0m \u001b[0ml\u001b[0m \u001b[1;33m=\u001b[0m \u001b[0mdfc\u001b[0m\u001b[1;33m[\u001b[0m\u001b[0mdfc\u001b[0m\u001b[1;33m[\u001b[0m\u001b[1;34m'sub-region'\u001b[0m\u001b[1;33m]\u001b[0m \u001b[1;33m==\u001b[0m \u001b[1;34m\"Sub-Saharan Africa\"\u001b[0m\u001b[1;33m]\u001b[0m\u001b[1;33m[\u001b[0m\u001b[1;34m\"alpha-3\"\u001b[0m\u001b[1;33m]\u001b[0m\u001b[1;33m\u001b[0m\u001b[0m\n\u001b[0;32m      4\u001b[0m \u001b[0mWDI\u001b[0m \u001b[1;33m=\u001b[0m \u001b[0mpd\u001b[0m\u001b[1;33m.\u001b[0m\u001b[0mread_csv\u001b[0m\u001b[1;33m(\u001b[0m\u001b[1;34m\"WDI/WDIData.csv\"\u001b[0m\u001b[1;33m)\u001b[0m\u001b[1;33m\u001b[0m\u001b[0m\n\u001b[0;32m      5\u001b[0m \u001b[0mWDI_SSA\u001b[0m \u001b[1;33m=\u001b[0m \u001b[0mWDI\u001b[0m\u001b[1;33m[\u001b[0m\u001b[0mWDI\u001b[0m\u001b[1;33m[\u001b[0m\u001b[1;34m\"Country Code\"\u001b[0m\u001b[1;33m]\u001b[0m\u001b[1;33m.\u001b[0m\u001b[0misin\u001b[0m\u001b[1;33m(\u001b[0m\u001b[0ml\u001b[0m\u001b[1;33m)\u001b[0m\u001b[1;33m]\u001b[0m\u001b[1;33m\u001b[0m\u001b[0m\n",
      "\u001b[1;31mNameError\u001b[0m: name 'pd' is not defined"
     ]
    }
   ],
   "source": [
    "#downlaod dfc from: https://raw.githubusercontent.com/lukes/ISO-3166-Countries-with-Regional-Codes/master/all/all.csv\\n\",\n",
    "dfc = pd.read_csv(\"Other/countriescodes.txt\", sep = \",\", encoding = 'latin-1')\n",
    "l = dfc[dfc['sub-region'] == \"Sub-Saharan Africa\"][\"alpha-3\"]\n",
    "WDI = pd.read_csv(\"WDI/WDIData.csv\")\n",
    "WDI_SSA = WDI[WDI[\"Country Code\"].isin(l)]"
   ]
  },
  {
   "cell_type": "code",
   "execution_count": 7,
   "metadata": {},
   "outputs": [
    {
     "data": {
      "text/plain": [
       "'C:\\\\Users\\\\ivarnieuwepc\\\\Documents\\\\GitHub\\\\Data'"
      ]
     },
     "execution_count": 7,
     "metadata": {},
     "output_type": "execute_result"
    }
   ],
   "source": [
    "os.chdir(\"C://Users//ivarnieuwepc//Documents//GitHub//Data\")\n",
    "os.getcwd()"
   ]
  },
  {
   "cell_type": "code",
   "execution_count": null,
   "metadata": {},
   "outputs": [],
   "source": [
    "df_sdg = pd.read_csv(\"SDG//SDGData.csv\")\n",
    "df_wdi = pd.read_csv(\"WDI//WDIData.csv\")\n",
    "all_indicators = df_sdg[\"Indicator Name\"].unique()\n",
    "all_codes = df_sdg[\"Indicator Code\"].unique()\n",
    "type(all_codes)"
   ]
  },
  {
   "cell_type": "code",
   "execution_count": null,
   "metadata": {},
   "outputs": [],
   "source": [
    "\n"
   ]
  },
  {
   "cell_type": "code",
   "execution_count": null,
   "metadata": {},
   "outputs": [],
   "source": []
  },
  {
   "cell_type": "code",
   "execution_count": null,
   "metadata": {},
   "outputs": [],
   "source": []
  },
  {
   "cell_type": "code",
   "execution_count": null,
   "metadata": {},
   "outputs": [],
   "source": []
  },
  {
   "cell_type": "code",
   "execution_count": null,
   "metadata": {},
   "outputs": [],
   "source": []
  }
 ],
 "metadata": {
  "kernelspec": {
   "display_name": "Python 3",
   "language": "python",
   "name": "python3"
  },
  "language_info": {
   "codemirror_mode": {
    "name": "ipython",
    "version": 3
   },
   "file_extension": ".py",
   "mimetype": "text/x-python",
   "name": "python",
   "nbconvert_exporter": "python",
   "pygments_lexer": "ipython3",
   "version": "3.6.5"
  }
 },
 "nbformat": 4,
 "nbformat_minor": 2
}
