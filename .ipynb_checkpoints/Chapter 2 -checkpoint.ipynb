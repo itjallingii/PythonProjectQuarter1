{
 "cells": [
  {
   "cell_type": "markdown",
   "metadata": {},
   "source": [
    "# Chapter 2 - Methodology & Research questions\n",
    "\n",
    "In this chapter the methodology and research questions are described. As first, an insight is given in the methodologies used. As second the main research question and subquestions are explained. \n",
    "\n",
    "## Methodology\n",
    "Python is used as the methodology within this project. Python as a programming language is used in the environment of Jupiter Notebook. During the project there are installed a couple of packages to extand the possibilities within Python. The packages imported into the Jupiter Notebook can be found below: \n",
    "\n",
    "__@ROB --> Hier misschien alles importeren, dan kunnen de (externe) pakketten even kort worden toegelicht?__ \n",
    "\n",
    "Some of these packages were not included in Python and had to be installed externally. For the visualisation their is mainly used a package called 'Plotly'. In Plotly the visualisations are displayed in a effeciënt way and we experienced that within plotly their are many possibilities to visualize the data. \n",
    "\n",
    "__statsmodels: nog in te vullen door @Martijn mits grafiek in verslag__\n",
    "\n",
    "## Research questions\n",
    "In Sub-Saharan Africa the sustainable development goal of zero hunger is very important, as a lot of people will not have enough food. This threat combined with environmental hazards can let to an increase in people that are in need of food. The combination of datasets about the SDG and datasets about environmental hazards can show us if there is an relation between these trends. To find an answer for this trends, the research question is as follows:\n",
    "\n",
    "_'To what extent is hunger in sub-Saharan Africa related to environmental hazards and how will this trend develop until 2030 under the effects of climate change?'_\n",
    "\n",
    "In order to answer this research question several subquestions are defined:\n",
    "- How did food security develop in the last decades (for sub-Saharan Africa)?\n",
    "- What has been the historic trend of environmental hazards in sub-Saharan Africa?\n",
    "- What is the impact of environmental hazard on the food systems?\n",
    "- How will the change in environmental hazards affect the food production output? __hebben we dit gedaan??__\n",
    "- Which policies could counteract these negative effects on food production?\n",
    "\n",
    "First the food security and environmental hazards will be looked at seperatly. The food security is explained by different indicators, such as '% of undernourishment' and the 'Cereal Yield (kg per Hectare)'. As well indicatiors as the total population combined with the total food production can give a good insight in how the food security has developed the last decades. For the environmental hazards ... __@Ivar kan jij hier zeggen wat voor indicators / grafieken er worden verwacht?__\n",
    "\n",
    "When both are described there will be looked at the impact of environmental hazards on the food systems. So does more environmental hazards mean less food security? If so, which food systems get affected the most? When you know environmental harzards affect the food systems there can be looked at how this affects the food production output. At last the will be looked at what kind of policies can be implemented so we assure Sub-Saharan Africa of food security."
   ]
  }
 ],
 "metadata": {
  "kernelspec": {
   "display_name": "Python 3",
   "language": "python",
   "name": "python3"
  },
  "language_info": {
   "codemirror_mode": {
    "name": "ipython",
    "version": 3
   },
   "file_extension": ".py",
   "mimetype": "text/x-python",
   "name": "python",
   "nbconvert_exporter": "python",
   "pygments_lexer": "ipython3",
   "version": "3.7.0"
  }
 },
 "nbformat": 4,
 "nbformat_minor": 2
}
