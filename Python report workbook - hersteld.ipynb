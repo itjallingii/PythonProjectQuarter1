{
 "cells": [
  {
   "cell_type": "markdown",
   "metadata": {},
   "source": [
    "## Research questions\n",
    "### Hoofdvraag\n",
    "To what extent is hunger in sub-Saharan Africa related to environmental hazards and how will this trend develop until 2030 under the effects of climate change?\n",
    "#### subquestions\n",
    "How did the indicators regarding zero hunger developed in the last decades (for sub-Saharan Africa)?\n",
    "\n",
    " *Use WDI data set, for indicators of zero hunger see http://datatopics.worldbank.org/sdgs/ *\n",
    " \n",
    " *Output graphs: some general graphs that descrice the state of hunger in sub saharan africa like nicely done here: * http://www.fao.org/state-of-food-security-nutrition/en/\",\n",
    " \n",
    "- What has been the historic trend of environmental hazards in sub-Saharan Africa and what was the impact on the food systems?\n",
    "\n",
    "*Use data of EM-DAT Environmental data base and OECD Agriculture statistics, maybe focus on sub regions in Africa Output graphs could be like*\n",
    "\n",
    "http://www.fao.org/3/i8656en/I8656EN.pdf\n",
    "\n",
    "- How will the trend of environmental hazards look like in the future? What will be the occurences until 2030?\n",
    "\n",
    "*Use data of EM-DAT and extrapolate for the various hazards for example Storms, Floods, Drought, Tsunamis*\n",
    "\n",
    "- How will the change in environmental hazards affect the food production output? (make some kind of and regresion model)\n",
    "\n",
    "*Use data of OECD Food production*\n",
    "\n",
    "- Which policies could counteract these negative effects on food production?\n",
    "\n",
    "find some policies in papers, estimate those effects and put into a graph\n",
    "\n",
    "## INFORMATIE BRONNEN\n",
    "\n",
    "- statistiek over voedsel output http://www.fao.org/state-of-food-security-nutrition/en/\\n\",\n",
    "- Report over voedsel en impact van weergerelateerde rampen http://www.fao.org/documents/card/en/c/I8656EN/\\n\",\n",
    "- http://www.fao.org/state-of-food-security-nutrition/en/\\n\",\n",
    "- FAO - Climate change predictions in sub-Saharan Africa: impacts and adaptations http://www.fao.org/3/a-i7040e.pdf\\n\",\n",
    "- Database rampen: https://www.cred.be/projects/EM-DAT\\n\",\n",
    " \n",
    "## Opbouw report\n",
    "#### Hoofdstuk 1: introductie en eerste graphs\n",
    "- Inleiding no hunger goal 2030 van UN\n",
    "        - Introductie onderzoeksvragen\n",
    "          - uitleggen methodologie\n",
    "- Hoofdstuk 2: Data preperation\n",
    "        - Wat voor data is gebruikt?\n",
    "        - Hoe is die gecleaned/bewerkt om te gebruiken\n",
    "- Hoofdstuk 3: uitwerken onderzoeksvragen\n",
    "        - Uitwerken onderzoeksvraag aan de hand van analyseren data & graphs\n",
    "        - Schatten van toekomst met regressie analyse / trend analyses. \n",
    "        - Aan de hand van deze gegevens een schatting maken voor al deze veriabelen, maar vooral het effect op de ondervoeding/voedseltekort \n",
    "        - Policy aanbeveling doen\n",
    "- Hoofdstuk 4: aanbevelingen/conclusie\\n\",\n",
    "\n",
    "### PythonProjectQuarter1 - opdracht vak\n",
    "Assignment Create a Jupyter Notebook that contains your explanations and analyses. Start the notebook with a clear description of your research question and the type of analysis you are going to perform. The conceptual contents of the Notebook should be roughly similar to a normal written report of 10-20 pages. Make your Notebook self-explanatory. So, it should contain text (with references) as well as your actual analysis code and results. If you want to use other libraries for your analyses or visualizations, feel free to do so. However, only use free available and well-known libraries. The ones that come standard with Anaconda are fine. If you want to use something else, that you first need to install, check with us first. Create a zip archive and upload it on Brightspace. Some (minimum) properties of the Notebook and your analyses on which we will grade\n",
    "\n",
    "Demonstrate your skills in Python by using typical Python constructs and using the appropriate data structures (lists, \n",
    "dictionaries, tuples, arrays, dataframes, series, recursion, etc.\n",
    "\n",
    "Try to think of reusability of your code. How easy would it be to use your same code if we want to try to do a small variations of your analysis? Can we easily adapt/play around with your code?\n",
    "How difficult were your analyses?\n",
    "\n",
    "## Indicators\n",
    "- Prevalence of undernourishment (% of population) SN.ITK.DEFC.ZS\n",
    "- Prevalence of stunting, height for age (% of children under 5) - SH.STA.STNT.ZS\n",
    "- Prevalence of stunting, height for age, female (% of children under 5) - SH.STA.STNT.FE.ZS\n",
    "- Prevalence of stunting, height for age, male (% of children under 5) - SH.STA.STNT.MA.ZS\n",
    "- AG.YLD.CREL.KG  Cereal yield (kg per hectare\n",
    "- SH.SVR.WAST.ZS  prevalence of severy wasting % of children\n",
    "- SH.SVR.WAST.FE.ZS prevalence of severy wasting % of female\n",
    "- SH.SVR.WAST.MA.ZS prevalence of severy wasting % of man\n",
    "- SH.STA.WAST.ZS prevalence of wasting % of children\n",
    "- SH.STA.WAST.FE.ZS prevalence of wasting % of female\n",
    "- SH.STA.WAST.MA.ZS prevalence of wasting % of man\n",
    "- Exclusive breastfeeding (% of children under 6 months) SH.STA.BFED.ZS\n",
    "- Prevalence of anemia among children (% of children under 5) SH.ANM.CHLD.ZS \n",
    "- Prevalence of anemia among non-pregnant women (% of women ages 15-49) SH.ANM.NPRG.ZS\n",
    "- Prevalence of anemia among pregnant women (%) SH.PRG.ANEM\n",
    "- Prevalence of anemia among women of reproductive age (% of women ages 15-49) SH.ANM.ALLW.ZS\n",
    "- Prevalence of overweight, weight for height (% of children under 5) SH.STA.OWGH.ZS\n",
    "- Prevalence of overweight, weight for height, female (% of children under 5) SH.STA.OWGH.FE.ZS\n",
    "- Prevalence of overweight, weight for height, male (% of children under 5) SH.STA.OWGH.MA.ZS\"\n"
   ]
  },
  {
   "cell_type": "code",
   "execution_count": 2,
   "metadata": {},
   "outputs": [],
   "source": [
    "import pandas as pd\n",
    "import numpy as np\n",
    "import matplotlib.pyplot as plt\n",
    "from pathlib import Path\n",
    "import os\n",
    "import plotly.graph_objs as go\n",
    "import plotly.plotly as py\n",
    "\n",
    "plt.style.use('ggplot')\n",
    "\n",
    "#C:\\full\\path\\to\\right\\python.exe m pip install plotly"
   ]
  },
  {
   "cell_type": "code",
   "execution_count": 3,
   "metadata": {},
   "outputs": [
    {
     "data": {
      "text/plain": [
       "'C:\\\\Users\\\\Rob\\\\Documents\\\\GitHub\\\\data'"
      ]
     },
     "execution_count": 3,
     "metadata": {},
     "output_type": "execute_result"
    }
   ],
   "source": [
    "#Zet dit eerst goed voordat je begint te werken!\n",
    "\n",
    "\n",
    "\n",
    "\n",
    "\n",
    "\n",
    "\n",
    "\n",
    "\n",
    "\n",
    "\n",
    "os.chdir(\"C:\\\\Users\\\\Rob\\\\Documents\\\\GitHub\\\\data\")\n",
    "os.getcwd()"
   ]
  },
  {
   "cell_type": "code",
   "execution_count": 4,
   "metadata": {},
   "outputs": [],
   "source": [
    "#downlaod dfc from: https://raw.githubusercontent.com/lukes/ISO-3166-Countries-with-Regional-Codes/master/all/all.csv\\n\",\n",
    "dfc = pd.read_csv(\"countriescodes.txt\", sep = \",\", encoding = 'latin-1')\n",
    "l = dfc[dfc['sub-region'] == \"Sub-Saharan Africa\"][\"alpha-3\"]\n",
    "region = pd.Series([\"SSF\",\"WLD\"]) #voeg wereld en Sub-Saharan Africa toe\n",
    "l = l.append(region)\n",
    "WDI = pd.read_csv(\"WDI/WDIData.csv\")\n",
    "WDI_SSA = WDI[WDI[\"Country Code\"].isin(l)]"
   ]
  },
  {
   "cell_type": "code",
   "execution_count": 5,
   "metadata": {},
   "outputs": [
    {
     "data": {
      "text/html": [
       "<iframe id=\"igraph\" scrolling=\"no\" style=\"border:none;\" seamless=\"seamless\" src=\"https://plot.ly/~robdregmans/12.embed\" height=\"525px\" width=\"100%\"></iframe>"
      ],
      "text/plain": [
       "<plotly.tools.PlotlyDisplay object>"
      ]
     },
     "execution_count": 5,
     "metadata": {},
     "output_type": "execute_result"
    }
   ],
   "source": [
    "#bar charts for hunger indicators\n",
    "stunting = \"SH.STA.STNT.ZS\"\n",
    "wasting = \"SH.STA.WAST.ZS\"\n",
    "overweight = \"SH.STA.OWGH.ZS\"\n",
    "anemia = \"SH.ANM.ALLW.ZS\"\n",
    "exclusive_breastfeeding = \"SH.STA.BFED.ZS\"\n",
    "\n",
    "li = [stunting] \n",
    "WDI_SSA_I = WDI_SSA[WDI_SSA[\"Indicator Code\"].isin(li)]\n",
    "#get all the necessary columns\n",
    "SSA_00_17 = pd.concat([WDI_SSA_I.loc[:,'Country Name':'Indicator Code'],WDI_SSA_I.loc[:,'2010':'2017']], axis=1)\n",
    "#melt the data into a long format\n",
    "melted = pd.melt(SSA_00_17, id_vars=[\"Country Name\", \"Country Code\", \"Indicator Name\", \"Indicator Code\"], var_name=\"Year\", value_name=\"Value\")\n",
    "#plot indicator over time for one country\n",
    "ll = [ 'Sub-Saharan Africa','World']\n",
    "mc = melted.loc[melted['Country Name'].isin(ll)] \n",
    "mc = mc.sort_values([\"Country Name\", \"Year\"])\n",
    "\n",
    "trace1 = go.Bar(\n",
    "    x = mc[mc[\"Country Name\"] == 'World'][\"Year\"],\n",
    "    y = mc[mc[\"Country Name\"] == 'World'][\"Value\"],\n",
    "    name = 'World'\n",
    ")\n",
    "trace2 = go.Bar(\n",
    "    x = mc[mc[\"Country Name\"] == 'World'][\"Year\"],\n",
    "    y = mc[mc[\"Country Name\"] == 'Sub-Saharan Africa'][\"Value\"],\n",
    "    name = 'Sub-Saharan Africa'\n",
    ")\n",
    "data = [trace1, trace2]\n",
    "layout = go.Layout(\n",
    "    barmode='group'\n",
    ")\n",
    "fig = go.Figure(data=data, layout=layout)\n",
    "py.iplot(fig, filename='grouped-bar')"
   ]
  },
  {
   "cell_type": "code",
   "execution_count": null,
   "metadata": {},
   "outputs": [],
   "source": []
  },
  {
   "cell_type": "code",
   "execution_count": 6,
   "metadata": {},
   "outputs": [
    {
     "data": {
      "text/plain": [
       "numpy.ndarray"
      ]
     },
     "execution_count": 6,
     "metadata": {},
     "output_type": "execute_result"
    }
   ],
   "source": [
    "df_sdg = pd.read_csv(\"SDG//SDGData.csv\")\n",
    "df_wdi = pd.read_csv(\"WDI//WDIData.csv\")\n",
    "all_indicators = df_sdg[\"Indicator Name\"].unique()\n",
    "all_codes = df_sdg[\"Indicator Code\"].unique()\n",
    "type(all_codes)"
   ]
  },
  {
   "cell_type": "code",
   "execution_count": 7,
   "metadata": {},
   "outputs": [
    {
     "data": {
      "text/html": [
       "<iframe id=\"igraph\" scrolling=\"no\" style=\"border:none;\" seamless=\"seamless\" src=\"https://plot.ly/~robdregmans/14.embed\" height=\"525px\" width=\"100%\"></iframe>"
      ],
      "text/plain": [
       "<plotly.tools.PlotlyDisplay object>"
      ]
     },
     "execution_count": 7,
     "metadata": {},
     "output_type": "execute_result"
    }
   ],
   "source": [
    "import plotly as py\n",
    "import plotly.plotly as pltly\n",
    "\n",
    "# Create random data with numpy\n",
    "import numpy as np\n",
    "\n",
    "N = 500\n",
    "random_x = np.linspace(0, 1, N)\n",
    "random_y = np.random.randn(N)\n",
    "\n",
    "# Create a trace\n",
    "trace = go.Scatter(\n",
    "    x = random_x,\n",
    "    y = random_y\n",
    ")\n",
    "\n",
    "data = [trace]\n",
    "\n",
    "pltly.iplot(data, filename='basic-line')\n"
   ]
  },
  {
   "cell_type": "code",
   "execution_count": 8,
   "metadata": {},
   "outputs": [],
   "source": [
    "import plotly\n",
    "plotly.tools.set_credentials_file(username='itjallingii', api_key='VyPpBEtq9qRiGgSYkPzO')"
   ]
  },
  {
   "cell_type": "code",
   "execution_count": 9,
   "metadata": {},
   "outputs": [],
   "source": [
    "import plotly.plotly as py\n",
    "import plotly.graph_objs as go"
   ]
  },
  {
   "cell_type": "code",
   "execution_count": null,
   "metadata": {},
   "outputs": [],
   "source": []
  }
 ],
 "metadata": {
  "kernelspec": {
   "display_name": "Python 3",
   "language": "python",
   "name": "python3"
  },
  "language_info": {
   "codemirror_mode": {
    "name": "ipython",
    "version": 3
   },
   "file_extension": ".py",
   "mimetype": "text/x-python",
   "name": "python",
   "nbconvert_exporter": "python",
   "pygments_lexer": "ipython3",
   "version": "3.6.5"
  }
 },
 "nbformat": 4,
 "nbformat_minor": 2
}
