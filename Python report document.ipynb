{
 "cells": [
  {
   "cell_type": "markdown",
   "metadata": {},
   "source": [
    "<span><br><br><br></span>\n",
    "\n",
    "<h1 align='center' style='margin-bottom: 0px'>The state of Food Security in Sub-Saharan Africa</h1>\n",
    "<h3 align='center' style='margin-top: 10px'> The analysis off the effects of environmental hazards and food security in Sub-Saharan Africa</h3>"
   ]
  },
  {
   "cell_type": "code",
   "execution_count": 1,
   "metadata": {
    "scrolled": true
   },
   "outputs": [
    {
     "ename": "FileNotFoundError",
     "evalue": "[Errno 2] No such file or directory: 'Report afbeelding 1.jpg'",
     "output_type": "error",
     "traceback": [
      "\u001b[1;31m---------------------------------------------------------------------------\u001b[0m",
      "\u001b[1;31mFileNotFoundError\u001b[0m                         Traceback (most recent call last)",
      "\u001b[1;32m<ipython-input-1-43847ebee5e6>\u001b[0m in \u001b[0;36m<module>\u001b[1;34m()\u001b[0m\n\u001b[0;32m      1\u001b[0m \u001b[1;33m\u001b[0m\u001b[0m\n\u001b[0;32m      2\u001b[0m \u001b[1;32mfrom\u001b[0m \u001b[0mIPython\u001b[0m\u001b[1;33m.\u001b[0m\u001b[0mdisplay\u001b[0m \u001b[1;32mimport\u001b[0m \u001b[0mImage\u001b[0m\u001b[1;33m\u001b[0m\u001b[0m\n\u001b[1;32m----> 3\u001b[1;33m \u001b[0mImage\u001b[0m\u001b[1;33m(\u001b[0m\u001b[0mfilename\u001b[0m\u001b[1;33m=\u001b[0m\u001b[1;34m'Report afbeelding 1.jpg'\u001b[0m\u001b[1;33m)\u001b[0m\u001b[1;33m\u001b[0m\u001b[0m\n\u001b[0m",
      "\u001b[1;32m~\\Anaconda3\\lib\\site-packages\\IPython\\core\\display.py\u001b[0m in \u001b[0;36m__init__\u001b[1;34m(self, data, url, filename, format, embed, width, height, retina, unconfined, metadata)\u001b[0m\n\u001b[0;32m   1149\u001b[0m         \u001b[0mself\u001b[0m\u001b[1;33m.\u001b[0m\u001b[0munconfined\u001b[0m \u001b[1;33m=\u001b[0m \u001b[0munconfined\u001b[0m\u001b[1;33m\u001b[0m\u001b[0m\n\u001b[0;32m   1150\u001b[0m         super(Image, self).__init__(data=data, url=url, filename=filename, \n\u001b[1;32m-> 1151\u001b[1;33m                 metadata=metadata)\n\u001b[0m\u001b[0;32m   1152\u001b[0m \u001b[1;33m\u001b[0m\u001b[0m\n\u001b[0;32m   1153\u001b[0m         \u001b[1;32mif\u001b[0m \u001b[0mself\u001b[0m\u001b[1;33m.\u001b[0m\u001b[0mwidth\u001b[0m \u001b[1;32mis\u001b[0m \u001b[1;32mNone\u001b[0m \u001b[1;32mand\u001b[0m \u001b[0mself\u001b[0m\u001b[1;33m.\u001b[0m\u001b[0mmetadata\u001b[0m\u001b[1;33m.\u001b[0m\u001b[0mget\u001b[0m\u001b[1;33m(\u001b[0m\u001b[1;34m'width'\u001b[0m\u001b[1;33m,\u001b[0m \u001b[1;33m{\u001b[0m\u001b[1;33m}\u001b[0m\u001b[1;33m)\u001b[0m\u001b[1;33m:\u001b[0m\u001b[1;33m\u001b[0m\u001b[0m\n",
      "\u001b[1;32m~\\Anaconda3\\lib\\site-packages\\IPython\\core\\display.py\u001b[0m in \u001b[0;36m__init__\u001b[1;34m(self, data, url, filename, metadata)\u001b[0m\n\u001b[0;32m    607\u001b[0m             \u001b[0mself\u001b[0m\u001b[1;33m.\u001b[0m\u001b[0mmetadata\u001b[0m \u001b[1;33m=\u001b[0m \u001b[1;33m{\u001b[0m\u001b[1;33m}\u001b[0m\u001b[1;33m\u001b[0m\u001b[0m\n\u001b[0;32m    608\u001b[0m \u001b[1;33m\u001b[0m\u001b[0m\n\u001b[1;32m--> 609\u001b[1;33m         \u001b[0mself\u001b[0m\u001b[1;33m.\u001b[0m\u001b[0mreload\u001b[0m\u001b[1;33m(\u001b[0m\u001b[1;33m)\u001b[0m\u001b[1;33m\u001b[0m\u001b[0m\n\u001b[0m\u001b[0;32m    610\u001b[0m         \u001b[0mself\u001b[0m\u001b[1;33m.\u001b[0m\u001b[0m_check_data\u001b[0m\u001b[1;33m(\u001b[0m\u001b[1;33m)\u001b[0m\u001b[1;33m\u001b[0m\u001b[0m\n\u001b[0;32m    611\u001b[0m \u001b[1;33m\u001b[0m\u001b[0m\n",
      "\u001b[1;32m~\\Anaconda3\\lib\\site-packages\\IPython\\core\\display.py\u001b[0m in \u001b[0;36mreload\u001b[1;34m(self)\u001b[0m\n\u001b[0;32m   1180\u001b[0m         \u001b[1;34m\"\"\"Reload the raw data from file or URL.\"\"\"\u001b[0m\u001b[1;33m\u001b[0m\u001b[0m\n\u001b[0;32m   1181\u001b[0m         \u001b[1;32mif\u001b[0m \u001b[0mself\u001b[0m\u001b[1;33m.\u001b[0m\u001b[0membed\u001b[0m\u001b[1;33m:\u001b[0m\u001b[1;33m\u001b[0m\u001b[0m\n\u001b[1;32m-> 1182\u001b[1;33m             \u001b[0msuper\u001b[0m\u001b[1;33m(\u001b[0m\u001b[0mImage\u001b[0m\u001b[1;33m,\u001b[0m\u001b[0mself\u001b[0m\u001b[1;33m)\u001b[0m\u001b[1;33m.\u001b[0m\u001b[0mreload\u001b[0m\u001b[1;33m(\u001b[0m\u001b[1;33m)\u001b[0m\u001b[1;33m\u001b[0m\u001b[0m\n\u001b[0m\u001b[0;32m   1183\u001b[0m             \u001b[1;32mif\u001b[0m \u001b[0mself\u001b[0m\u001b[1;33m.\u001b[0m\u001b[0mretina\u001b[0m\u001b[1;33m:\u001b[0m\u001b[1;33m\u001b[0m\u001b[0m\n\u001b[0;32m   1184\u001b[0m                 \u001b[0mself\u001b[0m\u001b[1;33m.\u001b[0m\u001b[0m_retina_shape\u001b[0m\u001b[1;33m(\u001b[0m\u001b[1;33m)\u001b[0m\u001b[1;33m\u001b[0m\u001b[0m\n",
      "\u001b[1;32m~\\Anaconda3\\lib\\site-packages\\IPython\\core\\display.py\u001b[0m in \u001b[0;36mreload\u001b[1;34m(self)\u001b[0m\n\u001b[0;32m    632\u001b[0m         \u001b[1;34m\"\"\"Reload the raw data from file or URL.\"\"\"\u001b[0m\u001b[1;33m\u001b[0m\u001b[0m\n\u001b[0;32m    633\u001b[0m         \u001b[1;32mif\u001b[0m \u001b[0mself\u001b[0m\u001b[1;33m.\u001b[0m\u001b[0mfilename\u001b[0m \u001b[1;32mis\u001b[0m \u001b[1;32mnot\u001b[0m \u001b[1;32mNone\u001b[0m\u001b[1;33m:\u001b[0m\u001b[1;33m\u001b[0m\u001b[0m\n\u001b[1;32m--> 634\u001b[1;33m             \u001b[1;32mwith\u001b[0m \u001b[0mopen\u001b[0m\u001b[1;33m(\u001b[0m\u001b[0mself\u001b[0m\u001b[1;33m.\u001b[0m\u001b[0mfilename\u001b[0m\u001b[1;33m,\u001b[0m \u001b[0mself\u001b[0m\u001b[1;33m.\u001b[0m\u001b[0m_read_flags\u001b[0m\u001b[1;33m)\u001b[0m \u001b[1;32mas\u001b[0m \u001b[0mf\u001b[0m\u001b[1;33m:\u001b[0m\u001b[1;33m\u001b[0m\u001b[0m\n\u001b[0m\u001b[0;32m    635\u001b[0m                 \u001b[0mself\u001b[0m\u001b[1;33m.\u001b[0m\u001b[0mdata\u001b[0m \u001b[1;33m=\u001b[0m \u001b[0mf\u001b[0m\u001b[1;33m.\u001b[0m\u001b[0mread\u001b[0m\u001b[1;33m(\u001b[0m\u001b[1;33m)\u001b[0m\u001b[1;33m\u001b[0m\u001b[0m\n\u001b[0;32m    636\u001b[0m         \u001b[1;32melif\u001b[0m \u001b[0mself\u001b[0m\u001b[1;33m.\u001b[0m\u001b[0murl\u001b[0m \u001b[1;32mis\u001b[0m \u001b[1;32mnot\u001b[0m \u001b[1;32mNone\u001b[0m\u001b[1;33m:\u001b[0m\u001b[1;33m\u001b[0m\u001b[0m\n",
      "\u001b[1;31mFileNotFoundError\u001b[0m: [Errno 2] No such file or directory: 'Report afbeelding 1.jpg'"
     ]
    }
   ],
   "source": [
    "\n",
    "from IPython.display import Image\n",
    "Image(filename='Report afbeelding 1.jpg')\n",
    "\n"
   ]
  },
  {
   "cell_type": "markdown",
   "metadata": {},
   "source": [
    "\n",
    "<h4 align='right', style='margin-bottom': 0px'> 27 October 2018, The Hague</h4>\n",
    "<h4 align='right', style='margin-top: 3px'> Ivar Tjallingii, Rob Dregmans, Martijn van der Vliet</h4>"
   ]
  },
  {
   "cell_type": "code",
   "execution_count": 13,
   "metadata": {},
   "outputs": [],
   "source": [
    "#Setting up the working environment\n",
    "import os\n",
    "import pandas as pd\n",
    "import numpy as np\n",
    "import matplotlib.pyplot as plt\n",
    "from pathlib import Path\n",
    "import itertools\n",
    "import plotly.plotly as py\n",
    "from plotly import tools\n",
    "import plotly.graph_objs as go\n",
    "\n",
    "plt.style.use('ggplot')\n",
    "%matplotlib inline"
   ]
  },
  {
   "cell_type": "code",
   "execution_count": null,
   "metadata": {},
   "outputs": [],
   "source": [
    "#for Ivar\n",
    "os.chdir(\"C://Users//ivarnieuwepc//Documents//GitHub//Data\")"
   ]
  },
  {
   "cell_type": "code",
   "execution_count": 7,
   "metadata": {},
   "outputs": [],
   "source": [
    "#for Rob\n",
    "os.chdir(\"C:\\\\Users\\\\Rob\\\\Documents\\\\GitHub\\\\data\")"
   ]
  },
  {
   "cell_type": "code",
   "execution_count": null,
   "metadata": {},
   "outputs": [],
   "source": [
    "#for Martijn\n",
    "os.getcwd()"
   ]
  },
  {
   "cell_type": "markdown",
   "metadata": {},
   "source": [
    "<h2 align='left' style='margin-bottom: 0px'>Table of Contents</h2>\n",
    "<h4 align='left' style='margin-top: 20px'>   - Chapter 1 - Introduction to food security in Sub-Saharan Africa</h4>\n",
    "<h4 align='left' style='margin-top: 5px'> - Chapter 2 - Methodology & Research questions</h4>\n",
    "<h4 align='left' style='margin-top: 5px'> - Chapter 3 - Data Preparation</h4>\n",
    "<h4 align='left' style='margin-top: 5px'> - Chapter 4 - Data Analysis</h4>\n",
    "<h4 align='left' style='margin-top: 5px'> - Chapter 5 - Policy recommendation</h4>\n"
   ]
  },
  {
   "cell_type": "markdown",
   "metadata": {},
   "source": [
    "<h2 align='left' style='margin-bottom: 0px'>Chapter 1 - Introduction to food security in Sub-Saharan Africa</h2>\n",
    "<h3 align='left' style='margin-bottom: 0px'>United Nations targets</h3>\n",
    "The reduction of hunger around the world is Sustainable Development Goal (SDG) number 2 of the total seventeen SDG's set up in the 2030 Agenda for Sustainable Development, adopted by all United Nations Member States in 2015. These goals provides a shared blueprint for peace and prosperity for people and the planet. According to the UN targets, need to rethink how we grow, share and consume our food. Only then agriculture, forestry and fisheries can provide food for all people around the world and generate decent incomes, while supporting people-centered rural development and protecting the environment.\n",
    "\n",
    "#### To act on this goal to obtain enough food for everyone, five main targets have been set out for 2030 by all United Nations Member Sates:\n",
    "\n",
    "- 2.1: End hunger and ensure access by all people, in particular the poor and people in vulnerable situations, including infants, to safe, nutritious and sufficient food all year round.\n",
    "\n",
    "- 2.2: End all forms of malnutrition, including achieving, by 2025, the internationally agreed targets on stunting and wasting in children under 5 years of age, and address the nutritional needs of adolescent girls, pregnant and lactating women and older persons.\n",
    "\n",
    "- 2.3: Double the agricultural productivity and incomes of small-scale food producers, in particular women, indigenous peoples, family farmers, pastoralists and fishers, including through secure and equal access to land, other productive resources and inputs, knowledge, financial services, markets and opportunities for value addition and non-farm employment.\n",
    "\n",
    "- 2.4: Ensure sustainable food production systems and implement resilient agricultural practices that increase productivity and production, that help maintain ecosystems, that strengthen capacity for adaptation to climate change, extreme weather, drought, flooding and other disasters and that progressively improve land and soil quality.\n",
    "\n",
    "- 2.5: Maintain the genetic diversity of seeds, cultivated plants and farmed and domesticated animals and their related wild species, including through soundly managed and diversified seed and plant banks at the national, regional and international levels, and promote access to and fair and equitable sharing of benefits arising from the utilization of genetic resources and associated traditional knowledge, as internationally agreed.\n",
    "\n",
    "Sources:\n",
    "- https://www.un.org/sustainabledevelopment/hunger/\n",
    "- https://sustainabledevelopment.un.org/?menu=1300\n",
    "- http://www.fao.org/state-of-food-security-nutrition/en/"
   ]
  },
  {
   "cell_type": "markdown",
   "metadata": {},
   "source": [
    "<h2 align='left' style='margin-bottom: 0px'>Chapter 2 - Methodology & Research questions</h2>\n",
    "<h3 align='left' style='margin-bottom: 0px'>Methodology</h3>\n",
    "<h3 align='left' style='margin-bottom: 0px'>Research questions</h3>\n",
    "\n",
    "<h4 align='left' style='margin-bottom: 0px'>Main research question</h4>\n",
    "\n",
    "- To what extent is hunger in sub-Saharan Africa related to environmental hazards and how will this trend develop until 2030 under the effects of climate change?\n",
    "<h4 align='left' style='margin-bottom: 0px'>Subquestions</h4>\n",
    "\n",
    "- How did food security develop in the last decades (for sub-Saharan Africa)?\n",
    "\n",
    "- What has been the historic trend of environmental hazards in sub-Saharan Africa?\n",
    "\n",
    "- What is the impact of environmental hazard on the food systems? \n",
    "\n",
    "- How will the change in environmental hazards affect the food production output? (make some kind of and regresion model)\n",
    "\n",
    "- Which policies could counteract these negative effects on food production?\n",
    "\n"
   ]
  },
  {
   "cell_type": "markdown",
   "metadata": {},
   "source": [
    "<h2 align='left' style='margin-bottom: 0px'>Chapter 3 - Data Preparation</h2>\n",
    "\n",
    "For our analyses to answer our research question we use among others the WDI Data. However, the WDI Data is from all the countries over the world and all the regions. Since we only need the countries in Sub-Saharan Africa and the region Sub-Saharan Africa itself (this is just the average of all the countries in Sub-Saharan Africa) we need to select only those data. To compare Sub-Saharan Africa we also included the region 'World'.\n",
    "Unfortenaly the WDI Data does not contain the data about the region of every country, so we cannot, with only the WDI Data, extract all the countries in Sub-Saharan Africa. We use another datafile that contains all the countries and all their regions to extract a list with all the countries in Sub-Saharan Africa. We then use this list to create a DataFrame from the WDI Data containing only the data of those countries and the two regions 'Sub Saharan Africa' (SSF) and 'World' (WLD)."
   ]
  },
  {
   "cell_type": "code",
   "execution_count": 10,
   "metadata": {},
   "outputs": [],
   "source": [
    "dfc = pd.read_csv(\"countriescodes.csv\", sep = \",\", encoding = 'latin-1')\n",
    "l = dfc[dfc['sub-region'] == \"Sub-Saharan Africa\"][\"alpha-3\"]\n",
    "region = pd.Series([\"SSF\",\"WLD\"])\n",
    "l = l.append(region)\n",
    "WDI = pd.read_csv(\"WDI/WDIData.csv\")\n",
    "WDI_SSA = WDI[WDI[\"Country Code\"].isin(l)]"
   ]
  },
  {
   "cell_type": "markdown",
   "metadata": {},
   "source": [
    "No that we have the right DataFrame, we can modify the data further to make it specific to the graphs we want to create. This involves procedures like\n",
    "\n",
    "- Selecting only one or a few indicators\n",
    "- Selecting only the regions, or only the countries\n",
    "- Selecting a time range\n",
    "- Melting the data in a long format, which is convenient for plotting the data\n",
    "- Dropping al the rows where the values are missing\n",
    "\n",
    "It makes sense to melt the data as one of the lasts steps, because in that way you only use computational power for the data that you want to keep. After having the data melted, it is simple to drop the rows with NA values. The indicators, countries and regions we need differ per graph, therefore this is done previous to plotting each graph in chapter 4.\n"
   ]
  },
  {
   "cell_type": "markdown",
   "metadata": {},
   "source": [
    "Hier moet Ivar even vertellen over de EM-DAT database en de bewerkingen die die uitgevoerd heeft\n",
    "Hieronder kan dan daar de code voor worden ingevoegd"
   ]
  },
  {
   "cell_type": "code",
   "execution_count": null,
   "metadata": {},
   "outputs": [],
   "source": []
  },
  {
   "cell_type": "markdown",
   "metadata": {},
   "source": [
    "<h2 align='left' style='margin-bottom: 0px'>Chapter 4 - Data Analysis</h2>\n",
    "According to FAO [bron] there are five indicators that tell us how the zero hunger indicators are developing over the past 7 years. We show them below."
   ]
  },
  {
   "cell_type": "code",
   "execution_count": 21,
   "metadata": {},
   "outputs": [
    {
     "name": "stdout",
     "output_type": "stream",
     "text": [
      "This is the format of your plot grid:\n",
      "[ (1,1) x1,y1 ]  [ (1,2) x2,y2 ]  [ (1,3) x3,y3 ]  [ (1,4) x4,y4 ]  [ (1,5) x5,y5 ]\n",
      "\n"
     ]
    },
    {
     "data": {
      "text/html": [
       "<iframe id=\"igraph\" scrolling=\"no\" style=\"border:none;\" seamless=\"seamless\" src=\"https://plot.ly/~robdregmans/21.embed\" height=\"300px\" width=\"1000px\"></iframe>"
      ],
      "text/plain": [
       "<plotly.tools.PlotlyDisplay object>"
      ]
     },
     "execution_count": 21,
     "metadata": {},
     "output_type": "execute_result"
    }
   ],
   "source": [
    "#bar charts for hunger indicators\n",
    "stunting = \"SH.STA.STNT.ZS\"\n",
    "wasting = \"SH.STA.WAST.ZS\"\n",
    "overweight = \"SH.STA.OWGH.ZS\"\n",
    "anemia = \"SH.ANM.ALLW.ZS\"\n",
    "exclusive_breastfeeding = \"SH.STA.BFED.ZS\"\n",
    "#add all the indicators for zero hunger in a list\n",
    "li = [[\"SH.STA.STNT.ZS\"],[\"SH.STA.WAST.ZS\"],[\"SH.STA.OWGH.ZS\"],[\"SH.ANM.ALLW.ZS\"],[\"SH.STA.BFED.ZS\"]]\n",
    "indi = []\n",
    "#get the data in the right format for all the indicators via a for-loop\n",
    "for i in range(0,5):\n",
    "    WDI_SSA_I = WDI_SSA[WDI_SSA[\"Indicator Code\"].isin(li[i])]\n",
    "    #get all the necessary columns\n",
    "    SSA_10_17 = pd.concat([WDI_SSA_I.loc[:,'Country Name':'Indicator Code'],WDI_SSA_I.loc[:,'2010':'2017']], axis=1)\n",
    "    #melt the data into a long format\n",
    "    melted = pd.melt(SSA_10_17, id_vars=[\"Country Name\", \"Country Code\", \"Indicator Name\", \"Indicator Code\"], var_name=\"Year\", value_name=\"Value\")\n",
    "    #plot indicator over time for one country\n",
    "    ll = [ 'Sub-Saharan Africa','World']\n",
    "    #get only the two regions above and sort them\n",
    "    mc = melted.loc[melted['Country Name'].isin(ll)] \n",
    "    mc = mc.sort_values([\"Country Name\", \"Year\"])\n",
    "    #create two traces, for each region 1\n",
    "    trace1 = go.Bar(\n",
    "        x = mc[mc[\"Country Name\"] == 'World'][\"Year\"],\n",
    "        y = mc[mc[\"Country Name\"] == 'World'][\"Value\"],\n",
    "        name = 'World',\n",
    "        legendgroup = 'a',\n",
    "        showlegend = False,\n",
    "        marker=dict(color='#1f77b4'),\n",
    "    )\n",
    "    trace2 = go.Bar(\n",
    "        x = mc[mc[\"Country Name\"] == 'World'][\"Year\"],\n",
    "        y = mc[mc[\"Country Name\"] == 'Sub-Saharan Africa'][\"Value\"],\n",
    "        name = 'Sub-Saharan Africa',\n",
    "        legendgroup = 'b',\n",
    "        showlegend = False,\n",
    "        marker=dict(color='#ff7f0e'),\n",
    "    )\n",
    "    #add the two traces together and add them to indi\n",
    "    data = [trace1, trace2]   \n",
    "    indi.append(data)\n",
    "#plot all the bar charts \n",
    "fig = tools.make_subplots(rows=1, cols=5, subplot_titles=('Stunting', 'Wasting', 'Overweight', 'Anemia', 'Exclusive Breastfeeding'))\n",
    "for i in range(0,5):\n",
    "    fig.append_trace(indi[i][0], 1, i+1)\n",
    "    fig.append_trace(indi[i][1], 1, i+1)\n",
    "fig['layout'].update(height=300, width=1000, title='Indicators for zero hunger from 2010 till 2017')\n",
    "py.iplot(fig, filename='zero-hunger-indicators')"
   ]
  },
  {
   "cell_type": "markdown",
   "metadata": {},
   "source": [
    "Uitleg over de begrippen en observaties "
   ]
  }
 ],
 "metadata": {
  "kernelspec": {
   "display_name": "Python 3",
   "language": "python",
   "name": "python3"
  }
 },
 "nbformat": 4,
 "nbformat_minor": 2
}
