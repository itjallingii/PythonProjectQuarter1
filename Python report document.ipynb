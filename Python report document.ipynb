{
 "cells": [
  {
   "cell_type": "markdown",
   "metadata": {},
   "source": [
    "<span><br><br><br></span>\n",
    "\n",
    "<h1 align='center' style='margin-bottom: 0px'>The state of Food Security in Sub-Saharan Africa</h1>\n",
    "<h3 align='center' style='margin-top: 10px'> The analysis off the effects of environmental hazards and food security in Sub-Saharan Africa</h3>"
   ]
  },
  {
   "cell_type": "code",
   "execution_count": 237,
   "metadata": {},
   "outputs": [],
   "source": [
    "import plotly\n",
    "plotly.tools.set_credentials_file(username='robdregmans', api_key='zgwY480qDZBEkGhJOHZD')"
   ]
  },
  {
   "cell_type": "code",
   "execution_count": null,
   "metadata": {
    "scrolled": true
   },
   "outputs": [],
   "source": [
    "from IPython.display import Image\n",
    "Image(filename='Report afbeelding 1.jpg')"
   ]
  },
  {
   "cell_type": "markdown",
   "metadata": {},
   "source": [
    "\n",
    "<h4 align='right', style='margin-bottom': 0px'> 27 October 2018, The Hague</h4>\n",
    "<h4 align='right', style='margin-top: 3px'> Ivar Tjallingii, Rob Dregmans, Martijn van Vliet</h4>"
   ]
  },
  {
   "cell_type": "code",
   "execution_count": 112,
   "metadata": {},
   "outputs": [],
   "source": [
    "#Setting up the working environment\n",
    "import os\n",
    "import pandas as pd\n",
    "import numpy as np\n",
    "import matplotlib.pyplot as plt\n",
    "from pathlib import Path\n",
    "import itertools\n",
    "import plotly.plotly as py\n",
    "from plotly import tools\n",
    "import plotly.graph_objs as go\n",
    "\n",
    "import plotly as pyp\n",
    "from plotly.offline import init_notebook_mode, iplot\n",
    "from plotly.graph_objs import Contours, Histogram2dContour, Marker, Scatter\n",
    "import seaborn as sns\n",
    "\n",
    "plt.style.use('ggplot')\n",
    "%matplotlib inline"
   ]
  },
  {
   "cell_type": "code",
   "execution_count": null,
   "metadata": {},
   "outputs": [],
   "source": [
    "#for Ivar\n",
    "os.chdir(\"C://Users//ivarnieuwepc//Documents//GitHub//Data\")"
   ]
  },
  {
   "cell_type": "code",
   "execution_count": 113,
   "metadata": {},
   "outputs": [],
   "source": [
    "#for Rob\n",
    "os.chdir(\"C:\\\\Users\\\\Rob\\\\Documents\\\\GitHub\\\\data\")"
   ]
  },
  {
   "cell_type": "code",
   "execution_count": null,
   "metadata": {},
   "outputs": [],
   "source": [
    "#for Martijn\n",
    "os.chdir('/Users/Martijn/Documents/GitHub/data')"
   ]
  },
  {
   "cell_type": "markdown",
   "metadata": {},
   "source": [
    "<h2 align='left' style='margin-bottom: 0px'>Table of Contents</h2>\n",
    "<h4 align='left' style='margin-top: 20px'>   - Chapter 1 - Introduction to food security in Sub-Saharan Africa</h4>\n",
    "<h4 align='left' style='margin-top: 5px'> - Chapter 2 - Methodology & Research questions</h4>\n",
    "<h4 align='left' style='margin-top: 5px'> - Chapter 3 - Data Preparation</h4>\n",
    "<h4 align='left' style='margin-top: 5px'> - Chapter 4 - Data Analysis</h4>\n",
    "<h4 align='left' style='margin-top: 5px'> - Chapter 5 - Policy recommendation</h4>\n"
   ]
  },
  {
   "cell_type": "markdown",
   "metadata": {},
   "source": [
    "<h2 align='left' style='margin-bottom: 0px'>Chapter 1 - Introduction to food security in Sub-Saharan Africa</h2>\n",
    "<h3 align='left' style='margin-bottom: 0px'>United Nations targets</h3>\n",
    "The reduction of hunger around the world is Sustainable Development Goal (SDG) number 2 of the total seventeen SDG's set up in the 2030 Agenda for Sustainable Development, adopted by all United Nations Member States in 2015. These goals provides a shared blueprint for peace and prosperity for people and the planet. According to the UN targets, need to rethink how we grow, share and consume our food. Only then agriculture, forestry and fisheries can provide food for all people around the world and generate decent incomes, while supporting people-centered rural development and protecting the environment.\n",
    "\n",
    "#### To act on this goal to obtain enough food for everyone, five main targets have been set out for 2030 by all United Nations Member Sates:\n",
    "\n",
    "- 2.1: End hunger and ensure access by all people, in particular the poor and people in vulnerable situations, including infants, to safe, nutritious and sufficient food all year round.\n",
    "\n",
    "- 2.2: End all forms of malnutrition, including achieving, by 2025, the internationally agreed targets on stunting and wasting in children under 5 years of age, and address the nutritional needs of adolescent girls, pregnant and lactating women and older persons.\n",
    "\n",
    "- 2.3: Double the agricultural productivity and incomes of small-scale food producers, in particular women, indigenous peoples, family farmers, pastoralists and fishers, including through secure and equal access to land, other productive resources and inputs, knowledge, financial services, markets and opportunities for value addition and non-farm employment.\n",
    "\n",
    "- 2.4: Ensure sustainable food production systems and implement resilient agricultural practices that increase productivity and production, that help maintain ecosystems, that strengthen capacity for adaptation to climate change, extreme weather, drought, flooding and other disasters and that progressively improve land and soil quality.\n",
    "\n",
    "- 2.5: Maintain the genetic diversity of seeds, cultivated plants and farmed and domesticated animals and their related wild species, including through soundly managed and diversified seed and plant banks at the national, regional and international levels, and promote access to and fair and equitable sharing of benefits arising from the utilization of genetic resources and associated traditional knowledge, as internationally agreed.\n",
    "\n",
    "Sources:\n",
    "- https://www.un.org/sustainabledevelopment/hunger/\n",
    "- https://sustainabledevelopment.un.org/?menu=1300\n",
    "- http://www.fao.org/state-of-food-security-nutrition/en/"
   ]
  },
  {
   "cell_type": "markdown",
   "metadata": {},
   "source": [
    "<h2 align='left' style='margin-bottom: 0px'>Chapter 2 - Methodology & Research questions</h2>\n",
    "<h3 align='left' style='margin-bottom: 0px'>Methodology</h3>\n",
    "<h3 align='left' style='margin-bottom: 0px'>Research questions</h3>\n",
    "\n",
    "<h4 align='left' style='margin-bottom: 0px'>Main research question</h4>\n",
    "\n",
    "- To what extent is hunger in sub-Saharan Africa related to environmental hazards and how will this trend develop until 2030 under the effects of climate change?\n",
    "<h4 align='left' style='margin-bottom: 0px'>Subquestions</h4>\n",
    "\n",
    "- How did food security develop in the last decades (for sub-Saharan Africa)?\n",
    "\n",
    "- What has been the historic trend of environmental hazards in sub-Saharan Africa?\n",
    "\n",
    "- What is the impact of environmental hazard on the food systems? \n",
    "\n",
    "- How will the change in environmental hazards affect the food production output? (make some kind of and regresion model)\n",
    "\n",
    "- Which policies could counteract these negative effects on food production?\n",
    "\n"
   ]
  },
  {
   "cell_type": "markdown",
   "metadata": {},
   "source": [
    "<h2 align='left' style='margin-bottom: 0px'>Chapter 3 - Data Preparation</h2>\n",
    "\n",
    "For our analyses to answer our research question we use among others the WDI Data. However, the WDI Data is from all the countries over the world and all the regions. Since we only need the countries in Sub-Saharan Africa and the region Sub-Saharan Africa itself (this is just the average of all the countries in Sub-Saharan Africa) we need to select only those data. To compare Sub-Saharan Africa we also included the region 'World'.\n",
    "Unfortenaly the WDI Data does not contain the data about the region of every country, so we cannot, with only the WDI Data, extract all the countries in Sub-Saharan Africa. We use another datafile that contains all the countries and all their regions to extract a list with all the countries in Sub-Saharan Africa. We then use this list to create a DataFrame from the WDI Data containing only the data of those countries and the two regions 'Sub Saharan Africa' (SSF) and 'World' (WLD)."
   ]
  },
  {
   "cell_type": "code",
   "execution_count": 114,
   "metadata": {},
   "outputs": [],
   "source": [
    "dfc = pd.read_csv(\"countriescodes.csv\", sep = \",\", encoding = 'latin-1')\n",
    "l = dfc[dfc['sub-region'] == \"Sub-Saharan Africa\"][\"alpha-3\"]\n",
    "region = pd.Series([\"SSF\",\"WLD\"])\n",
    "l = l.append(region)\n",
    "WDI = pd.read_csv(\"WDI/WDIData.csv\")\n",
    "WDI_SSA = WDI[WDI[\"Country Code\"].isin(l)]"
   ]
  },
  {
   "cell_type": "markdown",
   "metadata": {},
   "source": [
    "No that we have the right DataFrame, we can modify the data further to make it specific to the graphs we want to create. This involves procedures like\n",
    "\n",
    "- Selecting only one or a few indicators\n",
    "- Selecting only the regions, or only the countries\n",
    "- Selecting a time range\n",
    "- Melting the data in a long format, which is convenient for plotting the data\n",
    "- Dropping al the rows where the values are missing\n",
    "\n",
    "It makes sense to melt the data as one of the lasts steps, because in that way you only use computational power for the data that you want to keep. After having the data melted, it is simple to drop the rows with NA values. The indicators, countries and regions we need differ per graph, therefore this is done previous to plotting each graph in chapter 4.\n"
   ]
  },
  {
   "cell_type": "markdown",
   "metadata": {},
   "source": [
    "Hier moet Ivar even vertellen over de EM-DAT database en de bewerkingen die die uitgevoerd heeft\n",
    "Hieronder kan dan daar de code voor worden ingevoegd"
   ]
  },
  {
   "cell_type": "code",
   "execution_count": null,
   "metadata": {},
   "outputs": [],
   "source": []
  },
  {
   "cell_type": "markdown",
   "metadata": {},
   "source": [
    "<h2 align='left' style='margin-bottom: 0px'>Chapter 4 - Data Analysis</h2>\n",
    "According to FAO [bron] there are five indicators that tell us how the zero hunger indicators are developing over the past 7 years. We show them below."
   ]
  },
  {
   "cell_type": "code",
   "execution_count": 69,
   "metadata": {},
   "outputs": [
    {
     "data": {
      "text/html": [
       "<iframe id=\"igraph\" scrolling=\"no\" style=\"border:none;\" seamless=\"seamless\" src=\"https://plot.ly/~borsnamgerd/8.embed\" height=\"300px\" width=\"900px\"></iframe>"
      ],
      "text/plain": [
       "<plotly.tools.PlotlyDisplay object>"
      ]
     },
     "execution_count": 69,
     "metadata": {},
     "output_type": "execute_result"
    }
   ],
   "source": [
    "#bar charts for hunger indicators\n",
    "stunting = \"SH.STA.STNT.ZS\"\n",
    "wasting = \"SH.STA.WAST.ZS\"\n",
    "overweight = \"SH.STA.OWGH.ZS\"\n",
    "anemia = \"SH.ANM.ALLW.ZS\"\n",
    "exclusive_breastfeeding = \"SH.STA.BFED.ZS\"\n",
    "#add all the indicators for zero hunger in a list\n",
    "li = [[\"SH.STA.STNT.ZS\"],[\"SH.STA.WAST.ZS\"],[\"SH.STA.OWGH.ZS\"],[\"SH.ANM.ALLW.ZS\"],[\"SH.STA.BFED.ZS\"]]\n",
    "indi = []\n",
    "#get the data in the right format for all the indicators via a for-loop\n",
    "for i in range(0,5):\n",
    "    WDI_SSA_I = WDI_SSA[WDI_SSA[\"Indicator Code\"].isin(li[i])]\n",
    "    #get all the necessary columns\n",
    "    SSA_10_17 = pd.concat([WDI_SSA_I.loc[:,'Country Name':'Indicator Code'],WDI_SSA_I.loc[:,'2010':'2017']], axis=1)\n",
    "    #melt the data into a long format\n",
    "    melted = pd.melt(SSA_10_17, id_vars=[\"Country Name\", \"Country Code\", \"Indicator Name\", \"Indicator Code\"], var_name=\"Year\", value_name=\"Value\")\n",
    "    #plot indicator over time for one country\n",
    "    ll = [ 'Sub-Saharan Africa','World']\n",
    "    #get only the two regions above and sort them\n",
    "    mc = melted.loc[melted['Country Name'].isin(ll)] \n",
    "    mc = mc.sort_values([\"Country Name\", \"Year\"])\n",
    "    #create two traces, for each region 1\n",
    "    trace1 = go.Bar(\n",
    "        x = mc[mc[\"Country Name\"] == 'World'][\"Year\"],\n",
    "        y = mc[mc[\"Country Name\"] == 'World'][\"Value\"],\n",
    "        name = 'World',\n",
    "        legendgroup = 'a',\n",
    "        showlegend = False,\n",
    "        marker=dict(color='#1f77b4'),\n",
    "    )\n",
    "    trace2 = go.Bar(\n",
    "        x = mc[mc[\"Country Name\"] == 'Sub-Saharan Africa'][\"Year\"],\n",
    "        y = mc[mc[\"Country Name\"] == 'Sub-Saharan Africa'][\"Value\"],\n",
    "        name = 'Sub-Saharan Africa',\n",
    "        legendgroup = 'b',\n",
    "        showlegend = False,\n",
    "        marker=dict(color='#ff7f0e'),\n",
    "    )\n",
    "    #add the two traces together and add them to indi\n",
    "    data = [trace1, trace2]   \n",
    "    indi.append(data)\n",
    "#plot all the bar charts \n",
    "fig = tools.make_subplots(rows=1, cols=5, subplot_titles=('Stunting', 'Wasting', 'Overweight', 'Anemia', 'Exclusive Breastfeeding'), print_grid = False)\n",
    "for i in range(0,5):\n",
    "    fig.append_trace(indi[i][0], 1, i+1)\n",
    "    fig.append_trace(indi[i][1], 1, i+1)\n",
    "fig['layout'].update(height=300, width=900, title='Indicators for zero hunger from 2010 till 2017')\n",
    "py.iplot(fig, filename='zero-hunger-indicators')"
   ]
  },
  {
   "cell_type": "markdown",
   "metadata": {},
   "source": [
    "Uitleg over de begrippen en observaties "
   ]
  },
  {
   "cell_type": "markdown",
   "metadata": {},
   "source": [
    "Stuk van Martijn"
   ]
  },
  {
   "cell_type": "code",
   "execution_count": 11,
   "metadata": {},
   "outputs": [],
   "source": [
    "df = pd.melt(WDI_SSA,id_vars = [\"Country Name\",\"Country Code\",\"Indicator Name\",\"Indicator Code\"], var_name = \"Years\")\n",
    "# Sort the values first by Country Name and then by Years\n",
    "df = df.sort_values([\"Country Name\", \"Years\"])"
   ]
  },
  {
   "cell_type": "code",
   "execution_count": 59,
   "metadata": {},
   "outputs": [],
   "source": [
    "def data_return(indicator_code, mode):\n",
    "    df_und = df[df[\"Indicator Code\"] == indicator_code]\n",
    "    df_und = df_und.dropna()\n",
    "    x = df_und[df_und[\"Country Name\"] == 'World'][\"Years\"]\n",
    "    y1 = df_und[df_und[\"Country Name\"] == 'World'][\"value\"]\n",
    "    y2 = df_und[df_und[\"Country Name\"] == 'Sub-Saharan Africa'][\"value\"]\n",
    "\n",
    "    trace0 = go.Scatter(\n",
    "        x = x,\n",
    "        y = y1,\n",
    "        mode = mode,\n",
    "        name = \"World\"\n",
    "        )\n",
    "    trace1 = go.Scatter(\n",
    "        x = x,\n",
    "        y = y2,\n",
    "        mode = mode,\n",
    "        name = \"Sub-Saharan Africa\"\n",
    "    )\n",
    "    data = [trace0,trace1]\n",
    "    return data"
   ]
  },
  {
   "cell_type": "code",
   "execution_count": 60,
   "metadata": {},
   "outputs": [],
   "source": [
    "def data_plot(indicator_code,title,ytitle,yrange, mode):\n",
    "    data = data_return(indicator_code, mode)\n",
    "    \n",
    "    layout = dict(title = title,\n",
    "              xaxis = dict(title = 'Years'),\n",
    "              yaxis = dict(title = ytitle,\n",
    "                          range = [0,yrange]),\n",
    "              )\n",
    "\n",
    "    fig = dict(data=data, layout=layout)\n",
    "    plot = py.iplot(fig, filename='line-mode')\n",
    "    return plot"
   ]
  },
  {
   "cell_type": "code",
   "execution_count": 115,
   "metadata": {},
   "outputs": [
    {
     "name": "stdout",
     "output_type": "stream",
     "text": [
      "High five! You successfully sent some data to your account on plotly. View your plot in your browser at https://plot.ly/~borsnamgerd/0 or inside your plot.ly account where it is named 'line-mode'\n"
     ]
    },
    {
     "data": {
      "text/html": [
       "<iframe id=\"igraph\" scrolling=\"no\" style=\"border:none;\" seamless=\"seamless\" src=\"https://plot.ly/~borsnamgerd/0.embed\" height=\"525px\" width=\"100%\"></iframe>"
      ],
      "text/plain": [
       "<plotly.tools.PlotlyDisplay object>"
      ]
     },
     "execution_count": 115,
     "metadata": {},
     "output_type": "execute_result"
    }
   ],
   "source": [
    "data_plot(indicator_code ='SN.ITK.DEFC.ZS',\n",
    "          title = 'Undernourishment in Sub-Saharan Africa vs. the World',\n",
    "          ytitle = '% Undernourishment',\n",
    "          yrange = 30,\n",
    "          mode = \"lines + markers\")"
   ]
  },
  {
   "cell_type": "code",
   "execution_count": null,
   "metadata": {},
   "outputs": [],
   "source": [
    "data_plot(indicator_code = 'AG.YLD.CREL.KG',\n",
    "          title = 'Cereal Yield in Sub-Saharan Africa vs. the World',\n",
    "          ytitle = 'Cereal Yield (kg per hectare)',\n",
    "          yrange = 4500,\n",
    "          mode = \"lines + markers\")"
   ]
  },
  {
   "cell_type": "code",
   "execution_count": null,
   "metadata": {},
   "outputs": [],
   "source": [
    "data_plot(indicator_code ='SN.ITK.DFCT',\n",
    "          title = 'Depth of the food deficit in Sub-Saharan Africa and the World',\n",
    "          ytitle = 'Kilocalories per person per day',\n",
    "          yrange = 250,\n",
    "          mode = \"lines + markers\")"
   ]
  },
  {
   "cell_type": "markdown",
   "metadata": {},
   "source": [
    "We are interested in if there are any differences between population growth and the development of food production. Is food production for example lacking behind on population growth? Or is the food production growing faster than the population growth and is that why the food deficit is declining?\n",
    "To get more insight, we first plot below the population growth and food production growth (as an index) of Sub-Saharan Africa and include the World for comparison."
   ]
  },
  {
   "cell_type": "code",
   "execution_count": 68,
   "metadata": {
    "scrolled": false
   },
   "outputs": [
    {
     "name": "stdout",
     "output_type": "stream",
     "text": [
      "High five! You successfully sent some data to your account on plotly. View your plot in your browser at https://plot.ly/~borsnamgerd/0 or inside your plot.ly account where it is named 'line-mode'\n"
     ]
    },
    {
     "data": {
      "text/html": [
       "<iframe id=\"igraph\" scrolling=\"no\" style=\"border:none;\" seamless=\"seamless\" src=\"https://plot.ly/~borsnamgerd/0.embed\" height=\"500px\" width=\"950px\"></iframe>"
      ],
      "text/plain": [
       "<plotly.tools.PlotlyDisplay object>"
      ]
     },
     "execution_count": 68,
     "metadata": {},
     "output_type": "execute_result"
    }
   ],
   "source": [
    "pop = data_return('SP.POP.TOTL', \"lines\")\n",
    "pro = data_return('AG.PRD.FOOD.XD', \"lines\")\n",
    "fig = tools.make_subplots(rows=1, cols=2, shared_xaxes=True, subplot_titles=('Population', 'Food Production'), print_grid = False)\n",
    "for i in range(0,2):\n",
    "    fig.append_trace(pop[i], 1,1)\n",
    "    fig.append_trace(pro[i], 1,2)\n",
    "fig['layout'].update(height=500, width=950, title='Development of Population versus food production', showlegend = False)\n",
    "py.iplot(fig, filename='line-mode')"
   ]
  },
  {
   "cell_type": "markdown",
   "metadata": {},
   "source": [
    "If we then want to check if there is a difference in population versus production we can compare the changes over the years. To do this for Sub-Saharan Africa, we first extract the data about the two indicators for Sub-Saharan Africa. Then we calculate the percentual change by diving year t=1 by year t=0, etc. We do this for both indicators and then divide the change of both indicators by each other over the years. We see the result in the graph below. A point above 1 means that the rate of change in population was that year higher than the change of rate in food production. For a point below 1 it is vica versa. We can conclude that the differences are marginal (the numbers swing between 0.95 and 1.04) and therefor that there is no abnormal difference between population growth and food production growth."
   ]
  },
  {
   "cell_type": "code",
   "execution_count": 67,
   "metadata": {},
   "outputs": [
    {
     "data": {
      "text/html": [
       "<iframe id=\"igraph\" scrolling=\"no\" style=\"border:none;\" seamless=\"seamless\" src=\"https://plot.ly/~borsnamgerd/6.embed\" height=\"525px\" width=\"100%\"></iframe>"
      ],
      "text/plain": [
       "<plotly.tools.PlotlyDisplay object>"
      ]
     },
     "execution_count": 67,
     "metadata": {},
     "output_type": "execute_result"
    }
   ],
   "source": [
    "dfi = df[df[\"Indicator Code\"] == 'SP.POP.TOTL']\n",
    "dfi = dfi.dropna()\n",
    "x = dfi[dfi[\"Country Name\"] == 'World'][\"Years\"]\n",
    "ysp = dfi[dfi[\"Country Name\"] == 'Sub-Saharan Africa'][\"value\"]\n",
    "dfi = df[df[\"Indicator Code\"] == 'AG.PRD.FOOD.XD']\n",
    "dfi = dfi.dropna()\n",
    "x = dfi[dfi[\"Country Name\"] == 'World'][\"Years\"]\n",
    "yag = dfi[dfi[\"Country Name\"] == 'Sub-Saharan Africa'][\"value\"]\n",
    "lysp = []\n",
    "for i in range(0,len(x)-1):\n",
    "    change = ysp.iloc[i+1]/ysp.iloc[i]\n",
    "    lysp.append(change)    \n",
    "lyag = []\n",
    "for i in range(0,len(x)-1):\n",
    "    change = yag.iloc[i+1]/yag.iloc[i]\n",
    "    lyag.append(change)\n",
    "lyto = []\n",
    "for i in range(0,len(lysp)):\n",
    "    change = lysp[i]/lyag[i]\n",
    "    lyto.append(change)\n",
    "trace = go.Scatter(\n",
    "    x = x,\n",
    "    y = lyto,\n",
    "    mode = 'lines',\n",
    "    name = 'rate of change of population over rate of change of food production'\n",
    ")\n",
    "layout = dict(title = 'Rate of change of population over rate of change of food production',\n",
    "              xaxis = dict(title = 'Years'),\n",
    "              yaxis = dict(title = 'Ratio'),\n",
    "             )\n",
    "fig = dict(data = [trace], layout = layout)\n",
    "py.iplot(fig, filename='change rate')\n"
   ]
  },
  {
   "cell_type": "code",
   "execution_count": 18,
   "metadata": {},
   "outputs": [],
   "source": [
    "def create_map_undernourishment(year):\n",
    "    df_map = df[df[\"Indicator Code\"] == 'SN.ITK.DEFC.ZS']\n",
    "    df_map = df_map[df_map[\"Years\"] == year]\n",
    "\n",
    "    scl = [[0.0, 'rgb(255,127,80)'],[0.2, 'rgb(255,99,71)'],[0.4, 'rgb(255,0,0)'],\\\n",
    "            [0.6, 'rgb(220,20,60)'],[1, 'rgb(178,34,34)']]\n",
    "\n",
    "    df_map['text'] = df_map['Country Name']\n",
    "\n",
    "    data = [ dict(\n",
    "        type='choropleth',\n",
    "        colorscale = scl,\n",
    "        autocolorscale = False,\n",
    "        locations = df_map['Country Code'],\n",
    "        z = df_map['value'],\n",
    "        locationmode = 'ISO-3',\n",
    "        text = df_map['text'],\n",
    "        marker = dict(\n",
    "            line = dict (\n",
    "                color = 'rgb(255,255,255)',\n",
    "                width = 1\n",
    "            ) ),\n",
    "        colorbar = dict(\n",
    "            title = \"% Undernourishment\")\n",
    "        ) ]\n",
    "\n",
    "    layout = dict(\n",
    "        title = 'Undernourishment in Sub-Saharan Africa in the year ' + year,\n",
    "        geo = dict(\n",
    "            scope='africa',\n",
    "            showlakes = True,\n",
    "            lakecolor = 'rgb(135,206,235)',\n",
    "            showland = True,\n",
    "            landcolor = 'rgb(220,220,220)')\n",
    "             )\n",
    "    \n",
    "    fig = dict( data=data, layout=layout )\n",
    "    plot = py.iplot( fig, filename='d3-cloropleth-map' )\n",
    "    return plot"
   ]
  },
  {
   "cell_type": "code",
   "execution_count": 116,
   "metadata": {},
   "outputs": [],
   "source": [
    "#create_map_undernourishment('2000')"
   ]
  },
  {
   "cell_type": "code",
   "execution_count": 220,
   "metadata": {},
   "outputs": [],
   "source": [
    "df_emd = pd.read_csv('disaster_data_africa_1960_2018_conv.csv', sep = ';', encoding = 'latin-1')\n",
    "frec = df_emd.groupby([\"year\", \"disaster type\"])[['disaster type']].count()\n",
    "frec = frec.rename({'disaster type':'frequency'}, axis='columns')\n",
    "frec2 = df_emd.groupby( [ \"year\", \"disaster type\"] ).size().reset_index()\n",
    "frec2.columns = ['year', 'type', 'frequency']\n",
    "#selecting impact per type basis of costs, death and affected people\n",
    "df_emd.columns = ['year', 'type', 'iso', ' country_name', 'occurrence',\n",
    "       'Total deaths', 'Injured', 'Affected', 'Homeless', 'Total affected',\n",
    "       'Total damage (US$)'] \n",
    "impact = df_emd.groupby([\"year\",\"type\"])[['Total deaths','Total affected','Total damage (US$)']].sum().reset_index()\n",
    "total_damage = impact.groupby([\"year\"]).sum().reset_index()\n",
    "total_frequency = frec2.groupby([\"year\"]).sum().reset_index()\n",
    "\n",
    "#different types of hazards\n",
    "types = [\"Flood\",\"Landslide\",\"Storm\",\"Drought\",\"Wildfire\",\"Extreme temperature\"]\n",
    "\n",
    "#setting up a red color palette for the data points\n",
    "start_color = \"rgb(204,142,142)\"\n",
    "color_dict = {}\n",
    "type(start_color[12:15])\n",
    "for i in range(len(types)):\n",
    "    k = int(start_color[12:15]) - 20 * i\n",
    "    m = int(start_color[8:11]) - 20* i\n",
    "    new_value = start_color[0:8] + str(m) + ',' + str(k) + ')'\n",
    "    color_dict[types[i]] = new_value\n",
    "color_dict[\"Drought\"] = \"rgb(30,144,255)\""
   ]
  },
  {
   "cell_type": "code",
   "execution_count": 227,
   "metadata": {},
   "outputs": [],
   "source": [
    "def regression_path(regression_data, y_column, order):\n",
    "    rg=sns.regplot(y = y_column, x = \"year\", data = regression_data.astype(int), order = order)\n",
    "    x=rg.get_lines()[0].get_xdata()       # x-coordinate of points along the regression line\n",
    "    y=rg.get_lines()[0].get_ydata()       # y-coordinate of regression line\n",
    "    P=rg.get_children()[1].get_paths()    #The list of Path(s) bounding the shape of 95% confidence interval-transparent\n",
    "    p_codes={1:'M', 2: 'L', 79: 'Z'}      #dict to get the Plotly codes for commands to define the svg path\n",
    "    path=''\n",
    "    for s in P[0].iter_segments():\n",
    "        c=p_codes[s[1]]\n",
    "        xx, yy=s[0]\n",
    "        path+=c+str('{:.5f}'.format(xx))+' '+str('{:.5f}'.format(yy))\n",
    "    shapes=[dict(type='path',\n",
    "             path=path,\n",
    "             line=dict(width=0.1,color = color_dict[i]),\n",
    "             fillcolor='rgb(30,144,255)')]   \n",
    "    Regression = go.Scatter(\n",
    "        x = x,\n",
    "        y = y,\n",
    "        mode = \"lines\",\n",
    "        name = \"Regression\",\n",
    "        line = dict(color = 'rgb(30,144,255)', width = 1))\n",
    "    return Regression, path"
   ]
  },
  {
   "cell_type": "code",
   "execution_count": 235,
   "metadata": {},
   "outputs": [],
   "source": [
    "def add_layout(title, ytitle, yrangemin, yrangemax):\n",
    "    layout = go.Layout(\n",
    "        shapes = [ \n",
    "            dict(\n",
    "                fillcolor = 'rgba(127,127,127,0.10)', \n",
    "                line = dict(color = 'rgb(127,127,127)', width = 0.1), \n",
    "                path = path,\n",
    "                type = \"path\")\n",
    "                 ],\n",
    "        title = title,        \n",
    "        xaxis = dict(\n",
    "            gridcolor = \"rgb(255,255,255)\", \n",
    "            mirror = False, \n",
    "            range = [1960,2020],\n",
    "            title = \"Year\",\n",
    "            zeroline = False,\n",
    "        ),\n",
    "        yaxis=dict(\n",
    "            range = [yrangemin,yrangemax],\n",
    "            title = ytitle,\n",
    "            gridcolor='rgb(255,255,255)',\n",
    "            showgrid=True,\n",
    "            showline=False,\n",
    "            showticklabels=True,\n",
    "            tickcolor='rgb(127,127,127)',\n",
    "            ticks='outside',\n",
    "            zeroline=False\n",
    "        ),\n",
    "     )\n",
    "    return layout"
   ]
  },
  {
   "cell_type": "code",
   "execution_count": 240,
   "metadata": {},
   "outputs": [
    {
     "data": {
      "text/html": [
       "<iframe id=\"igraph\" scrolling=\"no\" style=\"border:none;\" seamless=\"seamless\" src=\"https://plot.ly/~robdregmans/21.embed\" height=\"525px\" width=\"100%\"></iframe>"
      ],
      "text/plain": [
       "<plotly.tools.PlotlyDisplay object>"
      ]
     },
     "execution_count": 240,
     "metadata": {},
     "output_type": "execute_result"
    },
    {
     "data": {
      "image/png": "[encoded data removed]",
      "text/plain": [
       "<Figure size 432x288 with 1 Axes>"
      ]
     },
     "metadata": {},
     "output_type": "display_data"
    }
   ],
   "source": [
    "traces = []\n",
    "for i in types:\n",
    "    x = list(impact[impact.type == i]['year'])\n",
    "    y = list(impact[impact.type == i]['Total affected'])\n",
    "    trace = go.Scatter(\n",
    "        x = x,\n",
    "        y = y,\n",
    "        mode = \"markers\",\n",
    "        name = i,\n",
    "        line=dict(width=0.1,color = color_dict[i]))\n",
    "    traces.append(trace)  \n",
    "    \n",
    "regression_data_drought = pd.DataFrame({\"Total affected\" : list(impact[impact.type == \"Drought\"]['Total affected']), \"year\" : list(impact[impact.type == \"Drought\"]['year'])})\n",
    "\n",
    "(Drought_Regression, path) = regression_path(regression_data_drought,\"Total affected\",2)\n",
    "\n",
    "layout = add_layout(\"Disasters in Africa by total affected population <br> Regression line and  95%-confidence interval for Droughts\",'Total Affected',0,35000000)\n",
    "\n",
    "traces.append(Drought_Regression)    \n",
    "fig = dict(data=traces, layout=layout)\n",
    "py.iplot(fig, filename='zero-hunger-indicators')"
   ]
  },
  {
   "cell_type": "code",
   "execution_count": null,
   "metadata": {},
   "outputs": [],
   "source": []
  },
  {
   "cell_type": "code",
   "execution_count": 241,
   "metadata": {
    "scrolled": false
   },
   "outputs": [
    {
     "data": {
      "text/html": [
       "<iframe id=\"igraph\" scrolling=\"no\" style=\"border:none;\" seamless=\"seamless\" src=\"https://plot.ly/~robdregmans/21.embed\" height=\"525px\" width=\"100%\"></iframe>"
      ],
      "text/plain": [
       "<plotly.tools.PlotlyDisplay object>"
      ]
     },
     "execution_count": 241,
     "metadata": {},
     "output_type": "execute_result"
    },
    {
     "data": {
      "image/png": "[encoded data removed]",
      "text/plain": [
       "<Figure size 432x288 with 1 Axes>"
      ]
     },
     "metadata": {},
     "output_type": "display_data"
    }
   ],
   "source": [
    "x = list(total_damage['year'])\n",
    "y = list(total_damage['Total damage (US$)'])\n",
    "\n",
    "trace = go.Scatter(\n",
    "        x = x,\n",
    "        y = y,\n",
    "        mode = \"markers\",\n",
    "        name = 'Damage',\n",
    "        line=dict(width=0.1,color = 'red'))\n",
    "        \n",
    "regression_data_damage = pd.DataFrame({\"Total Damage\" : list(total_damage['Total damage (US$)']), \"year\" : list(total_damage['year'])})\n",
    "\n",
    "(regression, path) = regression_path(regression_data_damage,\"Total Damage\",2)\n",
    "layout = add_layout(\"Disasters in Africa by total damage <br> Regression line and  95%-confidence interval for total damage per year\",'Total damage in US dollars ($)',-100000,1500000)\n",
    "\n",
    "data = [trace, regression]     \n",
    "fig = dict(data=data, layout=layout)\n",
    "py.iplot(fig, filename='zero-hunger-indicators')"
   ]
  },
  {
   "cell_type": "code",
   "execution_count": 242,
   "metadata": {},
   "outputs": [
    {
     "data": {
      "text/html": [
       "<iframe id=\"igraph\" scrolling=\"no\" style=\"border:none;\" seamless=\"seamless\" src=\"https://plot.ly/~robdregmans/21.embed\" height=\"525px\" width=\"100%\"></iframe>"
      ],
      "text/plain": [
       "<plotly.tools.PlotlyDisplay object>"
      ]
     },
     "execution_count": 242,
     "metadata": {},
     "output_type": "execute_result"
    },
    {
     "data": {
      "image/png": "[encoded data removed]",
      "text/plain": [
       "<Figure size 432x288 with 1 Axes>"
      ]
     },
     "metadata": {},
     "output_type": "display_data"
    }
   ],
   "source": [
    "x = list(total_frequency['year'])\n",
    "y = list(total_frequency['frequency'])\n",
    "\n",
    "trace = go.Scatter(\n",
    "        x = x,\n",
    "        y = y,\n",
    "        mode = \"markers\",\n",
    "        name = 'Damage',\n",
    "        line=dict(width=0.1,color = 'red'))\n",
    "        \n",
    "regression_data_damage = pd.DataFrame({\"Total Frequency per year\" : list(total_frequency['frequency']), \"year\" : list(total_frequency['year'])})\n",
    "\n",
    "(regression, path) = regression_path(regression_data_damage,\"Total Frequency per year\",4)\n",
    "layout = add_layout(\"Total frequency of environmental hazards with regression\",'Total damage in US dollars ($)',0,100)\n",
    "\n",
    "data = [trace, regression]     \n",
    "fig = dict(data=data, layout=layout)\n",
    "py.iplot(fig, filename='zero-hunger-indicators')"
   ]
  },
  {
   "cell_type": "code",
   "execution_count": null,
   "metadata": {},
   "outputs": [],
   "source": []
  },
  {
   "cell_type": "code",
   "execution_count": 183,
   "metadata": {},
   "outputs": [
    {
     "data": {
      "text/html": [
       "<iframe id=\"igraph\" scrolling=\"no\" style=\"border:none;\" seamless=\"seamless\" src=\"https://plot.ly/~borsnamgerd/8.embed\" height=\"525px\" width=\"100%\"></iframe>"
      ],
      "text/plain": [
       "<plotly.tools.PlotlyDisplay object>"
      ]
     },
     "execution_count": 183,
     "metadata": {},
     "output_type": "execute_result"
    }
   ],
   "source": [
    "data = [go.Bar(\n",
    "            x=[\"low extreme\",\"high extreme\"],\n",
    "            y=[135874820, 593711026],\n",
    "            name='Absolute'),\n",
    "        go.Scatter(\n",
    "            x=[\"low extreme\",\"high extreme\"],\n",
    "            y=[14.05,16.78],\n",
    "            name='Percentage',\n",
    "            mode = \"markers\",\n",
    "            marker=dict(line=dict(color='rgb(255, 127, 14)', width=10)),\n",
    "            yaxis = 'y2')]\n",
    "layout = go.Layout(\n",
    "            title='Higher number of undernourished people in countries with climate extremes',\n",
    "            yaxis=dict(title= 'Absolute', range = [0,700000000], titlefont= dict(color='rgb(31, 119, 180)'),tickfont=dict(color='rgb(31, 119, 180)'),),\n",
    "            yaxis2=dict(title='Percentage', showgrid=False, range = [13,16.9], titlefont= dict(color='rgb(255, 127, 14)'),\n",
    "            tickfont=dict(color='rgb(255, 127, 14)'), \n",
    "            overlaying='y',\n",
    "            anchor='free',\n",
    "            side='right',\n",
    "            position=1)\n",
    "            )\n",
    "fig = dict(data=data, layout=layout)\n",
    "py.iplot(fig, filename='zero-hunger-indicators')"
   ]
  }
 ],
 "metadata": {
  "kernelspec": {
   "display_name": "Python 3",
   "language": "python",
   "name": "python3"
  },
  "language_info": {
   "codemirror_mode": {
    "name": "ipython",
    "version": 3
   },
   "file_extension": ".py",
   "mimetype": "text/x-python",
   "name": "python",
   "nbconvert_exporter": "python",
   "pygments_lexer": "ipython3",
   "version": "3.6.5"
  }
 },
 "nbformat": 4,
 "nbformat_minor": 2
}
