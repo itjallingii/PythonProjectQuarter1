{
 "cells": [
  {
   "cell_type": "markdown",
   "metadata": {},
   "source": [
    "<h2 align='left' style='margin-bottom: 0px'>Chapter 1 - Introduction to food security in Sub-Saharan Africa</h2>\n",
    "\n",
    "The world has committed themselves stopping hunger in the world by 2030 adopted in 215. The goal to stop the prevalence of hunger forms Sustainable Development Goal (SDG) number two of the total seventeen SDG's set up in the 2030 Agenda for Sustainable Development. These goals provide a blueprint for peace and prosperity for people and the planet [2]. We have to rethink how we grow, share and consume our food. Only then agriculture, forestry and fisheries can provide food for all people around the world and generate decent incomes, while supporting people-cantered, rural development and protecting the environment [3].\n",
    "\n",
    "<h3 align='left' style='margin-bottom: 0px'>SDG 2 - Targets</h3>\n",
    "To act on this goal to obtain enough food for everyone and stopping other negative side effects, five main targets have been set out for 2030 by all United Nations Member States[1]:\n",
    "\n",
    "- 2.1: End hunger and ensure access by all people\n",
    "- 2.2: End all forms of malnutrition, including achieving targets on stunting and wasting \n",
    "- 2.3: Double the agricultural productivity and incomes of small-scale food producers\n",
    "- 2.4: Ensure sustainable food production systems and implement resilient agricultural practices that increase productivity and production.\n",
    "- 2.5: Maintain the genetic diversity of seeds, cultivated plants and farmed and domesticated animals and their related wild species.\n",
    "\n",
    "Malnutrition and related effects slow down development within whole countries. Hunger and malnutrition have a ripple effect that slow down and freezes development. Especially for children, the effects of malnutrition can last a lifetime. Poor nutrition affects physical and mental development which can have a tremendous negative effect on the development of individuals and hereby the economic output of a country [5].\n",
    "\n",
    "<h3 align='left' style='margin-bottom: 0px'>Recent developments </h3>\n",
    "Since 1990, the prevalence of hunger has fallen across most regions. Globally, hunger has fallen from 14.7 percent in 2000 to 10.9 percent in 2017. But the progress has not been consistent for the whole period. Global hunger reached its lowest levels in 2015 but has now risen to 10.8 and 10.9 percent in 2016 and 2017 [4]. This increase in hunger levels are largely a result of increases in Sub-Saharan Africa and minor increases in South America [5]. Also, the UN FAO linked the increase of PoU to the rise in conflicts which often leads to famine, and climate factors such as the El Niño phenomenon and climate change which could be the cause of more climate related hazards [6]. \n",
    "\n",
    "<h3 align='left' style='margin-bottom: 0px'>Sub Saharan Africa </h3>\n",
    "Chronic undernourishment is widespread throughout the region of Africa, see figure X. Almost X percent of the population of Sub Saharan Africa are undernourished. The region remain exposed to food crises and famines triggered by droughts, floods, pest, economic downturns and conflicts. Sub-Saharan Africa is the only region of the world, where it is expected that the state of hunger will worsen over the coming decades [7].\n",
    "\n",
    "This is why Sub Saharan Africa is our scope of this data exploration paper. The goal of this report is to gain more insight in the data behind the rising hunger in Sub Saharan Africa. What is the detailed current state of hunger in SSA, what is causing it and which policy options need to be worked out that counteract the current trend of rapid rise of hunger, famine and its related side effects. Only when we have this knowledge then, Sub Saharan Africa can achieve the proper economic development to rise up from poperty and catch on with the other parts of the developing world.  \n",
    "\n",
    "\n",
    "### Sources:\n",
    "\n",
    "[1] https://www.un.org/sustainabledevelopment/hunger/\n",
    "\n",
    "[2] https://sustainabledevelopment.un.org/?menu=1300\n",
    "\n",
    "[3] http://www.fao.org/state-of-food-security-nutrition/en/\n",
    "\n",
    "[4] https://ourworldindata.org/hunger-and-undernourishment\n",
    "\n",
    "[5] FAO, IFAD, UNICEF, WFP and WHO. 2017. The State of Food Security and Nutrition in the World 2017. Building resilience for peace and food security. Rome, FAO. Available online.\n",
    "\n",
    "[6] FAO, IFAD, UNICEF, WFP and WHO. 2018. The State of Food Security and Nutrition in the World 2018. Building climate resilience for food security and nutrition. Rome, FAO. Available online.\n",
    "\n",
    "[7] FAO Food Security and Agricultural Development in Sub Saharan Africa - Building a case for more public support Policy Brief No. 1\n",
    "\n"
   ]
  },
  {
   "cell_type": "code",
   "execution_count": null,
   "metadata": {},
   "outputs": [],
   "source": []
  }
 ],
 "metadata": {
  "kernelspec": {
   "display_name": "Python 3",
   "language": "python",
   "name": "python3"
  },
  "language_info": {
   "codemirror_mode": {
    "name": "ipython",
    "version": 3
   },
   "file_extension": ".py",
   "mimetype": "text/x-python",
   "name": "python",
   "nbconvert_exporter": "python",
   "pygments_lexer": "ipython3",
   "version": "3.7.0"
  }
 },
 "nbformat": 4,
 "nbformat_minor": 2
}
