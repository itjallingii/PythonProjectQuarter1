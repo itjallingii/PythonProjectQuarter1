{
 "cells": [
  {
   "cell_type": "code",
   "execution_count": 15,
   "metadata": {},
   "outputs": [],
   "source": [
    "%matplotlib inline\n",
    "import pandas as pd\n",
    "import numpy as np\n",
    "import matplotlib.pyplot as plt\n",
    "from pathlib import Path\n",
    "import itertools\n",
    "import plotly.plotly as py\n",
    "import plotly.graph_objs as go\n",
    "import os\n",
    "\n",
    "plt.style.use('ggplot')"
   ]
  },
  {
   "cell_type": "code",
   "execution_count": 3,
   "metadata": {},
   "outputs": [
    {
     "data": {
      "text/plain": [
       "'/Users/Martijn/Documents/GitHub/PythonProjectQuarter1'"
      ]
     },
     "execution_count": 3,
     "metadata": {},
     "output_type": "execute_result"
    }
   ],
   "source": [
    "direc = os.getcwd()\n",
    "direc"
   ]
  },
  {
   "cell_type": "code",
   "execution_count": 4,
   "metadata": {},
   "outputs": [],
   "source": [
    "os.chdir('/Users/Martijn/Documents/GitHub/data')"
   ]
  },
  {
   "cell_type": "code",
   "execution_count": 3,
   "metadata": {},
   "outputs": [],
   "source": [
    "#country names un Sub-Saharan Africa\n",
    "#'Sub-Saharan Africa',\n",
    " #'Sub-Saharan Africa (excluding high income)',\n",
    " #'Sub-Saharan Africa (IDA & IBRD countries)'\n",
    "#SN.ITK.DEFC.ZS <- indicator code undernourishment"
   ]
  },
  {
   "cell_type": "code",
   "execution_count": 5,
   "metadata": {},
   "outputs": [],
   "source": [
    "df_wdi = pd.read_csv(\"WDI/WDIData.csv\")\n",
    "#We only want the indicator with the % of undernourishment\n",
    "df_wdi = df_wdi[df_wdi[\"Indicator Code\"] == 'SN.ITK.DEFC.ZS']\n",
    "# Set the years from colums to rows\n",
    "df_wdi = pd.melt(df_wdi,id_vars =[\"Country Name\",\"Country Code\",\"Indicator Name\",\"Indicator Code\"],\n",
    "          var_name = \"Years\", value_name = \"perc. undernourishment\")\n",
    "# Sort the values first by Country Name and than by Years\n",
    "df_wdi = df_wdi.sort_values([\"Country Name\", \"Years\"])"
   ]
  },
  {
   "cell_type": "code",
   "execution_count": 25,
   "metadata": {},
   "outputs": [
    {
     "data": {
      "text/html": [
       "<iframe id=\"igraph\" scrolling=\"no\" style=\"border:none;\" seamless=\"seamless\" src=\"https://plot.ly/~martijnvanvlie/10.embed\" height=\"525px\" width=\"100%\"></iframe>"
      ],
      "text/plain": [
       "<plotly.tools.PlotlyDisplay object>"
      ]
     },
     "execution_count": 25,
     "metadata": {},
     "output_type": "execute_result"
    }
   ],
   "source": [
    "x = df_wdi[df_wdi[\"Country Name\"] == 'World'][\"Years\"].dropna()\n",
    "y1 = df_wdi[df_wdi[\"Country Name\"] == 'World'][\"perc. undernourishment\"].dropna()\n",
    "y2 = df_wdi[df_wdi[\"Country Name\"] == 'Sub-Saharan Africa'][\"perc. undernourishment\"].dropna()\n",
    "y3 = df_wdi[df_wdi[\"Country Name\"] == 'Central Europe and the Baltics'][\"perc. undernourishment\"].dropna()\n",
    "y4 = df_wdi[df_wdi[\"Country Name\"] == 'East Asia & Pacific'][\"perc. undernourishment\"].dropna()\n",
    "\n",
    "#plt.plot(x,y1, color = \"Blue\",label = \"World\")\n",
    "#plt.plot(x,y2, color = \"Red\",label = \"Sub-Saharan Africa\")\n",
    "#plt.plot(x,y3, color = \"Green\",label = \"Central Europe and the Baltics\")\n",
    "#plt.plot(x,y4, color = \"Yellow\",label = \"East Asia & Pacific\")\n",
    "#plt.xlabel(\"Years\")\n",
    "#plt.ylabel(\"% of undernourishment\")\n",
    "\n",
    "#plt.legend(loc=((1.05,0.72)))\n",
    "#plt.show()\n",
    "\n",
    "# Create traces\n",
    "trace0 = go.Scatter(\n",
    "    x = x,\n",
    "    y = y1,\n",
    "    mode = \"lines + markers\",\n",
    "    name = \"World\"\n",
    ")\n",
    "trace1 = go.Scatter(\n",
    "    x = x,\n",
    "    y = y2,\n",
    "    mode = \"lines + markers\",\n",
    "    name = \"Sub-Saharan Africa\"\n",
    ")\n",
    "trace2 = go.Scatter(\n",
    "    x = x,\n",
    "    y = y3,\n",
    "    mode = \"lines + markers\",\n",
    "    name = \"Central Europe and the Baltics\"\n",
    ")\n",
    "trace3 = go.Scatter(\n",
    "    x = x,\n",
    "    y = y4,\n",
    "    mode = \"lines + markers\",\n",
    "    name = \"East Asia & Pacific\"\n",
    ")\n",
    "\n",
    "\n",
    "data = [trace0,trace1,trace2,trace3]\n",
    "\n",
    "layout = dict(title = 'Undernourishment in different areas around the world',\n",
    "              xaxis = dict(title = 'Years'),\n",
    "              yaxis = dict(title = '% Undernourishment'),\n",
    "              )\n",
    "\n",
    "fig = dict(data=data, layout=layout)\n",
    "py.iplot(fig, filename='line-mode')\n"
   ]
  },
  {
   "cell_type": "code",
   "execution_count": 7,
   "metadata": {},
   "outputs": [],
   "source": [
    "#create right dataset for Cereal Yield\n",
    "df_wdi2 = pd.read_csv(\"WDI/WDIData.csv\")\n",
    "#We only want the indicator with Cereal Yield\n",
    "df_wdi2 = df_wdi2[df_wdi2[\"Indicator Code\"] == 'AG.YLD.CREL.KG']\n",
    "# Set the years from colums to rows\n",
    "df_wdi2 = pd.melt(df_wdi2,id_vars =[\"Country Name\",\"Country Code\",\"Indicator Name\",\"Indicator Code\"],\n",
    "              var_name = \"Years\", value_name = \"Cereal Yield (kg per Hectare)\")\n",
    "# Sort the values first by Country Name and than by Years\n",
    "df_wdi2 = df_wdi2.sort_values([\"Country Name\",\"Years\"])"
   ]
  },
  {
   "cell_type": "code",
   "execution_count": 27,
   "metadata": {},
   "outputs": [
    {
     "data": {
      "text/html": [
       "<iframe id=\"igraph\" scrolling=\"no\" style=\"border:none;\" seamless=\"seamless\" src=\"https://plot.ly/~martijnvanvlie/10.embed\" height=\"525px\" width=\"100%\"></iframe>"
      ],
      "text/plain": [
       "<plotly.tools.PlotlyDisplay object>"
      ]
     },
     "execution_count": 27,
     "metadata": {},
     "output_type": "execute_result"
    }
   ],
   "source": [
    "x = df_wdi2[df_wdi2[\"Country Name\"] == 'World'][\"Years\"].dropna()\n",
    "y1 = df_wdi2[df_wdi2[\"Country Name\"] == 'World'][\"Cereal Yield (kg per Hectare)\"].dropna()\n",
    "y2 = df_wdi2[df_wdi2[\"Country Name\"] == 'Sub-Saharan Africa'][\"Cereal Yield (kg per Hectare)\"].dropna()\n",
    "y3 = df_wdi2[df_wdi2[\"Country Name\"] == 'Central Europe and the Baltics'][\"Cereal Yield (kg per Hectare)\"].dropna()\n",
    "y4 = df_wdi2[df_wdi2[\"Country Name\"] == 'East Asia & Pacific'][\"Cereal Yield (kg per Hectare)\"].dropna()\n",
    "\n",
    "#plt.plot(x,y1, color = \"Blue\",label = \"World\")\n",
    "#plt.plot(x,y2, color = \"Red\",label = \"Sub-Saharan Africa\")\n",
    "#plt.plot(x,y3, color = \"Green\",label = \"Central Europe and the Baltics\")\n",
    "#plt.plot(x,y4, color = \"Yellow\",label = \"East Asia & Pacific\")\n",
    "#plt.xlabel(\"Years\")\n",
    "#plt.ylabel(\"Cereal Yield (kg per Hectare)\")\n",
    "\n",
    "#plt.legend(loc=((1.05,0.72)))\n",
    "#plt.show()\n",
    "\n",
    "# Create traces\n",
    "trace0 = go.Scatter(\n",
    "    x = x,\n",
    "    y = y1,\n",
    "    mode = \"lines + markers\",\n",
    "    name = \"World\"\n",
    ")\n",
    "trace1 = go.Scatter(\n",
    "    x = x,\n",
    "    y = y2,\n",
    "    mode = \"lines + markers\",\n",
    "    name = \"Sub-Saharan Africa\"\n",
    ")\n",
    "trace2 = go.Scatter(\n",
    "    x = x,\n",
    "    y = y3,\n",
    "    mode = \"lines + markers\",\n",
    "    name = \"Central Europe and the Baltics\"\n",
    ")\n",
    "trace3 = go.Scatter(\n",
    "    x = x,\n",
    "    y = y4,\n",
    "    mode = \"lines + markers\",\n",
    "    name = \"East Asia & Pacific\"\n",
    ")\n",
    "\n",
    "\n",
    "data = [trace0,trace1,trace2,trace3]\n",
    "\n",
    "layout = dict(title = \"Cereal Yield in different areas around the world\",\n",
    "              xaxis = dict(title = 'Years'),\n",
    "              yaxis = dict(title = \"Cereal Yield (kg per Hectare)\"),\n",
    "              )\n",
    "\n",
    "fig = dict(data=data, layout=layout)\n",
    "py.iplot(fig, filename='line-mode')"
   ]
  },
  {
   "cell_type": "code",
   "execution_count": 13,
   "metadata": {
    "scrolled": true
   },
   "outputs": [
    {
     "data": {
      "text/html": [
       "<iframe id=\"igraph\" scrolling=\"no\" style=\"border:none;\" seamless=\"seamless\" src=\"https://plot.ly/~martijnvanvlie/8.embed\" height=\"525px\" width=\"100%\"></iframe>"
      ],
      "text/plain": [
       "<plotly.tools.PlotlyDisplay object>"
      ]
     },
     "execution_count": 13,
     "metadata": {},
     "output_type": "execute_result"
    }
   ],
   "source": [
    "dfc = pd.read_csv(\"countriescodes.csv\", sep = \",\", encoding = 'latin-1')\n",
    "dfc = dfc[dfc['sub-region'] == \"Sub-Saharan Africa\"][\"alpha-3\"]\n",
    "df = df_wdi[df_wdi[\"Country Code\"].isin(dfc)]\n",
    "df = df[df[\"Years\"] == \"2015\"]\n",
    "\n",
    "scl = [[0.0, 'rgb(255,127,80)'],[0.2, 'rgb(255,99,71)'],[0.4, 'rgb(255,0,0)'],\\\n",
    "            [0.6, 'rgb(220,20,60)'],[1, 'rgb(178,34,34)']]\n",
    "\n",
    "df['text'] = df['Country Name']\n",
    "\n",
    "data = [ dict(\n",
    "        type='choropleth',\n",
    "        colorscale = scl,\n",
    "        autocolorscale = False,\n",
    "        locations = df['Country Code'],\n",
    "        z = df['perc. undernourishment'],\n",
    "        locationmode = 'ISO-3',\n",
    "        text = df['text'],\n",
    "        marker = dict(\n",
    "            line = dict (\n",
    "                color = 'rgb(255,255,255)',\n",
    "                width = 1\n",
    "            ) ),\n",
    "        colorbar = dict(\n",
    "            title = \"% Undernourishment\")\n",
    "        ) ]\n",
    "\n",
    "layout = dict(\n",
    "        title = 'Undernourishment in Sub-Saharan Africa (2016)',\n",
    "        geo = dict(\n",
    "            scope='africa',\n",
    "            showlakes = True,\n",
    "            lakecolor = 'rgb(135,206,235)',\n",
    "            showland = True,\n",
    "            landcolor = 'rgb(220,220,220)')\n",
    "             )\n",
    "    \n",
    "fig = dict( data=data, layout=layout )\n",
    "py.iplot( fig, filename='d3-cloropleth-map' )"
   ]
  },
  {
   "cell_type": "code",
   "execution_count": null,
   "metadata": {},
   "outputs": [],
   "source": []
  }
 ],
 "metadata": {
  "kernelspec": {
   "display_name": "Python 3",
   "language": "python",
   "name": "python3"
  },
  "language_info": {
   "codemirror_mode": {
    "name": "ipython",
    "version": 3
   },
   "file_extension": ".py",
   "mimetype": "text/x-python",
   "name": "python",
   "nbconvert_exporter": "python",
   "pygments_lexer": "ipython3",
   "version": "3.7.0"
  }
 },
 "nbformat": 4,
 "nbformat_minor": 2
}
