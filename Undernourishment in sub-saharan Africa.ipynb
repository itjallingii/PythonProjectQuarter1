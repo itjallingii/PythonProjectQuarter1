{
 "cells": [
  {
   "cell_type": "code",
   "execution_count": 1,
   "metadata": {},
   "outputs": [],
   "source": [
    "%matplotlib inline\n",
    "import pandas as pd\n",
    "import numpy as np\n",
    "import matplotlib.pyplot as plt\n",
    "from pathlib import Path\n",
    "import itertools\n",
    "import plotly.plotly as py\n",
    "import plotly.graph_objs as go\n",
    "import os\n",
    "\n",
    "plt.style.use('ggplot')"
   ]
  },
  {
   "cell_type": "code",
   "execution_count": 2,
   "metadata": {},
   "outputs": [
    {
     "data": {
      "text/plain": [
       "'/Users/Martijn/Documents/GitHub/PythonProjectQuarter1'"
      ]
     },
     "execution_count": 2,
     "metadata": {},
     "output_type": "execute_result"
    }
   ],
   "source": [
    "direc = os.getcwd()\n",
    "direc"
   ]
  },
  {
   "cell_type": "code",
   "execution_count": 3,
   "metadata": {},
   "outputs": [],
   "source": [
    "os.chdir('/Users/Martijn/Documents/GitHub/data')"
   ]
  },
  {
   "cell_type": "code",
   "execution_count": 4,
   "metadata": {},
   "outputs": [],
   "source": [
    "#reading in the data\n",
    "df_code = pd.read_csv(\"countriescodes.csv\", sep = \",\", encoding = 'latin-1')\n",
    "df_wdi = pd.read_csv(\"WDI/WDIData.csv\")\n",
    "\n",
    "#creating a dataframe with only countries in Sub-Saharan Africa, the region Sub-Saharan Africa and the World.\n",
    "df_code = df_code[df_code['sub-region'] == \"Sub-Saharan Africa\"][\"alpha-3\"]\n",
    "region = pd.Series([\"SSF\",\"WLD\"]) \n",
    "df_code = df_code.append(region)\n",
    "df_wdi = df_wdi[df_wdi[\"Country Code\"].isin(df_code)]\n",
    "\n",
    "# Set the years from colums to rows\n",
    "df = pd.melt(df_wdi,id_vars =[\"Country Name\",\"Country Code\",\"Indicator Name\",\"Indicator Code\"],\n",
    "          var_name = \"Years\")\n",
    "# Sort the values first by Country Name and then by Years\n",
    "df = df.sort_values([\"Country Name\", \"Years\"])"
   ]
  },
  {
   "cell_type": "code",
   "execution_count": 5,
   "metadata": {},
   "outputs": [
    {
     "data": {
      "text/html": [
       "<iframe id=\"igraph\" scrolling=\"no\" style=\"border:none;\" seamless=\"seamless\" src=\"https://plot.ly/~martijnvanvlie/10.embed\" height=\"525px\" width=\"100%\"></iframe>"
      ],
      "text/plain": [
       "<plotly.tools.PlotlyDisplay object>"
      ]
     },
     "execution_count": 5,
     "metadata": {},
     "output_type": "execute_result"
    }
   ],
   "source": [
    "df_und = df[df[\"Indicator Code\"] == 'SN.ITK.DEFC.ZS']\n",
    "df_und = df_und.dropna()\n",
    "x = df_und[df_und[\"Country Name\"] == 'World'][\"Years\"]\n",
    "y1 = df_und[df_und[\"Country Name\"] == 'World'][\"value\"]\n",
    "y2 = df_und[df_und[\"Country Name\"] == 'Sub-Saharan Africa'][\"value\"]\n",
    "\n",
    "trace0 = go.Scatter(\n",
    "    x = x,\n",
    "    y = y1,\n",
    "    mode = \"lines + markers\",\n",
    "    name = \"World\"\n",
    ")\n",
    "trace1 = go.Scatter(\n",
    "    x = x,\n",
    "    y = y2,\n",
    "    mode = \"lines + markers\",\n",
    "    name = \"Sub-Saharan Africa\"\n",
    ")\n",
    "\n",
    "data = [trace0,trace1]\n",
    "\n",
    "layout = dict(title = 'Undernourishment in different areas around the world',\n",
    "              xaxis = dict(title = 'Years'),\n",
    "              yaxis = dict(title = '% Undernourishment'),\n",
    "              )\n",
    "\n",
    "fig = dict(data=data, layout=layout)\n",
    "py.iplot(fig, filename='line-mode')"
   ]
  },
  {
   "cell_type": "code",
   "execution_count": 6,
   "metadata": {},
   "outputs": [
    {
     "data": {
      "text/html": [
       "<iframe id=\"igraph\" scrolling=\"no\" style=\"border:none;\" seamless=\"seamless\" src=\"https://plot.ly/~martijnvanvlie/10.embed\" height=\"525px\" width=\"100%\"></iframe>"
      ],
      "text/plain": [
       "<plotly.tools.PlotlyDisplay object>"
      ]
     },
     "execution_count": 6,
     "metadata": {},
     "output_type": "execute_result"
    }
   ],
   "source": [
    "df_cer = df[df[\"Indicator Code\"] == 'AG.YLD.CREL.KG']\n",
    "df_cer = df_cer.dropna()\n",
    "x = df_cer[df_cer[\"Country Name\"] == 'World'][\"Years\"]\n",
    "y1 = df_cer[df_cer[\"Country Name\"] == 'World'][\"value\"]\n",
    "y2 = df_cer[df_cer[\"Country Name\"] == 'Sub-Saharan Africa'][\"value\"]\n",
    "\n",
    "trace0 = go.Scatter(\n",
    "    x = x,\n",
    "    y = y1,\n",
    "    mode = \"lines + markers\",\n",
    "    name = \"World\"\n",
    ")\n",
    "trace1 = go.Scatter(\n",
    "    x = x,\n",
    "    y = y2,\n",
    "    mode = \"lines + markers\",\n",
    "    name = \"Sub-Saharan Africa\"\n",
    ")\n",
    "\n",
    "data = [trace0,trace1]\n",
    "\n",
    "layout = dict(title = \"Cereal Yield in different areas around the world\",\n",
    "              xaxis = dict(title = 'Years'),\n",
    "              yaxis = dict(title = \"Cereal Yield (kg per Hectare)\"),\n",
    "              )\n",
    "\n",
    "fig = dict(data=data, layout=layout)\n",
    "py.iplot(fig, filename='line-mode')"
   ]
  },
  {
   "cell_type": "code",
   "execution_count": 11,
   "metadata": {
    "scrolled": true
   },
   "outputs": [
    {
     "data": {
      "text/html": [
       "<iframe id=\"igraph\" scrolling=\"no\" style=\"border:none;\" seamless=\"seamless\" src=\"https://plot.ly/~martijnvanvlie/8.embed\" height=\"525px\" width=\"100%\"></iframe>"
      ],
      "text/plain": [
       "<plotly.tools.PlotlyDisplay object>"
      ]
     },
     "execution_count": 11,
     "metadata": {},
     "output_type": "execute_result"
    }
   ],
   "source": [
    "df_map = df[df[\"Indicator Code\"] == 'SN.ITK.DEFC.ZS']\n",
    "df_map = df_map[df_map[\"Years\"] == \"2016\"]\n",
    "\n",
    "scl = [[0.0, 'rgb(255,127,80)'],[0.2, 'rgb(255,99,71)'],[0.4, 'rgb(255,0,0)'],\\\n",
    "            [0.6, 'rgb(220,20,60)'],[1, 'rgb(178,34,34)']]\n",
    "\n",
    "df_map['text'] = df_map['Country Name']\n",
    "\n",
    "data = [ dict(\n",
    "        type='choropleth',\n",
    "        colorscale = scl,\n",
    "        autocolorscale = False,\n",
    "        locations = df_map['Country Code'],\n",
    "        z = df_map['value'],\n",
    "        locationmode = 'ISO-3',\n",
    "        text = df_map['text'],\n",
    "        marker = dict(\n",
    "            line = dict (\n",
    "                color = 'rgb(255,255,255)',\n",
    "                width = 1\n",
    "            ) ),\n",
    "        colorbar = dict(\n",
    "            title = \"% Undernourishment\")\n",
    "        ) ]\n",
    "\n",
    "layout = dict(\n",
    "        title = 'Undernourishment in Sub-Saharan Africa (2016)',\n",
    "        geo = dict(\n",
    "            scope='africa',\n",
    "            showlakes = True,\n",
    "            lakecolor = 'rgb(135,206,235)',\n",
    "            showland = True,\n",
    "            landcolor = 'rgb(220,220,220)')\n",
    "             )\n",
    "    \n",
    "fig = dict( data=data, layout=layout )\n",
    "py.iplot( fig, filename='d3-cloropleth-map' )"
   ]
  }
 ],
 "metadata": {
  "kernelspec": {
   "display_name": "Python 3",
   "language": "python",
   "name": "python3"
  },
  "language_info": {
   "codemirror_mode": {
    "name": "ipython",
    "version": 3
   },
   "file_extension": ".py",
   "mimetype": "text/x-python",
   "name": "python",
   "nbconvert_exporter": "python",
   "pygments_lexer": "ipython3",
   "version": "3.7.0"
  }
 },
 "nbformat": 4,
 "nbformat_minor": 2
}
