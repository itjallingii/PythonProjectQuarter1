{
 "cells": [
  {
   "cell_type": "code",
   "execution_count": null,
   "metadata": {},
   "outputs": [],
   "source": [
    "Test"
   ]
  },
  {
   "cell_type": "markdown",
   "metadata": {},
   "source": [
    "## Research questions\n",
    "optie 1: To what extend is the way food is produced within Sub-Saharan africa related to hunger in sub-saharan africa and how will this trend develop until 2030? \n",
    "\n",
    "subquestions:\n",
    "- What indicators strongly relate to zero hunger?\n",
    "- How did those indicators developed in the last decades (for individual countries in subharan africa)?\n",
    "\n",
    "- What the differences in hunger between countries? \n",
    "- What is causing these differences, is this related to the way food is produced?\n",
    "\n",
    "- How will the indicators regarding zero hunger goals develop until 2030 under the influence of certain policies?\n",
    "\n",
    "optie 2: What indicators strongly relate to the production of food in sub-sahara africa and and how will the overall trend in hunger in SS africa look like?\n",
    "\n",
    "## Opbouw report\n",
    "Hoofdstuk 1: introductie probleem\n",
    "- Inleiding no hunger goal 2030 van UN \n",
    "- Introductie onderzoeksvragen\n",
    "- Uitleggen methodologie\n",
    "\n",
    "Hoofdstuk 2: Data preperation\n",
    "- Wat voor data is gebruikt?\n",
    "- Hoe is die gecleaned/bewerkt om te gebruiken\n",
    "\n",
    "Hoofdstuk 3: uitwerken onderzoeksvragen\n",
    "\n",
    "- Uitwerken onderzoeksvraag aan de hand van analyseren data & graphs\n",
    "- Schatten van toekomst met regressie analyse / trend analyses. Aan de hand van deze gegevens een schatting maken voor al deze veriabelen, maar vooral het effect op de ondervoeding/voedseltekort\n",
    "kjkjkj\n",
    "Hoofdstuk 4: aanbevelingen/conclusie\n",
    "\n",
    "\n",
    "## PythonProjectQuarter1\n",
    "\n",
    "*Assignment*\n",
    "Create a Jupyter Notebook that contains your explanations and analyses. Start the notebook with a\n",
    "clear description of your research question and the type of analysis you are going to perform. The\n",
    "conceptual contents of the Notebook should be roughly similar to a normal written report of 10-20\n",
    "pages. Make your Notebook self-explanatory. So, it should contain text (with references) as well as\n",
    "your actual analysis code and results. If you want to use other libraries for your analyses or\n",
    "visualizations, feel free to do so. However, only use free available and well-known libraries. The ones\n",
    "that come standard with Anaconda are fine. If you want to use something else, that you first need to\n",
    "install, check with us first. Create a zip archive and upload it on Brightspace.\n",
    "Some (minimum) properties of the Notebook and your analyses on which we will grade:\n",
    "- Demonstrate your skills in Python by using typical Python constructs and using the appropriate\n",
    "data structures (lists, dictionaries, tuples, arrays, dataframes, series, recursion, etc.)\n",
    "- Try to think of reusability of your code. How easy would it be to use your same code if we\n",
    "want to try to do a small variations of your analysis? Can we easily adapt/play around with\n",
    "your code?\n",
    "- How difficult were your analyses?\n"
   ]
  },
  {
   "cell_type": "markdown",
   "metadata": {},
   "source": [
    "## Loading in data"
   ]
  },
  {
   "cell_type": "code",
   "execution_count": 11,
   "metadata": {},
   "outputs": [],
   "source": [
    "%matplotlib inline\n",
    "import pandas as pd\n",
    "import numpy as np\n",
    "import matplotlib.pyplot as plt\n",
    "from pathlib import Path\n",
    "import os\n",
    "\n",
    "\n",
    "plt.style.use('ggplot')"
   ]
  },
  {
   "cell_type": "code",
   "execution_count": 16,
   "metadata": {},
   "outputs": [
    {
     "data": {
      "text/plain": [
       "'C:\\\\Users\\\\ivarnieuwepc\\\\Documents\\\\GitHub\\\\Data'"
      ]
     },
     "execution_count": 16,
     "metadata": {},
     "output_type": "execute_result"
    }
   ],
   "source": [
    "os.chdir(\"C://Users//ivarnieuwepc//Documents//GitHub//Data\")\n",
    "os.getcwd()"
   ]
  },
  {
   "cell_type": "code",
   "execution_count": 19,
   "metadata": {},
   "outputs": [
    {
     "data": {
      "text/plain": [
       "numpy.ndarray"
      ]
     },
     "execution_count": 19,
     "metadata": {},
     "output_type": "execute_result"
    }
   ],
   "source": [
    "df_sdg = pd.read_csv(\"SDG//SDGData.csv\")\n",
    "df_wdi = pd.read_csv(\"WDI//WDI.csv\")\n",
    "df_wdi\n",
    "all_indicators = df_sdg[\"Indicator Name\"].unique()\n",
    "all_codes = df_sdg[\"Indicator Code\"].unique()\n",
    "type(all_codes)"
   ]
  },
  {
   "cell_type": "code",
   "execution_count": null,
   "metadata": {},
   "outputs": [],
   "source": [
    "hello "
   ]
  },
  {
   "cell_type": "code",
   "execution_count": 20,
   "metadata": {},
   "outputs": [
    {
     "ename": "ValueError",
     "evalue": "arrays must all be same length",
     "output_type": "error",
     "traceback": [
      "\u001b[1;31m---------------------------------------------------------------------------\u001b[0m",
      "\u001b[1;31mValueError\u001b[0m                                Traceback (most recent call last)",
      "\u001b[1;32m<ipython-input-20-631f9209dac8>\u001b[0m in \u001b[0;36m<module>\u001b[1;34m()\u001b[0m\n\u001b[1;32m----> 1\u001b[1;33m \u001b[0mindicators_name_code\u001b[0m \u001b[1;33m=\u001b[0m \u001b[0mpd\u001b[0m\u001b[1;33m.\u001b[0m\u001b[0mDataFrame\u001b[0m\u001b[1;33m(\u001b[0m\u001b[1;33m{\u001b[0m\u001b[1;34m'Indicator Name'\u001b[0m\u001b[1;33m:\u001b[0m\u001b[0mlist\u001b[0m\u001b[1;33m(\u001b[0m\u001b[0mall_indicators\u001b[0m\u001b[1;33m)\u001b[0m\u001b[1;33m,\u001b[0m\u001b[1;34m'Indicator Code'\u001b[0m\u001b[1;33m:\u001b[0m \u001b[0mlist\u001b[0m\u001b[1;33m(\u001b[0m\u001b[0mall_codes\u001b[0m\u001b[1;33m)\u001b[0m\u001b[1;33m}\u001b[0m\u001b[1;33m,\u001b[0m \u001b[0mcolumns\u001b[0m \u001b[1;33m=\u001b[0m\u001b[1;33m[\u001b[0m\u001b[1;34m'Indicator Name'\u001b[0m\u001b[1;33m,\u001b[0m \u001b[1;34m'Indicator Code'\u001b[0m\u001b[1;33m]\u001b[0m\u001b[1;33m)\u001b[0m\u001b[1;33m\u001b[0m\u001b[0m\n\u001b[0m\u001b[0;32m      2\u001b[0m \u001b[0mindicators_name_code\u001b[0m\u001b[1;33m\u001b[0m\u001b[0m\n",
      "\u001b[1;32mC:\\ProgramData\\Anaconda3\\lib\\site-packages\\pandas\\core\\frame.py\u001b[0m in \u001b[0;36m__init__\u001b[1;34m(self, data, index, columns, dtype, copy)\u001b[0m\n\u001b[0;32m    346\u001b[0m                                  dtype=dtype, copy=copy)\n\u001b[0;32m    347\u001b[0m         \u001b[1;32melif\u001b[0m \u001b[0misinstance\u001b[0m\u001b[1;33m(\u001b[0m\u001b[0mdata\u001b[0m\u001b[1;33m,\u001b[0m \u001b[0mdict\u001b[0m\u001b[1;33m)\u001b[0m\u001b[1;33m:\u001b[0m\u001b[1;33m\u001b[0m\u001b[0m\n\u001b[1;32m--> 348\u001b[1;33m             \u001b[0mmgr\u001b[0m \u001b[1;33m=\u001b[0m \u001b[0mself\u001b[0m\u001b[1;33m.\u001b[0m\u001b[0m_init_dict\u001b[0m\u001b[1;33m(\u001b[0m\u001b[0mdata\u001b[0m\u001b[1;33m,\u001b[0m \u001b[0mindex\u001b[0m\u001b[1;33m,\u001b[0m \u001b[0mcolumns\u001b[0m\u001b[1;33m,\u001b[0m \u001b[0mdtype\u001b[0m\u001b[1;33m=\u001b[0m\u001b[0mdtype\u001b[0m\u001b[1;33m)\u001b[0m\u001b[1;33m\u001b[0m\u001b[0m\n\u001b[0m\u001b[0;32m    349\u001b[0m         \u001b[1;32melif\u001b[0m \u001b[0misinstance\u001b[0m\u001b[1;33m(\u001b[0m\u001b[0mdata\u001b[0m\u001b[1;33m,\u001b[0m \u001b[0mma\u001b[0m\u001b[1;33m.\u001b[0m\u001b[0mMaskedArray\u001b[0m\u001b[1;33m)\u001b[0m\u001b[1;33m:\u001b[0m\u001b[1;33m\u001b[0m\u001b[0m\n\u001b[0;32m    350\u001b[0m             \u001b[1;32mimport\u001b[0m \u001b[0mnumpy\u001b[0m\u001b[1;33m.\u001b[0m\u001b[0mma\u001b[0m\u001b[1;33m.\u001b[0m\u001b[0mmrecords\u001b[0m \u001b[1;32mas\u001b[0m \u001b[0mmrecords\u001b[0m\u001b[1;33m\u001b[0m\u001b[0m\n",
      "\u001b[1;32mC:\\ProgramData\\Anaconda3\\lib\\site-packages\\pandas\\core\\frame.py\u001b[0m in \u001b[0;36m_init_dict\u001b[1;34m(self, data, index, columns, dtype)\u001b[0m\n\u001b[0;32m    437\u001b[0m                 \u001b[1;31m# GH10856\u001b[0m\u001b[1;33m\u001b[0m\u001b[1;33m\u001b[0m\u001b[0m\n\u001b[0;32m    438\u001b[0m                 \u001b[1;31m# raise ValueError if only scalars in dict\u001b[0m\u001b[1;33m\u001b[0m\u001b[1;33m\u001b[0m\u001b[0m\n\u001b[1;32m--> 439\u001b[1;33m                 \u001b[0mindex\u001b[0m \u001b[1;33m=\u001b[0m \u001b[0mextract_index\u001b[0m\u001b[1;33m(\u001b[0m\u001b[0marrays\u001b[0m\u001b[1;33m[\u001b[0m\u001b[1;33m~\u001b[0m\u001b[0mmissing\u001b[0m\u001b[1;33m]\u001b[0m\u001b[1;33m)\u001b[0m\u001b[1;33m\u001b[0m\u001b[0m\n\u001b[0m\u001b[0;32m    440\u001b[0m             \u001b[1;32melse\u001b[0m\u001b[1;33m:\u001b[0m\u001b[1;33m\u001b[0m\u001b[0m\n\u001b[0;32m    441\u001b[0m                 \u001b[0mindex\u001b[0m \u001b[1;33m=\u001b[0m \u001b[0m_ensure_index\u001b[0m\u001b[1;33m(\u001b[0m\u001b[0mindex\u001b[0m\u001b[1;33m)\u001b[0m\u001b[1;33m\u001b[0m\u001b[0m\n",
      "\u001b[1;32mC:\\ProgramData\\Anaconda3\\lib\\site-packages\\pandas\\core\\frame.py\u001b[0m in \u001b[0;36mextract_index\u001b[1;34m(data)\u001b[0m\n\u001b[0;32m   7359\u001b[0m             \u001b[0mlengths\u001b[0m \u001b[1;33m=\u001b[0m \u001b[0mlist\u001b[0m\u001b[1;33m(\u001b[0m\u001b[0mset\u001b[0m\u001b[1;33m(\u001b[0m\u001b[0mraw_lengths\u001b[0m\u001b[1;33m)\u001b[0m\u001b[1;33m)\u001b[0m\u001b[1;33m\u001b[0m\u001b[0m\n\u001b[0;32m   7360\u001b[0m             \u001b[1;32mif\u001b[0m \u001b[0mlen\u001b[0m\u001b[1;33m(\u001b[0m\u001b[0mlengths\u001b[0m\u001b[1;33m)\u001b[0m \u001b[1;33m>\u001b[0m \u001b[1;36m1\u001b[0m\u001b[1;33m:\u001b[0m\u001b[1;33m\u001b[0m\u001b[0m\n\u001b[1;32m-> 7361\u001b[1;33m                 \u001b[1;32mraise\u001b[0m \u001b[0mValueError\u001b[0m\u001b[1;33m(\u001b[0m\u001b[1;34m'arrays must all be same length'\u001b[0m\u001b[1;33m)\u001b[0m\u001b[1;33m\u001b[0m\u001b[0m\n\u001b[0m\u001b[0;32m   7362\u001b[0m \u001b[1;33m\u001b[0m\u001b[0m\n\u001b[0;32m   7363\u001b[0m             \u001b[1;32mif\u001b[0m \u001b[0mhave_dicts\u001b[0m\u001b[1;33m:\u001b[0m\u001b[1;33m\u001b[0m\u001b[0m\n",
      "\u001b[1;31mValueError\u001b[0m: arrays must all be same length"
     ]
    }
   ],
   "source": [
    "indicators_name_code = pd.DataFrame({'Indicator Name':list(all_indicators),'Indicator Code': list(all_codes)}, columns =['Indicator Name', 'Indicator Code'])\n",
    "indicators_name_code"
   ]
  },
  {
   "cell_type": "code",
   "execution_count": 45,
   "metadata": {},
   "outputs": [
    {
     "ename": "NameError",
     "evalue": "name 'SH' is not defined",
     "output_type": "error",
     "traceback": [
      "\u001b[1;31m---------------------------------------------------------------------------\u001b[0m",
      "\u001b[1;31mNameError\u001b[0m                                 Traceback (most recent call last)",
      "\u001b[1;32m<ipython-input-45-2c3ba30883ae>\u001b[0m in \u001b[0;36m<module>\u001b[1;34m()\u001b[0m\n\u001b[1;32m----> 1\u001b[1;33m \u001b[0mindicator_list_wanted\u001b[0m \u001b[1;33m=\u001b[0m \u001b[1;33m[\u001b[0m\u001b[0mSH\u001b[0m\u001b[1;33m.\u001b[0m\u001b[0mSTA\u001b[0m\u001b[1;33m.\u001b[0m\u001b[0mBFED\u001b[0m\u001b[1;33m.\u001b[0m\u001b[0mZS\u001b[0m\u001b[1;33m,\u001b[0m\u001b[0mSN\u001b[0m\u001b[1;33m.\u001b[0m\u001b[0mITK\u001b[0m\u001b[1;33m.\u001b[0m\u001b[0mDEFC\u001b[0m\u001b[1;33m.\u001b[0m\u001b[0mZS\u001b[0m\u001b[1;33m,\u001b[0m\u001b[0mSH\u001b[0m\u001b[1;33m.\u001b[0m\u001b[0mSTA\u001b[0m\u001b[1;33m.\u001b[0m\u001b[0mOWGH\u001b[0m\u001b[1;33m.\u001b[0m\u001b[0mZS\u001b[0m\u001b[1;33m,\u001b[0m\u001b[0mSH\u001b[0m\u001b[1;33m.\u001b[0m\u001b[0mSTA\u001b[0m\u001b[1;33m.\u001b[0m\u001b[0mOWGH\u001b[0m\u001b[1;33m.\u001b[0m\u001b[0mFE\u001b[0m\u001b[1;33m.\u001b[0m\u001b[0mZS\u001b[0m\u001b[1;33m,\u001b[0m\u001b[0mSH\u001b[0m\u001b[1;33m.\u001b[0m\u001b[0mSTA\u001b[0m\u001b[1;33m.\u001b[0m\u001b[0mOWGH\u001b[0m\u001b[1;33m.\u001b[0m\u001b[0mMA\u001b[0m\u001b[1;33m.\u001b[0m\u001b[0mZS\u001b[0m\u001b[1;33m,\u001b[0m\u001b[0mSH\u001b[0m\u001b[1;33m.\u001b[0m\u001b[0mSVR\u001b[0m\u001b[1;33m.\u001b[0m\u001b[0mWAST\u001b[0m\u001b[1;33m.\u001b[0m\u001b[0mZS\u001b[0m\u001b[1;33m,\u001b[0m\u001b[0mSH\u001b[0m\u001b[1;33m.\u001b[0m\u001b[0mSVR\u001b[0m\u001b[1;33m.\u001b[0m\u001b[0mWAST\u001b[0m\u001b[1;33m.\u001b[0m\u001b[0mFE\u001b[0m\u001b[1;33m.\u001b[0m\u001b[0mZS\u001b[0m\u001b[1;33m,\u001b[0m\u001b[0mSH\u001b[0m\u001b[1;33m.\u001b[0m\u001b[0mSVR\u001b[0m\u001b[1;33m.\u001b[0m\u001b[0mWAST\u001b[0m\u001b[1;33m.\u001b[0m\u001b[0mMA\u001b[0m\u001b[1;33m.\u001b[0m\u001b[0mZS\u001b[0m\u001b[1;33m,\u001b[0m\u001b[0mSH\u001b[0m\u001b[1;33m.\u001b[0m\u001b[0mSTA\u001b[0m\u001b[1;33m.\u001b[0m\u001b[0mSTNT\u001b[0m\u001b[1;33m.\u001b[0m\u001b[0mZS\u001b[0m\u001b[1;33m,\u001b[0m\u001b[0mSH\u001b[0m\u001b[1;33m.\u001b[0m\u001b[0mSTA\u001b[0m\u001b[1;33m.\u001b[0m\u001b[0mSTNT\u001b[0m\u001b[1;33m.\u001b[0m\u001b[0mFE\u001b[0m\u001b[1;33m.\u001b[0m\u001b[0mZS\u001b[0m\u001b[1;33m,\u001b[0m\u001b[0mSH\u001b[0m\u001b[1;33m.\u001b[0m\u001b[0mSTA\u001b[0m\u001b[1;33m.\u001b[0m\u001b[0mSTNT\u001b[0m\u001b[1;33m.\u001b[0m\u001b[0mMA\u001b[0m\u001b[1;33m.\u001b[0m\u001b[0mZS\u001b[0m\u001b[1;33m,\u001b[0m\u001b[0mSN\u001b[0m\u001b[1;33m.\u001b[0m\u001b[0mITK\u001b[0m\u001b[1;33m.\u001b[0m\u001b[0mDEFC\u001b[0m\u001b[1;33m.\u001b[0m\u001b[0mZS\u001b[0m\u001b[1;33m,\u001b[0m\u001b[0mSH\u001b[0m\u001b[1;33m.\u001b[0m\u001b[0mSTA\u001b[0m\u001b[1;33m.\u001b[0m\u001b[0mMALN\u001b[0m\u001b[1;33m.\u001b[0m\u001b[0mZS\u001b[0m\u001b[1;33m,\u001b[0m\u001b[0mSH\u001b[0m\u001b[1;33m.\u001b[0m\u001b[0mSTA\u001b[0m\u001b[1;33m.\u001b[0m\u001b[0mMALN\u001b[0m\u001b[1;33m.\u001b[0m\u001b[0mFE\u001b[0m\u001b[1;33m.\u001b[0m\u001b[0mZS\u001b[0m\u001b[1;33m,\u001b[0m\u001b[0mSH\u001b[0m\u001b[1;33m.\u001b[0m\u001b[0mSTA\u001b[0m\u001b[1;33m.\u001b[0m\u001b[0mMALN\u001b[0m\u001b[1;33m.\u001b[0m\u001b[0mMA\u001b[0m\u001b[1;33m.\u001b[0m\u001b[0mZS\u001b[0m\u001b[1;33m,\u001b[0m\u001b[0mSH\u001b[0m\u001b[1;33m.\u001b[0m\u001b[0mSTA\u001b[0m\u001b[1;33m.\u001b[0m\u001b[0mWAST\u001b[0m\u001b[1;33m.\u001b[0m\u001b[0mZS\u001b[0m\u001b[1;33m,\u001b[0m\u001b[0mSH\u001b[0m\u001b[1;33m.\u001b[0m\u001b[0mSTA\u001b[0m\u001b[1;33m.\u001b[0m\u001b[0mWAST\u001b[0m\u001b[1;33m.\u001b[0m\u001b[0mFE\u001b[0m\u001b[1;33m.\u001b[0m\u001b[0mZS\u001b[0m\u001b[1;33m,\u001b[0m\u001b[0mSH\u001b[0m\u001b[1;33m.\u001b[0m\u001b[0mSTA\u001b[0m\u001b[1;33m.\u001b[0m\u001b[0mWAST\u001b[0m\u001b[1;33m.\u001b[0m\u001b[0mMA\u001b[0m\u001b[1;33m.\u001b[0m\u001b[0mZS\u001b[0m\u001b[1;33m]\u001b[0m\u001b[1;33m\u001b[0m\u001b[0m\n\u001b[0m",
      "\u001b[1;31mNameError\u001b[0m: name 'SH' is not defined"
     ]
    }
   ],
   "source": []
  },
  {
   "cell_type": "code",
   "execution_count": null,
   "metadata": {},
   "outputs": [],
   "source": []
  }
 ],
 "metadata": {
  "kernelspec": {
   "display_name": "Python 3",
   "language": "python",
   "name": "python3"
  },
  "language_info": {
   "codemirror_mode": {
    "name": "ipython",
    "version": 3
   },
   "file_extension": ".py",
   "mimetype": "text/x-python",
   "name": "python",
   "nbconvert_exporter": "python",
   "pygments_lexer": "ipython3",
   "version": "3.7.0"
  }
 },
 "nbformat": 4,
 "nbformat_minor": 2
}
