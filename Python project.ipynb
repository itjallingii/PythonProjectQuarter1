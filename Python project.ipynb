{
 "cells": [
  {
   "cell_type": "markdown",
   "metadata": {},
   "source": [
    "## Research questions\n",
    "### Hoofdvraag:\n",
    "To what extent is hunger in sub-Saharan Africa related to environmental hazards and how will this trend develop until 2030 under the effects of climate change?\n",
    "\n",
    "#### subquestions:\n",
    "\n",
    "- How did the indicators regarding zero hunger developed in the last decades (for sub-Saharan Africa)?\n",
    "*Use WDI data set, for indicators of zero hunger see http://datatopics.worldbank.org/sdgs/ *\n",
    "*Output graphs: some general graphs that descrice the state of hunger in sub saharan africa like nicely done here:*\n",
    "    - http://www.fao.org/state-of-food-security-nutrition/en/\n",
    "    \n",
    "\n",
    "- What has been the historic trend of environmental hazards in sub-Saharan Africa and what was the impact on the food systems?\n",
    "*Use data of EM-DAT Environmental data base and OECD Agriculture statistics, maybe focus on sub regions in Africa Output graphs could be like: \n",
    "    - http://www.fao.org/3/i8656en/I8656EN.pdf\n",
    "    \n",
    "\n",
    "- How will the trend of environmental hazards look like in the future? What will be the occurences until 2030?\n",
    "*Use data of EM-DAT and extrapolate for the various hazards for example Storms, Floods, Drought, Tsunamis*\n",
    "\n",
    "\n",
    "- How will the change in environmental hazards affect the food production output? (make some kind of and regresion model)\n",
    "*Use data of OECD Food production*\n",
    "\n",
    "\n",
    "- Which policies could counteract these negative effects on food production?\n",
    "*find some policies in papers, estimate those effects and put into a graph*\n",
    "\n",
    "## INFORMATIE BRONNEN\n",
    "statistiek over voedsel output http://www.fao.org/state-of-food-security-nutrition/en/\n",
    "\n",
    "Report over voedsel en impact van weergerelateerde rampen http://www.fao.org/documents/card/en/c/I8656EN/\n",
    "\n",
    "http://www.fao.org/state-of-food-security-nutrition/en/\n",
    "\n",
    "FAO - Climate change predictions in sub-Saharan Africa: impacts and adaptations http://www.fao.org/3/a-i7040e.pdf\n",
    "\n",
    "Database rampen: https://www.cred.be/projects/EM-DAT\n",
    "\n",
    "## Opbouw report\n",
    "#### Hoofdstuk 1: introductie en eerste graphs over \n",
    "Inleiding no hunger goal 2030 van UN\n",
    "Introductie onderzoeksvragen\n",
    "Uitleggen methodologie\n",
    "#### Hoofdstuk 2: Data preperation\n",
    "Wat voor data is gebruikt?\n",
    "Hoe is die gecleaned/bewerkt om te gebruiken\n",
    "#### Hoofdstuk 3: uitwerken onderzoeksvragen\n",
    "Uitwerken onderzoeksvraag aan de hand van analyseren data & graphs\n",
    "Schatten van toekomst met regressie analyse / trend analyses. Aan de hand van deze gegevens een schatting maken voor al deze veriabelen, maar vooral het effect op de ondervoeding/voedseltekort kjkjkj Hoofdstuk 4: aanbevelingen/conclusie\n",
    "\n",
    "\n",
    "\n",
    "\n",
    "### PythonProjectQuarter1 - opdracht vak\n",
    "Assignment Create a Jupyter Notebook that contains your explanations and analyses. Start the notebook with a clear description of your research question and the type of analysis you are going to perform. The conceptual contents of the Notebook should be roughly similar to a normal written report of 10-20 pages. Make your Notebook self-explanatory. So, it should contain text (with references) as well as your actual analysis code and results. If you want to use other libraries for your analyses or visualizations, feel free to do so. However, only use free available and well-known libraries. The ones that come standard with Anaconda are fine. If you want to use something else, that you first need to install, check with us first. Create a zip archive and upload it on Brightspace. Some (minimum) properties of the Notebook and your analyses on which we will grade:\n",
    "\n",
    "Demonstrate your skills in Python by using typical Python constructs and using the appropriate data structures (lists, dictionaries, tuples, arrays, dataframes, series, recursion, etc.)\n",
    "Try to think of reusability of your code. How easy would it be to use your same code if we want to try to do a small variations of your analysis? Can we easily adapt/play around with your code?\n",
    "How difficult were your analyses?\n"
   ]
  },
  {
   "cell_type": "markdown",
   "metadata": {},
   "source": [
    "### Indicators"
   ]
  },
  {
   "cell_type": "code",
   "execution_count": null,
   "metadata": {},
   "outputs": [],
   "source": [
    "Prevalence of undernourishment (% of population) SN.ITK.DEFC.ZS\n",
    "\n",
    "Prevalence of stunting, height for age (% of children under 5) - SH.STA.STNT.ZS\n",
    "Prevalence of stunting, height for age, female (% of children under 5) - SH.STA.STNT.FE.ZS\n",
    "Prevalence of stunting, height for age, male (% of children under 5) - SH.STA.STNT.MA.ZS\n",
    "\n",
    "AG.YLD.CREL.KG  Cereal yield (kg per hectare)\n",
    "SH.SVR.WAST.ZS  prevalence of severy wasting % of children\n",
    "SH.SVR.WAST.FE.ZS prevalence of severy wasting % of female\n",
    "SH.SVR.WAST.MA.ZS prevalence of severy wasting % of man\n",
    "SH.STA.WAST.ZS prevalence of wasting % of children\n",
    "SH.STA.WAST.FE.ZS prevalence of wasting % of female\n",
    "SH.STA.WAST.MA.ZS prevalence of wasting % of man\n",
    "\n",
    "Exclusive breastfeeding (% of children under 6 months) SH.STA.BFED.ZS\n",
    "\n",
    "Prevalence of anemia among children (% of children under 5) SH.ANM.CHLD.ZS\n",
    "Prevalence of anemia among non-pregnant women (% of women ages 15-49) SH.ANM.NPRG.ZS\n",
    "Prevalence of anemia among pregnant women (%) SH.PRG.ANEM\n",
    "Prevalence of anemia among women of reproductive age (% of women ages 15-49) SH.ANM.ALLW.ZS\n",
    "\n",
    "Prevalence of overweight, weight for height (% of children under 5) SH.STA.OWGH.ZS\n",
    "Prevalence of overweight, weight for height, female (% of children under 5) SH.STA.OWGH.FE.ZS\n",
    "Prevalence of overweight, weight for height, male (% of children under 5) SH.STA.OWGH.MA.ZS"
   ]
  },
  {
   "cell_type": "markdown",
   "metadata": {},
   "source": [
    "## Loading in data"
   ]
  },
  {
   "cell_type": "code",
   "execution_count": 1,
   "metadata": {},
   "outputs": [],
   "source": [
    "%matplotlib inline\n",
    "import pandas as pd\n",
    "import numpy as np\n",
    "import matplotlib.pyplot as plt\n",
    "from pathlib import Path\n",
    "import os\n",
    "\n",
    "\n",
    "plt.style.use('ggplot')"
   ]
  },
  {
   "cell_type": "code",
   "execution_count": 12,
   "metadata": {},
<<<<<<< HEAD
   "outputs": [],
=======
   "outputs": [
    {
     "ename": "KeyError",
     "evalue": "'Country Code'",
     "output_type": "error",
     "traceback": [
      "\u001b[1;31m---------------------------------------------------------------------------\u001b[0m",
      "\u001b[1;31mKeyError\u001b[0m                                  Traceback (most recent call last)",
      "\u001b[1;32mC:\\ProgramData\\Anaconda3\\lib\\site-packages\\pandas\\core\\indexes\\base.py\u001b[0m in \u001b[0;36mget_loc\u001b[1;34m(self, key, method, tolerance)\u001b[0m\n\u001b[0;32m   3062\u001b[0m             \u001b[1;32mtry\u001b[0m\u001b[1;33m:\u001b[0m\u001b[1;33m\u001b[0m\u001b[0m\n\u001b[1;32m-> 3063\u001b[1;33m                 \u001b[1;32mreturn\u001b[0m \u001b[0mself\u001b[0m\u001b[1;33m.\u001b[0m\u001b[0m_engine\u001b[0m\u001b[1;33m.\u001b[0m\u001b[0mget_loc\u001b[0m\u001b[1;33m(\u001b[0m\u001b[0mkey\u001b[0m\u001b[1;33m)\u001b[0m\u001b[1;33m\u001b[0m\u001b[0m\n\u001b[0m\u001b[0;32m   3064\u001b[0m             \u001b[1;32mexcept\u001b[0m \u001b[0mKeyError\u001b[0m\u001b[1;33m:\u001b[0m\u001b[1;33m\u001b[0m\u001b[0m\n",
      "\u001b[1;32mpandas\\_libs\\index.pyx\u001b[0m in \u001b[0;36mpandas._libs.index.IndexEngine.get_loc\u001b[1;34m()\u001b[0m\n",
      "\u001b[1;32mpandas\\_libs\\index.pyx\u001b[0m in \u001b[0;36mpandas._libs.index.IndexEngine.get_loc\u001b[1;34m()\u001b[0m\n",
      "\u001b[1;32mpandas\\_libs\\hashtable_class_helper.pxi\u001b[0m in \u001b[0;36mpandas._libs.hashtable.PyObjectHashTable.get_item\u001b[1;34m()\u001b[0m\n",
      "\u001b[1;32mpandas\\_libs\\hashtable_class_helper.pxi\u001b[0m in \u001b[0;36mpandas._libs.hashtable.PyObjectHashTable.get_item\u001b[1;34m()\u001b[0m\n",
      "\u001b[1;31mKeyError\u001b[0m: 'Country Code'",
      "\nDuring handling of the above exception, another exception occurred:\n",
      "\u001b[1;31mKeyError\u001b[0m                                  Traceback (most recent call last)",
      "\u001b[1;32m<ipython-input-12-635db91f0232>\u001b[0m in \u001b[0;36m<module>\u001b[1;34m()\u001b[0m\n\u001b[0;32m      3\u001b[0m \u001b[0ml\u001b[0m \u001b[1;33m=\u001b[0m \u001b[0mdfc\u001b[0m\u001b[1;33m[\u001b[0m\u001b[0mdfc\u001b[0m\u001b[1;33m[\u001b[0m\u001b[1;34m'sub-region'\u001b[0m\u001b[1;33m]\u001b[0m \u001b[1;33m==\u001b[0m \u001b[1;34m\"Sub-Saharan Africa\"\u001b[0m\u001b[1;33m]\u001b[0m\u001b[1;33m[\u001b[0m\u001b[1;34m\"alpha-3\"\u001b[0m\u001b[1;33m]\u001b[0m\u001b[1;33m\u001b[0m\u001b[0m\n\u001b[0;32m      4\u001b[0m \u001b[0mWDI\u001b[0m \u001b[1;33m=\u001b[0m \u001b[0mpd\u001b[0m\u001b[1;33m.\u001b[0m\u001b[0mread_csv\u001b[0m\u001b[1;33m(\u001b[0m\u001b[1;34m\"WDI//WDI.csv\"\u001b[0m\u001b[1;33m)\u001b[0m\u001b[1;33m\u001b[0m\u001b[0m\n\u001b[1;32m----> 5\u001b[1;33m \u001b[0mWDI_SSA\u001b[0m \u001b[1;33m=\u001b[0m \u001b[0mWDI\u001b[0m\u001b[1;33m[\u001b[0m\u001b[0mWDI\u001b[0m\u001b[1;33m[\u001b[0m\u001b[1;34m\"Country Code\"\u001b[0m\u001b[1;33m]\u001b[0m\u001b[1;33m.\u001b[0m\u001b[0misin\u001b[0m\u001b[1;33m(\u001b[0m\u001b[0ml\u001b[0m\u001b[1;33m)\u001b[0m\u001b[1;33m]\u001b[0m\u001b[1;33m\u001b[0m\u001b[0m\n\u001b[0m\u001b[0;32m      6\u001b[0m \u001b[0mWDI_SSA\u001b[0m\u001b[1;33m\u001b[0m\u001b[0m\n",
      "\u001b[1;32mC:\\ProgramData\\Anaconda3\\lib\\site-packages\\pandas\\core\\frame.py\u001b[0m in \u001b[0;36m__getitem__\u001b[1;34m(self, key)\u001b[0m\n\u001b[0;32m   2683\u001b[0m             \u001b[1;32mreturn\u001b[0m \u001b[0mself\u001b[0m\u001b[1;33m.\u001b[0m\u001b[0m_getitem_multilevel\u001b[0m\u001b[1;33m(\u001b[0m\u001b[0mkey\u001b[0m\u001b[1;33m)\u001b[0m\u001b[1;33m\u001b[0m\u001b[0m\n\u001b[0;32m   2684\u001b[0m         \u001b[1;32melse\u001b[0m\u001b[1;33m:\u001b[0m\u001b[1;33m\u001b[0m\u001b[0m\n\u001b[1;32m-> 2685\u001b[1;33m             \u001b[1;32mreturn\u001b[0m \u001b[0mself\u001b[0m\u001b[1;33m.\u001b[0m\u001b[0m_getitem_column\u001b[0m\u001b[1;33m(\u001b[0m\u001b[0mkey\u001b[0m\u001b[1;33m)\u001b[0m\u001b[1;33m\u001b[0m\u001b[0m\n\u001b[0m\u001b[0;32m   2686\u001b[0m \u001b[1;33m\u001b[0m\u001b[0m\n\u001b[0;32m   2687\u001b[0m     \u001b[1;32mdef\u001b[0m \u001b[0m_getitem_column\u001b[0m\u001b[1;33m(\u001b[0m\u001b[0mself\u001b[0m\u001b[1;33m,\u001b[0m \u001b[0mkey\u001b[0m\u001b[1;33m)\u001b[0m\u001b[1;33m:\u001b[0m\u001b[1;33m\u001b[0m\u001b[0m\n",
      "\u001b[1;32mC:\\ProgramData\\Anaconda3\\lib\\site-packages\\pandas\\core\\frame.py\u001b[0m in \u001b[0;36m_getitem_column\u001b[1;34m(self, key)\u001b[0m\n\u001b[0;32m   2690\u001b[0m         \u001b[1;31m# get column\u001b[0m\u001b[1;33m\u001b[0m\u001b[1;33m\u001b[0m\u001b[0m\n\u001b[0;32m   2691\u001b[0m         \u001b[1;32mif\u001b[0m \u001b[0mself\u001b[0m\u001b[1;33m.\u001b[0m\u001b[0mcolumns\u001b[0m\u001b[1;33m.\u001b[0m\u001b[0mis_unique\u001b[0m\u001b[1;33m:\u001b[0m\u001b[1;33m\u001b[0m\u001b[0m\n\u001b[1;32m-> 2692\u001b[1;33m             \u001b[1;32mreturn\u001b[0m \u001b[0mself\u001b[0m\u001b[1;33m.\u001b[0m\u001b[0m_get_item_cache\u001b[0m\u001b[1;33m(\u001b[0m\u001b[0mkey\u001b[0m\u001b[1;33m)\u001b[0m\u001b[1;33m\u001b[0m\u001b[0m\n\u001b[0m\u001b[0;32m   2693\u001b[0m \u001b[1;33m\u001b[0m\u001b[0m\n\u001b[0;32m   2694\u001b[0m         \u001b[1;31m# duplicate columns & possible reduce dimensionality\u001b[0m\u001b[1;33m\u001b[0m\u001b[1;33m\u001b[0m\u001b[0m\n",
      "\u001b[1;32mC:\\ProgramData\\Anaconda3\\lib\\site-packages\\pandas\\core\\generic.py\u001b[0m in \u001b[0;36m_get_item_cache\u001b[1;34m(self, item)\u001b[0m\n\u001b[0;32m   2484\u001b[0m         \u001b[0mres\u001b[0m \u001b[1;33m=\u001b[0m \u001b[0mcache\u001b[0m\u001b[1;33m.\u001b[0m\u001b[0mget\u001b[0m\u001b[1;33m(\u001b[0m\u001b[0mitem\u001b[0m\u001b[1;33m)\u001b[0m\u001b[1;33m\u001b[0m\u001b[0m\n\u001b[0;32m   2485\u001b[0m         \u001b[1;32mif\u001b[0m \u001b[0mres\u001b[0m \u001b[1;32mis\u001b[0m \u001b[1;32mNone\u001b[0m\u001b[1;33m:\u001b[0m\u001b[1;33m\u001b[0m\u001b[0m\n\u001b[1;32m-> 2486\u001b[1;33m             \u001b[0mvalues\u001b[0m \u001b[1;33m=\u001b[0m \u001b[0mself\u001b[0m\u001b[1;33m.\u001b[0m\u001b[0m_data\u001b[0m\u001b[1;33m.\u001b[0m\u001b[0mget\u001b[0m\u001b[1;33m(\u001b[0m\u001b[0mitem\u001b[0m\u001b[1;33m)\u001b[0m\u001b[1;33m\u001b[0m\u001b[0m\n\u001b[0m\u001b[0;32m   2487\u001b[0m             \u001b[0mres\u001b[0m \u001b[1;33m=\u001b[0m \u001b[0mself\u001b[0m\u001b[1;33m.\u001b[0m\u001b[0m_box_item_values\u001b[0m\u001b[1;33m(\u001b[0m\u001b[0mitem\u001b[0m\u001b[1;33m,\u001b[0m \u001b[0mvalues\u001b[0m\u001b[1;33m)\u001b[0m\u001b[1;33m\u001b[0m\u001b[0m\n\u001b[0;32m   2488\u001b[0m             \u001b[0mcache\u001b[0m\u001b[1;33m[\u001b[0m\u001b[0mitem\u001b[0m\u001b[1;33m]\u001b[0m \u001b[1;33m=\u001b[0m \u001b[0mres\u001b[0m\u001b[1;33m\u001b[0m\u001b[0m\n",
      "\u001b[1;32mC:\\ProgramData\\Anaconda3\\lib\\site-packages\\pandas\\core\\internals.py\u001b[0m in \u001b[0;36mget\u001b[1;34m(self, item, fastpath)\u001b[0m\n\u001b[0;32m   4113\u001b[0m \u001b[1;33m\u001b[0m\u001b[0m\n\u001b[0;32m   4114\u001b[0m             \u001b[1;32mif\u001b[0m \u001b[1;32mnot\u001b[0m \u001b[0misna\u001b[0m\u001b[1;33m(\u001b[0m\u001b[0mitem\u001b[0m\u001b[1;33m)\u001b[0m\u001b[1;33m:\u001b[0m\u001b[1;33m\u001b[0m\u001b[0m\n\u001b[1;32m-> 4115\u001b[1;33m                 \u001b[0mloc\u001b[0m \u001b[1;33m=\u001b[0m \u001b[0mself\u001b[0m\u001b[1;33m.\u001b[0m\u001b[0mitems\u001b[0m\u001b[1;33m.\u001b[0m\u001b[0mget_loc\u001b[0m\u001b[1;33m(\u001b[0m\u001b[0mitem\u001b[0m\u001b[1;33m)\u001b[0m\u001b[1;33m\u001b[0m\u001b[0m\n\u001b[0m\u001b[0;32m   4116\u001b[0m             \u001b[1;32melse\u001b[0m\u001b[1;33m:\u001b[0m\u001b[1;33m\u001b[0m\u001b[0m\n\u001b[0;32m   4117\u001b[0m                 \u001b[0mindexer\u001b[0m \u001b[1;33m=\u001b[0m \u001b[0mnp\u001b[0m\u001b[1;33m.\u001b[0m\u001b[0marange\u001b[0m\u001b[1;33m(\u001b[0m\u001b[0mlen\u001b[0m\u001b[1;33m(\u001b[0m\u001b[0mself\u001b[0m\u001b[1;33m.\u001b[0m\u001b[0mitems\u001b[0m\u001b[1;33m)\u001b[0m\u001b[1;33m)\u001b[0m\u001b[1;33m[\u001b[0m\u001b[0misna\u001b[0m\u001b[1;33m(\u001b[0m\u001b[0mself\u001b[0m\u001b[1;33m.\u001b[0m\u001b[0mitems\u001b[0m\u001b[1;33m)\u001b[0m\u001b[1;33m]\u001b[0m\u001b[1;33m\u001b[0m\u001b[0m\n",
      "\u001b[1;32mC:\\ProgramData\\Anaconda3\\lib\\site-packages\\pandas\\core\\indexes\\base.py\u001b[0m in \u001b[0;36mget_loc\u001b[1;34m(self, key, method, tolerance)\u001b[0m\n\u001b[0;32m   3063\u001b[0m                 \u001b[1;32mreturn\u001b[0m \u001b[0mself\u001b[0m\u001b[1;33m.\u001b[0m\u001b[0m_engine\u001b[0m\u001b[1;33m.\u001b[0m\u001b[0mget_loc\u001b[0m\u001b[1;33m(\u001b[0m\u001b[0mkey\u001b[0m\u001b[1;33m)\u001b[0m\u001b[1;33m\u001b[0m\u001b[0m\n\u001b[0;32m   3064\u001b[0m             \u001b[1;32mexcept\u001b[0m \u001b[0mKeyError\u001b[0m\u001b[1;33m:\u001b[0m\u001b[1;33m\u001b[0m\u001b[0m\n\u001b[1;32m-> 3065\u001b[1;33m                 \u001b[1;32mreturn\u001b[0m \u001b[0mself\u001b[0m\u001b[1;33m.\u001b[0m\u001b[0m_engine\u001b[0m\u001b[1;33m.\u001b[0m\u001b[0mget_loc\u001b[0m\u001b[1;33m(\u001b[0m\u001b[0mself\u001b[0m\u001b[1;33m.\u001b[0m\u001b[0m_maybe_cast_indexer\u001b[0m\u001b[1;33m(\u001b[0m\u001b[0mkey\u001b[0m\u001b[1;33m)\u001b[0m\u001b[1;33m)\u001b[0m\u001b[1;33m\u001b[0m\u001b[0m\n\u001b[0m\u001b[0;32m   3066\u001b[0m \u001b[1;33m\u001b[0m\u001b[0m\n\u001b[0;32m   3067\u001b[0m         \u001b[0mindexer\u001b[0m \u001b[1;33m=\u001b[0m \u001b[0mself\u001b[0m\u001b[1;33m.\u001b[0m\u001b[0mget_indexer\u001b[0m\u001b[1;33m(\u001b[0m\u001b[1;33m[\u001b[0m\u001b[0mkey\u001b[0m\u001b[1;33m]\u001b[0m\u001b[1;33m,\u001b[0m \u001b[0mmethod\u001b[0m\u001b[1;33m=\u001b[0m\u001b[0mmethod\u001b[0m\u001b[1;33m,\u001b[0m \u001b[0mtolerance\u001b[0m\u001b[1;33m=\u001b[0m\u001b[0mtolerance\u001b[0m\u001b[1;33m)\u001b[0m\u001b[1;33m\u001b[0m\u001b[0m\n",
      "\u001b[1;32mpandas\\_libs\\index.pyx\u001b[0m in \u001b[0;36mpandas._libs.index.IndexEngine.get_loc\u001b[1;34m()\u001b[0m\n",
      "\u001b[1;32mpandas\\_libs\\index.pyx\u001b[0m in \u001b[0;36mpandas._libs.index.IndexEngine.get_loc\u001b[1;34m()\u001b[0m\n",
      "\u001b[1;32mpandas\\_libs\\hashtable_class_helper.pxi\u001b[0m in \u001b[0;36mpandas._libs.hashtable.PyObjectHashTable.get_item\u001b[1;34m()\u001b[0m\n",
      "\u001b[1;32mpandas\\_libs\\hashtable_class_helper.pxi\u001b[0m in \u001b[0;36mpandas._libs.hashtable.PyObjectHashTable.get_item\u001b[1;34m()\u001b[0m\n",
      "\u001b[1;31mKeyError\u001b[0m: 'Country Code'"
     ]
    }
   ],
>>>>>>> 736bb0384d66ac74cf8ae175959e509149cd1888
   "source": [
    "#downlaod dfc from: https://raw.githubusercontent.com/lukes/ISO-3166-Countries-with-Regional-Codes/master/all/all.csv\n",
    "dfc = pd.read_csv(\"other//countriescodes.txt\", sep = \",\", encoding = 'latin-1')\n",
    "l = dfc[dfc['sub-region'] == \"Sub-Saharan Africa\"][\"alpha-3\"]\n",
    "WDI = pd.read_csv(\"WDI//WDI.csv\")\n",
    "WDI_SSA = WDI[WDI[\"Country Code\"].isin(l)]\n",
    "WDI_SSA"
   ]
  },
  {
   "cell_type": "code",
<<<<<<< HEAD
   "execution_count": 13,
=======
   "execution_count": null,
<<<<<<< HEAD
=======
>>>>>>> 736bb0384d66ac74cf8ae175959e509149cd1888
   "metadata": {},
   "outputs": [
    {
     "data": {
      "text/plain": [
       "<matplotlib.axes._subplots.AxesSubplot at 0x19ed2558470>"
      ]
     },
     "execution_count": 13,
     "metadata": {},
     "output_type": "execute_result"
    },
    {
     "data": {
      "image/png": "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\n",
      "text/plain": [
       "<Figure size 432x288 with 1 Axes>"
      ]
     },
     "metadata": {},
     "output_type": "display_data"
    }
   ],
   "source": [
    "#list with indicators for further analysis\n",
    "li = [\"NY.ADJ.NNTY.CD\"] #for natural hazards  \"SN.ITK.DFCT\", \"EN.CLC.MDAT.ZS\"\n",
    "WDI_SSA = WDI_SSA[WDI_SSA[\"Indicator Code\"].isin(li) ]\n",
    "#get all the necessary columns\n",
    "SSA_00_17 = pd.concat([WDI_SSA.loc[:,'Country Name':'Indicator Code'],WDI_SSA.loc[:,'1980':'2017']], axis=1)\n",
    "#melt the data into a long format\n",
    "melted = pd.melt(SSA_00_17, id_vars=[\"Country Name\", \"Country Code\", \"Indicator Name\", \"Indicator Code\"], var_name=\"Year\", value_name=\"Value\")\n",
    "#plot indicator over time for one country\n",
    "country = melted.loc[melted['Country Name'] == 'Nigeria']\n",
    "country.plot(x = 'Year', y = 'Value')"
   ]
  },
  {
   "cell_type": "code",
<<<<<<< HEAD
   "execution_count": 14,
   "metadata": {},
   "outputs": [
    {
     "data": {
      "text/plain": [
       "'C:\\\\Users\\\\Rob\\\\Documents\\\\GitHub\\\\data'"
      ]
     },
     "execution_count": 14,
     "metadata": {},
     "output_type": "execute_result"
    }
   ],
=======
   "execution_count": 5,
>>>>>>> 82088f35ea7d8bcb01eb1887fc41a014840db692
   "metadata": {},
   "outputs": [],
>>>>>>> 736bb0384d66ac74cf8ae175959e509149cd1888
   "source": [
    "#os.chdir(\"C://Users//ivarnieuwepc//Documents//GitHub//Data\")\n",
    "os.chdir(\"C://Users//Rob//Documents//GitHub//data\")\n",
    "os.getcwd()"
   ]
  },
  {
   "cell_type": "code",
<<<<<<< HEAD
   "execution_count": 15,
   "metadata": {},
   "outputs": [
    {
     "ename": "FileNotFoundError",
     "evalue": "File b'WDI//WDI.csv' does not exist",
     "output_type": "error",
     "traceback": [
      "\u001b[1;31m---------------------------------------------------------------------------\u001b[0m",
      "\u001b[1;31mFileNotFoundError\u001b[0m                         Traceback (most recent call last)",
      "\u001b[1;32m<ipython-input-15-d55ab64be1d3>\u001b[0m in \u001b[0;36m<module>\u001b[1;34m()\u001b[0m\n\u001b[0;32m      1\u001b[0m \u001b[0mdf_sdg\u001b[0m \u001b[1;33m=\u001b[0m \u001b[0mpd\u001b[0m\u001b[1;33m.\u001b[0m\u001b[0mread_csv\u001b[0m\u001b[1;33m(\u001b[0m\u001b[1;34m\"SDG//SDGData.csv\"\u001b[0m\u001b[1;33m)\u001b[0m\u001b[1;33m\u001b[0m\u001b[0m\n\u001b[1;32m----> 2\u001b[1;33m \u001b[0mdf_wdi\u001b[0m \u001b[1;33m=\u001b[0m \u001b[0mpd\u001b[0m\u001b[1;33m.\u001b[0m\u001b[0mread_csv\u001b[0m\u001b[1;33m(\u001b[0m\u001b[1;34m\"WDI//WDI.csv\"\u001b[0m\u001b[1;33m)\u001b[0m\u001b[1;33m\u001b[0m\u001b[0m\n\u001b[0m\u001b[0;32m      3\u001b[0m \u001b[0mdf_wdi\u001b[0m\u001b[1;33m\u001b[0m\u001b[0m\n\u001b[0;32m      4\u001b[0m \u001b[0mall_indicators\u001b[0m \u001b[1;33m=\u001b[0m \u001b[0mdf_sdg\u001b[0m\u001b[1;33m[\u001b[0m\u001b[1;34m\"Indicator Name\"\u001b[0m\u001b[1;33m]\u001b[0m\u001b[1;33m.\u001b[0m\u001b[0munique\u001b[0m\u001b[1;33m(\u001b[0m\u001b[1;33m)\u001b[0m\u001b[1;33m\u001b[0m\u001b[0m\n\u001b[0;32m      5\u001b[0m \u001b[0mall_codes\u001b[0m \u001b[1;33m=\u001b[0m \u001b[0mdf_sdg\u001b[0m\u001b[1;33m[\u001b[0m\u001b[1;34m\"Indicator Code\"\u001b[0m\u001b[1;33m]\u001b[0m\u001b[1;33m.\u001b[0m\u001b[0munique\u001b[0m\u001b[1;33m(\u001b[0m\u001b[1;33m)\u001b[0m\u001b[1;33m\u001b[0m\u001b[0m\n",
      "\u001b[1;32m~\\Anaconda3\\lib\\site-packages\\pandas\\io\\parsers.py\u001b[0m in \u001b[0;36mparser_f\u001b[1;34m(filepath_or_buffer, sep, delimiter, header, names, index_col, usecols, squeeze, prefix, mangle_dupe_cols, dtype, engine, converters, true_values, false_values, skipinitialspace, skiprows, nrows, na_values, keep_default_na, na_filter, verbose, skip_blank_lines, parse_dates, infer_datetime_format, keep_date_col, date_parser, dayfirst, iterator, chunksize, compression, thousands, decimal, lineterminator, quotechar, quoting, escapechar, comment, encoding, dialect, tupleize_cols, error_bad_lines, warn_bad_lines, skipfooter, doublequote, delim_whitespace, low_memory, memory_map, float_precision)\u001b[0m\n\u001b[0;32m    676\u001b[0m                     skip_blank_lines=skip_blank_lines)\n\u001b[0;32m    677\u001b[0m \u001b[1;33m\u001b[0m\u001b[0m\n\u001b[1;32m--> 678\u001b[1;33m         \u001b[1;32mreturn\u001b[0m \u001b[0m_read\u001b[0m\u001b[1;33m(\u001b[0m\u001b[0mfilepath_or_buffer\u001b[0m\u001b[1;33m,\u001b[0m \u001b[0mkwds\u001b[0m\u001b[1;33m)\u001b[0m\u001b[1;33m\u001b[0m\u001b[0m\n\u001b[0m\u001b[0;32m    679\u001b[0m \u001b[1;33m\u001b[0m\u001b[0m\n\u001b[0;32m    680\u001b[0m     \u001b[0mparser_f\u001b[0m\u001b[1;33m.\u001b[0m\u001b[0m__name__\u001b[0m \u001b[1;33m=\u001b[0m \u001b[0mname\u001b[0m\u001b[1;33m\u001b[0m\u001b[0m\n",
      "\u001b[1;32m~\\Anaconda3\\lib\\site-packages\\pandas\\io\\parsers.py\u001b[0m in \u001b[0;36m_read\u001b[1;34m(filepath_or_buffer, kwds)\u001b[0m\n\u001b[0;32m    438\u001b[0m \u001b[1;33m\u001b[0m\u001b[0m\n\u001b[0;32m    439\u001b[0m     \u001b[1;31m# Create the parser.\u001b[0m\u001b[1;33m\u001b[0m\u001b[1;33m\u001b[0m\u001b[0m\n\u001b[1;32m--> 440\u001b[1;33m     \u001b[0mparser\u001b[0m \u001b[1;33m=\u001b[0m \u001b[0mTextFileReader\u001b[0m\u001b[1;33m(\u001b[0m\u001b[0mfilepath_or_buffer\u001b[0m\u001b[1;33m,\u001b[0m \u001b[1;33m**\u001b[0m\u001b[0mkwds\u001b[0m\u001b[1;33m)\u001b[0m\u001b[1;33m\u001b[0m\u001b[0m\n\u001b[0m\u001b[0;32m    441\u001b[0m \u001b[1;33m\u001b[0m\u001b[0m\n\u001b[0;32m    442\u001b[0m     \u001b[1;32mif\u001b[0m \u001b[0mchunksize\u001b[0m \u001b[1;32mor\u001b[0m \u001b[0miterator\u001b[0m\u001b[1;33m:\u001b[0m\u001b[1;33m\u001b[0m\u001b[0m\n",
      "\u001b[1;32m~\\Anaconda3\\lib\\site-packages\\pandas\\io\\parsers.py\u001b[0m in \u001b[0;36m__init__\u001b[1;34m(self, f, engine, **kwds)\u001b[0m\n\u001b[0;32m    785\u001b[0m             \u001b[0mself\u001b[0m\u001b[1;33m.\u001b[0m\u001b[0moptions\u001b[0m\u001b[1;33m[\u001b[0m\u001b[1;34m'has_index_names'\u001b[0m\u001b[1;33m]\u001b[0m \u001b[1;33m=\u001b[0m \u001b[0mkwds\u001b[0m\u001b[1;33m[\u001b[0m\u001b[1;34m'has_index_names'\u001b[0m\u001b[1;33m]\u001b[0m\u001b[1;33m\u001b[0m\u001b[0m\n\u001b[0;32m    786\u001b[0m \u001b[1;33m\u001b[0m\u001b[0m\n\u001b[1;32m--> 787\u001b[1;33m         \u001b[0mself\u001b[0m\u001b[1;33m.\u001b[0m\u001b[0m_make_engine\u001b[0m\u001b[1;33m(\u001b[0m\u001b[0mself\u001b[0m\u001b[1;33m.\u001b[0m\u001b[0mengine\u001b[0m\u001b[1;33m)\u001b[0m\u001b[1;33m\u001b[0m\u001b[0m\n\u001b[0m\u001b[0;32m    788\u001b[0m \u001b[1;33m\u001b[0m\u001b[0m\n\u001b[0;32m    789\u001b[0m     \u001b[1;32mdef\u001b[0m \u001b[0mclose\u001b[0m\u001b[1;33m(\u001b[0m\u001b[0mself\u001b[0m\u001b[1;33m)\u001b[0m\u001b[1;33m:\u001b[0m\u001b[1;33m\u001b[0m\u001b[0m\n",
      "\u001b[1;32m~\\Anaconda3\\lib\\site-packages\\pandas\\io\\parsers.py\u001b[0m in \u001b[0;36m_make_engine\u001b[1;34m(self, engine)\u001b[0m\n\u001b[0;32m   1012\u001b[0m     \u001b[1;32mdef\u001b[0m \u001b[0m_make_engine\u001b[0m\u001b[1;33m(\u001b[0m\u001b[0mself\u001b[0m\u001b[1;33m,\u001b[0m \u001b[0mengine\u001b[0m\u001b[1;33m=\u001b[0m\u001b[1;34m'c'\u001b[0m\u001b[1;33m)\u001b[0m\u001b[1;33m:\u001b[0m\u001b[1;33m\u001b[0m\u001b[0m\n\u001b[0;32m   1013\u001b[0m         \u001b[1;32mif\u001b[0m \u001b[0mengine\u001b[0m \u001b[1;33m==\u001b[0m \u001b[1;34m'c'\u001b[0m\u001b[1;33m:\u001b[0m\u001b[1;33m\u001b[0m\u001b[0m\n\u001b[1;32m-> 1014\u001b[1;33m             \u001b[0mself\u001b[0m\u001b[1;33m.\u001b[0m\u001b[0m_engine\u001b[0m \u001b[1;33m=\u001b[0m \u001b[0mCParserWrapper\u001b[0m\u001b[1;33m(\u001b[0m\u001b[0mself\u001b[0m\u001b[1;33m.\u001b[0m\u001b[0mf\u001b[0m\u001b[1;33m,\u001b[0m \u001b[1;33m**\u001b[0m\u001b[0mself\u001b[0m\u001b[1;33m.\u001b[0m\u001b[0moptions\u001b[0m\u001b[1;33m)\u001b[0m\u001b[1;33m\u001b[0m\u001b[0m\n\u001b[0m\u001b[0;32m   1015\u001b[0m         \u001b[1;32melse\u001b[0m\u001b[1;33m:\u001b[0m\u001b[1;33m\u001b[0m\u001b[0m\n\u001b[0;32m   1016\u001b[0m             \u001b[1;32mif\u001b[0m \u001b[0mengine\u001b[0m \u001b[1;33m==\u001b[0m \u001b[1;34m'python'\u001b[0m\u001b[1;33m:\u001b[0m\u001b[1;33m\u001b[0m\u001b[0m\n",
      "\u001b[1;32m~\\Anaconda3\\lib\\site-packages\\pandas\\io\\parsers.py\u001b[0m in \u001b[0;36m__init__\u001b[1;34m(self, src, **kwds)\u001b[0m\n\u001b[0;32m   1706\u001b[0m         \u001b[0mkwds\u001b[0m\u001b[1;33m[\u001b[0m\u001b[1;34m'usecols'\u001b[0m\u001b[1;33m]\u001b[0m \u001b[1;33m=\u001b[0m \u001b[0mself\u001b[0m\u001b[1;33m.\u001b[0m\u001b[0musecols\u001b[0m\u001b[1;33m\u001b[0m\u001b[0m\n\u001b[0;32m   1707\u001b[0m \u001b[1;33m\u001b[0m\u001b[0m\n\u001b[1;32m-> 1708\u001b[1;33m         \u001b[0mself\u001b[0m\u001b[1;33m.\u001b[0m\u001b[0m_reader\u001b[0m \u001b[1;33m=\u001b[0m \u001b[0mparsers\u001b[0m\u001b[1;33m.\u001b[0m\u001b[0mTextReader\u001b[0m\u001b[1;33m(\u001b[0m\u001b[0msrc\u001b[0m\u001b[1;33m,\u001b[0m \u001b[1;33m**\u001b[0m\u001b[0mkwds\u001b[0m\u001b[1;33m)\u001b[0m\u001b[1;33m\u001b[0m\u001b[0m\n\u001b[0m\u001b[0;32m   1709\u001b[0m \u001b[1;33m\u001b[0m\u001b[0m\n\u001b[0;32m   1710\u001b[0m         \u001b[0mpassed_names\u001b[0m \u001b[1;33m=\u001b[0m \u001b[0mself\u001b[0m\u001b[1;33m.\u001b[0m\u001b[0mnames\u001b[0m \u001b[1;32mis\u001b[0m \u001b[1;32mNone\u001b[0m\u001b[1;33m\u001b[0m\u001b[0m\n",
      "\u001b[1;32mpandas\\_libs\\parsers.pyx\u001b[0m in \u001b[0;36mpandas._libs.parsers.TextReader.__cinit__\u001b[1;34m()\u001b[0m\n",
      "\u001b[1;32mpandas\\_libs\\parsers.pyx\u001b[0m in \u001b[0;36mpandas._libs.parsers.TextReader._setup_parser_source\u001b[1;34m()\u001b[0m\n",
      "\u001b[1;31mFileNotFoundError\u001b[0m: File b'WDI//WDI.csv' does not exist"
     ]
    }
   ],
=======
   "execution_count": null,
   "metadata": {},
   "outputs": [],
>>>>>>> 736bb0384d66ac74cf8ae175959e509149cd1888
   "source": [
    "df_sdg = pd.read_csv(\"SDG//SDGData.csv\")\n",
    "df_wdi = pd.read_csv(\"WDI//WDI.csv\")\n",
    "df_wdi\n",
    "all_indicators = df_sdg[\"Indicator Name\"].unique()\n",
    "all_codes = df_sdg[\"Indicator Code\"].unique()\n",
    "type(all_codes)"
   ]
  },
  {
   "cell_type": "code",
   "execution_count": null,
   "metadata": {},
   "outputs": [],
   "source": []
  },
  {
   "cell_type": "code",
   "execution_count": 3,
   "metadata": {},
   "outputs": [],
   "source": [
    "#indicators_name_code = pd.DataFrame({'Indicator Name':list(all_indicators),'Indicator Code': list(all_codes)}, columns =['Indicator Name', 'Indicator Code'])"
   ]
  },
  {
   "cell_type": "code",
   "execution_count": null,
   "metadata": {},
   "outputs": [],
   "source": []
  },
  {
   "cell_type": "code",
   "execution_count": null,
   "metadata": {},
   "outputs": [],
   "source": [
    "os.chdir(\"C://Users//ivarnieuwepc//Documents//GitHub//Data\")\n",
    "os.getcwd()\n",
    "df_emd = pd.read_csv(\"Other//disaster_data_africa_1960_2018_conv.csv\",sep = ';',encoding = 'utf -8')\n",
    "df_emd\n",
    "\n"
   ]
  },
  {
   "cell_type": "code",
   "execution_count": 6,
   "metadata": {},
   "outputs": [],
   "source": [
    "import pandas as pd\n",
    "import numpy as np\n",
    "import matplotlib.pyplot as plt\n",
    "from pathlib import Path\n",
    "import os\n",
    "\n",
    "\n",
    "df_emd_null = df_emd.fillna(0)\n",
    "x = df_emd_null[\"year\"].unique()\n",
    "y = df_emd_null[[\"year\",\"disaster type\"]]"
   ]
  },
  {
   "cell_type": "code",
   "execution_count": null,
   "metadata": {},
   "outputs": [],
   "source": []
  },
  {
   "cell_type": "code",
   "execution_count": null,
   "metadata": {},
   "outputs": [],
   "source": []
  }
 ],
 "metadata": {
  "kernelspec": {
   "display_name": "Python 3",
   "language": "python",
   "name": "python3"
  },
  "language_info": {
   "codemirror_mode": {
    "name": "ipython",
    "version": 3
   },
   "file_extension": ".py",
   "mimetype": "text/x-python",
   "name": "python",
   "nbconvert_exporter": "python",
   "pygments_lexer": "ipython3",
   "version": "3.6.5"
  }
 },
 "nbformat": 4,
 "nbformat_minor": 2
}
