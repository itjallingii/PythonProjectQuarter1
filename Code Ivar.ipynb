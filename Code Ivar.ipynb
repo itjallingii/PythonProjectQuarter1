{
 "cells": [
  {
   "cell_type": "markdown",
   "metadata": {},
   "source": [
    "<h1 align='center' style='margin-bottom: 0px'>The state of Food Security in Sub-Saharan Africa</h1>\n",
    "<h3 align='center' style='margin-top: 10px'> The analysis off the effects of environmental hazards and food security in Sub-Saharan Africa</h3>"
   ]
  },
  {
   "cell_type": "code",
   "execution_count": null,
   "metadata": {
    "scrolled": true
   },
   "outputs": [],
   "source": [
    "from IPython.display import Image\n",
    "Image(filename='Report afbeelding 1.jpg')"
   ]
  },
  {
   "cell_type": "markdown",
   "metadata": {},
   "source": [
    "<h4 align='right' style='margin-bottom: 0px'>27 October 2018, The Hague</h4>\n",
    "<h4 align='right' style='margin-top: 10px'>Ivar Tjallingii, Rob Dregmans, Martijn van Vliet</h4>"
   ]
  },
  {
   "cell_type": "markdown",
   "metadata": {},
   "source": []
  },
  {
   "cell_type": "code",
   "execution_count": null,
   "metadata": {},
   "outputs": [],
   "source": [
    "#for Ivar (no plotly)\n",
    "\n",
    "import os\n",
    "import pandas as pd\n",
    "import numpy as np\n",
    "import matplotlib.pyplot as plt\n",
    "from pathlib import Path\n",
    "import itertools\n",
    "import seaborn as sns\n",
    "\n",
    "os.chdir(\"C://Users//ivarnieuwepc//Documents//GitHub//Data\")"
   ]
  },
  {
   "cell_type": "markdown",
   "metadata": {},
   "source": [
    "<h2 align='left' style='margin-bottom: 0px'>Table of Contents</h2>\n",
    "\n",
    "#### [1  Introduction to food security in Sub-Saharan Africa](#first-chapter)\n",
    "\n",
    "- [1.1 UN Targets](#UN_Targets)  \n",
    "- [1.2 Recent developments](#dev) \n",
    "- [1.3 Sub Saharan Africa](#SSA)\n",
    "\n",
    "#### [2  Methodology & Research questions](#second-chapter)\n",
    "- [1.1 UN Targets](#Methodology)  \n",
    "- [1.2 Recent developments](#dev) \n",
    "- [1.3 Sub Saharan Africa](#SSA)\n",
    "\n",
    "#### [3  Data Preparation](#third-chapter)\n",
    "- [1.1 UN Targets](#UN_Targets)  \n",
    "- [1.2 Recent developments](#dev) \n",
    "- [1.3 Sub Saharan Africa](#SSA)\n",
    "\n",
    "#### [4  Data Analysis](#fourth-chapter)\n",
    "\n",
    "#### [5  Policy recommendation](#fift-chapter)\n",
    "\n",
    "#### [6 References](#ref)"
   ]
  },
  {
   "cell_type": "markdown",
   "metadata": {},
   "source": [
    "<h2 align='left' style='margin-bottom: 0px'>1 Introduction to food security in Sub-Saharan Africa  <a class=\"anchor\" id=\"first-chapter\"></a> </h2>\n",
    "\n",
    "The world has committed themselves stopping hunger in the world by 2030 adopted in 215. The goal to stop the prevalence of hunger forms Sustainable Development Goal (SDG) number two of the total seventeen SDG's set up in the 2030 Agenda for Sustainable Development. These goals provide a blueprint for peace and prosperity for people and the planet [2]. We have to rethink how we grow, share and consume our food. Only then agriculture, forestry and fisheries can provide food for all people around the world and generate decent incomes, while supporting people-cantered, rural development and protecting the environment [3].\n",
    "\n",
    "<h3 align='left' style='margin-bottom: 0px'>1.1 UN Targets <a class=\"anchor\" id=\"UN_Targets\"></a> </h3>\n",
    "To act on this goal to obtain enough food for everyone and stopping other negative side effects, five main targets have been set out for 2030 by all United Nations Member States[1]:\n",
    "\n",
    "- 2.1: End hunger and ensure access by all people\n",
    "- 2.2: End all forms of malnutrition, including achieving targets on stunting and wasting \n",
    "- 2.3: Double the agricultural productivity and incomes of small-scale food producers\n",
    "- 2.4: Ensure sustainable food production systems and implement resilient agricultural practices that increase productivity and production.\n",
    "- 2.5: Maintain the genetic diversity of seeds, cultivated plants and farmed and domesticated animals and their related wild species.\n",
    "\n",
    "Malnutrition and related effects slow down development within whole countries. Hunger and malnutrition have a ripple effect that slow down and freezes development. Especially for children, the effects of malnutrition can last a lifetime. Poor nutrition affects physical and mental development which can have a tremendous negative effect on the development of individuals and hereby the economic output of a country [5].\n",
    "\n",
    "<h3 align='left' style='margin-bottom: 0px'>1.2 Recent developments <a class=\"anchor\" id=\"dev\"></a> </h3>\n",
    "Since 1990, the prevalence of hunger has fallen across most regions. Globally, hunger has fallen from 14.7 percent in 2000 to 10.9 percent in 2017. But the progress has not been consistent for the whole period. Global hunger reached its lowest levels in 2015 but has now risen to 10.8 and 10.9 percent in 2016 and 2017 [4]. This increase in hunger levels are largely a result of increases in Sub-Saharan Africa and minor increases in South America [5]. Also, the UN FAO linked the increase of PoU to the rise in conflicts which often leads to famine, and climate factors such as the El Niño phenomenon and climate change which could be the cause of more climate related hazards [6]. \n",
    "\n",
    "<h3 align='left' style='margin-bottom: 0px'>1.3 Sub Saharan Africa <a class=\"anchor\" id=\"SSA\"></a> </h3>\n",
    "Chronic undernourishment is widespread throughout the region of Africa, see figure X. Almost X percent of the population of Sub Saharan Africa are undernourished. The region remain exposed to food crises and famines triggered by droughts, floods, pest, economic downturns and conflicts. Sub-Saharan Africa is the only region of the world, where it is expected that the state of hunger will worsen over the coming decades [7].\n",
    "\n",
    "This is why Sub Saharan Africa is our scope of this data exploration paper. The goal of this report is to gain more insight in the data behind the rising hunger in Sub Saharan Africa. What is the detailed current state of hunger in SSA, what is causing it and which policy options need to be worked out that counteract the current trend of rapid rise of hunger, famine and its related side effects. Only when we have this knowledge then, Sub Saharan Africa can achieve the proper economic development to rise up from poperty and catch on with the other parts of the developing world.  \n"
   ]
  },
  {
   "cell_type": "markdown",
   "metadata": {},
   "source": []
  },
  {
   "cell_type": "markdown",
   "metadata": {},
   "source": []
  },
  {
   "cell_type": "code",
   "execution_count": null,
   "metadata": {},
   "outputs": [],
   "source": []
  }
 ],
 "metadata": {
  "kernelspec": {
   "display_name": "Python 3",
   "language": "python",
   "name": "python3"
  },
  "language_info": {
   "codemirror_mode": {
    "name": "ipython",
    "version": 3
   },
   "file_extension": ".py",
   "mimetype": "text/x-python",
   "name": "python",
   "nbconvert_exporter": "python",
   "pygments_lexer": "ipython3",
   "version": "3.7.0"
  }
 },
 "nbformat": 4,
 "nbformat_minor": 2
}
